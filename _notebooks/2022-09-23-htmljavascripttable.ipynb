{
 "cells": [
  {
   "cell_type": "markdown",
   "metadata": {},
   "source": [
    "# HTML & JavaScript Table\n",
    "\n",
    "- toc: true\n",
    "- badges: false\n",
    "- comments: true\n",
    "- author: Kaiden Do\n",
    "- categories: [week5]"
   ]
  },
  {
   "cell_type": "markdown",
   "metadata": {},
   "source": [
    "{% include navbarsubmenu.html %}"
   ]
  },
  {
   "cell_type": "code",
   "execution_count": 11,
   "metadata": {},
   "outputs": [
    {
     "data": {
      "text/html": [
       "<div style='display:inline-block;border: 5px solid green;box-shadow: 1em 1em 1em yellow;'><table><tr><th><b>Name</b></th><th><b>Color</b></th><th><b>Calories</b></th><th><b>Type</b></th></tr><tr><td>Water</td><td>Clear</td><td>0</td><td>Water</td><tr><tr><td>Fanta</td><td>Orange</td><td>160</td><td>Soda</td><tr><tr><td>Mtn Dew</td><td>Green</td><td>170</td><td>Soda</td><tr><tr><td>Root Beer</td><td>Brown</td><td>180</td><td>Soda</td><tr><tr><td>Coca-Cola</td><td>Brown</td><td>140</td><td>Soda</td><tr><tr><td>Pepsi</td><td>Brown</td><td>150</td><td>Soda</td><tr><tr><td>Sprite</td><td>Clear</td><td>140</td><td>Soda</td><tr><tr><td>Apple Juice</td><td>Gold-Yellow</td><td>180</td><td>Juice</td><tr><tr><td>Orange Juice</td><td>Orange-Yellow</td><td>110</td><td>Juice</td><tr><tr><td>Cranberry Juice</td><td>Red</td><td>100</td><td>Juice</td><tr></table></div>"
      ]
     },
     "execution_count": 11,
     "metadata": {},
     "output_type": "execute_result"
    }
   ],
   "source": [
    "Drinks.prototype._toHtml = function() {\n",
    "    var style = (\n",
    "      \"display:inline-block;\" +\n",
    "      \"border: 5px solid green;\" +\n",
    "      \"box-shadow: 1em 1em 1em yellow;\"\n",
    "    );\n",
    "    var body = \"\";\n",
    "    body += \"<tr>\";\n",
    "    body += \"<th><b>\" + \"Name\" + \"</b></th>\";\n",
    "    body += \"<th><b>\" + \"Color\" + \"</b></th>\";\n",
    "    body += \"<th><b>\" + \"Calories\" + \"</b></th>\";\n",
    "    body += \"<th><b>\" + \"Type\" + \"</b></th>\";\n",
    "    body += \"</tr>\";\n",
    "    for (var row of pantry.drinks) {\n",
    "      body += \"<tr>\";\n",
    "      body += \"<td>\" + row.name + \"</td>\";\n",
    "      body += \"<td>\" + row.color + \"</td>\";\n",
    "      body += \"<td>\" + row.calories + \"</td>\";\n",
    "      body += \"<td>\" + row.type + \"</td>\";\n",
    "      body += \"<tr>\";\n",
    "    }\n",
    "  \n",
    "    return (\n",
    "      \"<div style='\" + style + \"'>\" +\n",
    "        \"<table>\" +\n",
    "          body +\n",
    "        \"</table>\" +\n",
    "      \"</div>\"\n",
    "    );\n",
    "  \n",
    "  };\n",
    "  \n",
    "  $$.html(pantry._toHtml());"
   ]
  }
 ],
 "metadata": {
  "kernelspec": {
   "display_name": "JavaScript (Node.js)",
   "language": "javascript",
   "name": "javascript"
  },
  "language_info": {
   "file_extension": ".js",
   "mimetype": "application/javascript",
   "name": "javascript",
   "version": "6.11.2"
  },
  "orig_nbformat": 4,
  "vscode": {
   "interpreter": {
    "hash": "916dbcbb3f70747c44a77c7bcd40155683ae19c65e1c03b4aa3499c5328201f1"
   }
  }
 },
 "nbformat": 4,
 "nbformat_minor": 2
}
