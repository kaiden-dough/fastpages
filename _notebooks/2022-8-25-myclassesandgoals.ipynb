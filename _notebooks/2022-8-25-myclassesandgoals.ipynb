{
 "cells": [
  {
   "cell_type": "markdown",
   "metadata": {},
   "source": [
    "# My Class and Goals\n",
    "> Below are my class and my goals I desire to accomplish for each class.\n",
    "\n",
    "- toc: true\n",
    "- badges: false\n",
    "- comments: true\n",
    "- author: Kaiden Do\n",
    "- categories: [jupyter]\n",
    "- image: images/Del_Norte__CA__Nighthawks_Logo.png"
   ]
  },
  {
   "cell_type": "markdown",
   "metadata": {},
   "source": [
    "## Trimester 1\n",
    "### AP Physics Mechanics - Period 1\n",
    "### United States History - Period 2\n",
    "### AP Computer Science Principles - Period 3\n",
    "### AP Calculus BC - Period 4\n",
    "### AP English Language - Period 5\n",
    "\n",
    "\n",
    "## Trimester 2\n",
    "TBD\n",
    "\n",
    "## Trimester 3\n",
    "TBD"
   ]
  }
 ],
 "metadata": {
  "kernelspec": {
   "display_name": "Python 3.8.10 64-bit",
   "language": "python",
   "name": "python3"
  },
  "language_info": {
   "name": "python",
   "version": "3.8.10"
  },
  "orig_nbformat": 4,
  "vscode": {
   "interpreter": {
    "hash": "916dbcbb3f70747c44a77c7bcd40155683ae19c65e1c03b4aa3499c5328201f1"
   }
  }
 },
 "nbformat": 4,
 "nbformat_minor": 2
}
