{
 "cells": [
  {
   "attachments": {},
   "cell_type": "markdown",
   "metadata": {},
   "source": [
    "# Sorting Algorithms\n",
    "> Working with Data Structures and manipulating data.\n",
    "\n",
    "- toc: true\n",
    "- categories: []\n",
    "- type: pbl\n",
    "- week: 34"
   ]
  },
  {
   "attachments": {},
   "cell_type": "markdown",
   "metadata": {},
   "source": [
    "[wget link](https://raw.githubusercontent.com/nighthawkcoders/APCSP/master/_notebooks/2023-05-15-DS-sorting.ipynb)"
   ]
  },
  {
   "cell_type": "code",
   "execution_count": 1,
   "metadata": {},
   "outputs": [
    {
     "name": "stdout",
     "output_type": "stream",
     "text": [
      "Random List\n",
      "[70, 88, 8, 54, 95, 47, 71, 90, 20, 36]\n"
     ]
    }
   ],
   "source": [
    "import random\n",
    "\n",
    "numbers = []\n",
    "for i in range(10):\n",
    "    numbers.append(random.randint(0,100))\n",
    "print(\"Random List\")\n",
    "print(numbers)"
   ]
  },
  {
   "attachments": {},
   "cell_type": "markdown",
   "metadata": {},
   "source": [
    "# Warm Up\n",
    "\n",
    "> Discuss with a partner... \n",
    "What are some strategies you would use to sort this list? (Don't worry about writing code for now)\n",
    "- I would find the smallest number, then the next smallest until the list is sorted."
   ]
  },
  {
   "attachments": {},
   "cell_type": "markdown",
   "metadata": {},
   "source": [
    "# Explore\n",
    "\n",
    "Get into groups of 3\n",
    "\n",
    "We will be focusing on 4 algorithms today.\n",
    "\n",
    "We will look at the first one together, Bubble Sort\n",
    "\n",
    "![](images/bubble-sort.png)\n",
    "\n",
    "What is happening with this sort?\n",
    "- It compares the first value with the next, if it is smaller it swaps. Then it moves on and does the same. It loops through the list and goes through each one and compares it until it is sorted.\n",
    "\n",
    "In your groups you will each choose to be an expert on a sorting algorithm. Merge, Selection, and Insertion.\n",
    "Take about 5 minutes to read about your algorithm and be ready to explain it to your other group members. \n",
    "\n",
    "[Merge](https://www.geeksforgeeks.org/merge-sort/#)\n",
    "- Splits the list into two then splits the small ones into two until there are pairs. Then they sort those pairs. Then it merges then all together and sorts those pairs together.\n",
    "[Selection](https://www.geeksforgeeks.org/selection-sort/)\n",
    "- The algorithm finds the smallest or greatest number in the list then moves it to the sorted portion. So then it would finds the next smallest or largerst number in the list and moves it to the sorted portion either after or before the first sorted number depending on if it is finding big or small numbers. \n",
    "[Insertion](https://www.geeksforgeeks.org/insertion-sort/)\n",
    "- It picks a value and moves it to the left until it is in the right spot and then it moves onto the next value and moves it to the left until it is sorted. "
   ]
  },
  {
   "attachments": {},
   "cell_type": "markdown",
   "metadata": {},
   "source": [
    "## Practice\n",
    "\n",
    "[75, 17, 46, 80, 67, 45, 69, 79, 40, 0]\n",
    "\n",
    "How would you sort this list with... \n",
    "- Bubble Sort\n",
    "- Selection Sort\n",
    "> Explain.\n",
    "- BS: It would swap the values if it and the next on is in the wrong spot and it continues to loops through it and swapping until the list is sorted.\n",
    "- SS: It would find the smallest number and moves it to the front, then the next smalelst and moves it after the first number, and it repeats until it is sorted.\n",
    "\n",
    "[88, 39, 53, 39, 58, 43, 74, 81, 71, 51]\n",
    "\n",
    "How would you sort this list with... \n",
    "- Merge Sort\n",
    "- Insertion Sort\n",
    "> Explain.\n",
    "- MS: Would split the list in half, and each piece in half again, then in half again. Then it would sort the values in the pairs, then it would go back a level and sort the pairs, then merge back and sort the larger groups. Then it is sorted.\n",
    "- IS: Would start with the first number and move it left until the next left number is smaller than it, then it moves on to the next number and does the same thing until it is fully sorted."
   ]
  },
  {
   "attachments": {},
   "cell_type": "markdown",
   "metadata": {},
   "source": [
    "# Sorting Words\n",
    "> Sorting strings works in the same way as integers. Using your expertise algorithm, sort the following list of random words."
   ]
  },
  {
   "cell_type": "code",
   "execution_count": 3,
   "metadata": {},
   "outputs": [
    {
     "name": "stdout",
     "output_type": "stream",
     "text": [
      "Random List\n",
      "['undespotic', 'talma', 'pawing', 'paperiness', 'stimuli', 'selenian', 'trunk', 'toyon', 'conceptional', 'primariness']\n"
     ]
    },
    {
     "name": "stderr",
     "output_type": "stream",
     "text": [
      "[nltk_data] Downloading package words to /home/kaiden_do/nltk_data...\n",
      "[nltk_data]   Package words is already up-to-date!\n"
     ]
    }
   ],
   "source": [
    "import nltk\n",
    "import random\n",
    "\n",
    "nltk.download('words')  # Download the word list (only required once)\n",
    "\n",
    "from nltk.corpus import words\n",
    "\n",
    "english_words = words.words()\n",
    "#print(len(english_words))  # Prints the number of words in the list\n",
    "\n",
    "# You can now use the 'english_words' list in your code\n",
    "\n",
    "words = []\n",
    "for i in range(10):\n",
    "    words.append(english_words[random.randint(0,len(english_words))])\n",
    "print(\"Random List\")\n",
    "print(words)"
   ]
  },
  {
   "attachments": {},
   "cell_type": "markdown",
   "metadata": {},
   "source": [
    "First I would find the smallest word or the one with the earliest first letter in the alphabet, first one alphabetically. Then I would move it the front and repeat adding it after the first number. Repeatedly moving the next smallest word after teh previously sorted word."
   ]
  },
  {
   "attachments": {},
   "cell_type": "markdown",
   "metadata": {},
   "source": [
    "## Discuss \n",
    "Answer the following with your group.\n",
    "\n",
    "- When should you use each algorithm? What makes an algorithm the right choice? You should use each algorithm depending on the length of the list and the one that has the least steps.\n",
    "- Given the following lists...\n",
    "    - [0, 2, 6, 4, 8, 10]: Bubble or Insertion because you only need to swap two values that are adjacent.\n",
    "    - [Elephant, Banana, Cat, Dog, Apple]: Selection because it runs the least amount of steps because it would only need to move 4 things or 4 steps\n",
    "    - [29, 13, 83, 47, 32, 78, 100, 60, 65, 15, 24, 9, 40, 68, 53, 8, 90, 58, 39, 32, 34, 91, 74, 94, 49, 87, 34, 87, 23, 17, 27, 2, 38, 58, 84, 15, 9, 46, 74, 40, 44, 8, 55, 28, 81, 92, 81, 88, 53, 38, 19, 21, 9, 54, 21, 67, 3, 41, 3, 74, 13, 71, 70, 45, 5, 36, 80, 64, 97, 86, 73, 74, 94, 79, 49, 32, 20, 68, 64, 69, 1, 77, 31, 56, 100, 80, 48, 75, 85, 93, 67, 57, 26, 56, 43, 53, 59, 28, 67, 50]: Merge because it scales betters with larger inputs.\n",
    "Select the algorithm you believe is best for each, explain."
   ]
  },
  {
   "attachments": {},
   "cell_type": "markdown",
   "metadata": {},
   "source": [
    "## HACKS\n",
    "> Provided below is a Bubble Sort Algorithm sorting a list of dictionaries based off of selected key.\n",
    "\n",
    "- Now it's time to do some coding...\n",
    "\n",
    "- Run code and then research and answer these questions...\n",
    "    - Is a list and/or dictionary in python considered a primitive or collection type?  Why?: A list and dictionary in python are considered collection types because it has a collection of values and multiple values are stored in it.\n",
    "    - Is the list passed into bubble sort \"pass-by-value\" or \"pass-by-reference? Describe why in relation to output.: It is pass-by-reference, this is in relation to output because it it is in relation to the list and it modifying the list.\n",
    "\n",
    "- Implement new cell(s) and/or organize cells to do the following.\n",
    "    - Create your own list\n",
    "    - Use your expertise sorting algorithm (selection, insertion, merge). Note, I got my bubble sort from Geek for Geeks and made modifications. Each student in a group should have a unique algorithm.\n",
    "    - Test your list with my bubble sort\n",
    "    - Test my list with your new sort, do NOT make a copy my list when doing this\n",
    "    - Research analysis on sorting: comparisons, swaps, time.  Build this into your hacks.\n",
    "    - Find a better way to print the data, key first, then other elements in viewable form.\n",
    "\n",
    "Use the code below to help guide your adventure"
   ]
  },
  {
   "cell_type": "code",
   "execution_count": 5,
   "metadata": {},
   "outputs": [
    {
     "name": "stdout",
     "output_type": "stream",
     "text": [
      "Original:\n",
      "  -  Name: Risa\n",
      "  -  Age: 18\n",
      "  -  City: New York\n",
      "\n",
      "  -  Name: John\n",
      "  -  Age: 63\n",
      "  -  City: Eugene\n",
      "\n",
      "  -  Name: Shekar\n",
      "  -  Age: 18\n",
      "  -  City: San Francisco\n",
      "\n",
      "  -  Name: Ryan\n",
      "  -  Age: 21\n",
      "  -  City: Los Angeles\n",
      "\n",
      "Sorting by name:\n",
      "  -  Name: John\n",
      "  -  Age: 63\n",
      "  -  City: Eugene\n",
      "\n",
      "  -  Name: Risa\n",
      "  -  Age: 18\n",
      "  -  City: New York\n",
      "\n",
      "  -  Name: Ryan\n",
      "  -  Age: 21\n",
      "  -  City: Los Angeles\n",
      "\n",
      "  -  Name: Shekar\n",
      "  -  Age: 18\n",
      "  -  City: San Francisco\n",
      "\n",
      "Sorting by age:\n",
      "  -  Name: Risa\n",
      "  -  Age: 18\n",
      "  -  City: New York\n",
      "\n",
      "  -  Name: Shekar\n",
      "  -  Age: 18\n",
      "  -  City: San Francisco\n",
      "\n",
      "  -  Name: Ryan\n",
      "  -  Age: 21\n",
      "  -  City: Los Angeles\n",
      "\n",
      "  -  Name: John\n",
      "  -  Age: 63\n",
      "  -  City: Eugene\n",
      "\n",
      "Sorting by city:\n",
      "  -  Name: John\n",
      "  -  Age: 63\n",
      "  -  City: Eugene\n",
      "\n",
      "  -  Name: Ryan\n",
      "  -  Age: 21\n",
      "  -  City: Los Angeles\n",
      "\n",
      "  -  Name: Risa\n",
      "  -  Age: 18\n",
      "  -  City: New York\n",
      "\n",
      "  -  Name: Shekar\n",
      "  -  Age: 18\n",
      "  -  City: San Francisco\n",
      "\n"
     ]
    }
   ],
   "source": [
    "def selectionSort(dict, key):\n",
    "    n = len(dict)\n",
    "    for i in range(n):\n",
    "        min_index = i\n",
    "        for j in range(i+1, n):\n",
    "            if dict[j][key] < dict[min_index][key]:\n",
    "                min_index = j\n",
    "        dict[i], dict[min_index] = dict[min_index], dict[i]\n",
    "    return dict\n",
    "\n",
    "\n",
    "if __name__ == \"__main__\":\n",
    "    # list/dictionary sample\n",
    "    list_of_people = [\n",
    "    {\"name\": \"Risa\", \"age\": 18, \"city\": \"New York\"},\n",
    "    {\"name\": \"John\", \"age\": 63, \"city\": \"Eugene\"},\n",
    "    {\"name\": \"Shekar\", \"age\": 18, \"city\": \"San Francisco\"},\n",
    "    {\"name\": \"Ryan\", \"age\": 21, \"city\": \"Los Angeles\"}\n",
    "    ]\n",
    "    \n",
    "    # assuming uniform keys, pick 1st row as source of keys\n",
    "    key_row = list_of_people[0]\n",
    "\n",
    "    # print list as defined\n",
    "    print(\"Original:\")\n",
    "    for x in list_of_people:\n",
    "            print(\"  -  Name:\",x['name'])\n",
    "            print(\"  -  Age:\",x['age'])\n",
    "            print(\"  -  City:\",x['city'])\n",
    "            print()\n",
    "    \n",
    "    for key in key_row:  # finds each key in the row\n",
    "        print(\"Sorting by\",key+\":\")\n",
    "        selectionSort(list_of_people, key)  # sort list of people\n",
    "        for x in list_of_people:\n",
    "            print(\"  -  Name:\",x['name'])\n",
    "            print(\"  -  Age:\",x['age'])\n",
    "            print(\"  -  City:\",x['city'])\n",
    "            print()"
   ]
  },
  {
   "cell_type": "code",
   "execution_count": 3,
   "metadata": {},
   "outputs": [
    {
     "name": "stdout",
     "output_type": "stream",
     "text": [
      "Original\n",
      "[{'name': 'bob', 'age': 12, 'city': 'San Diego'}, {'name': 'bill', 'age': 43, 'city': 'London'}, {'name': 'tim', 'age': 1, 'city': 'San Jose'}, {'name': 'apple', 'age': 221, 'city': 'Los Angeles'}]\n",
      "name\n",
      "[{'name': 'apple', 'age': 221, 'city': 'Los Angeles'}, {'name': 'bill', 'age': 43, 'city': 'London'}, {'name': 'bob', 'age': 12, 'city': 'San Diego'}, {'name': 'tim', 'age': 1, 'city': 'San Jose'}]\n",
      "age\n",
      "[{'name': 'tim', 'age': 1, 'city': 'San Jose'}, {'name': 'bob', 'age': 12, 'city': 'San Diego'}, {'name': 'bill', 'age': 43, 'city': 'London'}, {'name': 'apple', 'age': 221, 'city': 'Los Angeles'}]\n",
      "city\n",
      "[{'name': 'bill', 'age': 43, 'city': 'London'}, {'name': 'apple', 'age': 221, 'city': 'Los Angeles'}, {'name': 'bob', 'age': 12, 'city': 'San Diego'}, {'name': 'tim', 'age': 1, 'city': 'San Jose'}]\n"
     ]
    }
   ],
   "source": [
    "\"\"\"\n",
    "* Creator: Nighthawk Coding Society\n",
    "Bubble Sort of a List with optimizations\n",
    "\"\"\"\n",
    "\n",
    "# bubble sorts a list of dictionaries, base off of provided key\n",
    "def bubbleSort(list, key):\n",
    "    n = len(list) - 1  # list are indexed 0 to n-1, len is n\n",
    "    \n",
    "    # Traverse through list with i index\n",
    "    for i in range(n):\n",
    "        swapped = False  # optimize code, so it exits if now swaps on inner loop\n",
    "\n",
    "        # Inner traversal using j index\n",
    "        for j in range(n-i):  # n-i as positions on right are in order in bubble\n",
    " \n",
    "            # Swap if the element KeyN is greater KeyN1\n",
    "            keyN = list[j].get(key)\n",
    "            keyN1 = list[j+1].get(key)\n",
    "            if keyN > keyN1:\n",
    "                swapped = True\n",
    "                list[j], list[j + 1] = list[j + 1], list[j]  # single line swap\n",
    "         \n",
    "        if not swapped:  # if no swaps on inner pass, list is sorted\n",
    "            return  # exit functionf\n",
    "    \n",
    "\n",
    "if __name__ == \"__main__\":\n",
    "    # list/dictionary sample\n",
    "    list_of_people = [\n",
    "    {\"name\": \"Risa\", \"age\": 18, \"city\": \"New York\"},\n",
    "    {\"name\": \"John\", \"age\": 63, \"city\": \"Eugene\"},\n",
    "    {\"name\": \"Shekar\", \"age\": 18, \"city\": \"San Francisco\"},\n",
    "    {\"name\": \"Ryan\", \"age\": 21, \"city\": \"Los Angeles\"}\n",
    "    ]\n",
    "    \n",
    "    # assuming uniform keys, pick 1st row as source of keys\n",
    "    key_row = list_of_people[0]\n",
    "\n",
    "    # print list as defined\n",
    "    print(\"Original\")\n",
    "    print(list_of_people)\n",
    "    \n",
    "    for key in key_row:  # finds each key in the row\n",
    "        print(key)\n",
    "        bubbleSort(list_of_people, key)  # sort list of people\n",
    "        print(list_of_people)"
   ]
  }
 ],
 "metadata": {
  "kernelspec": {
   "display_name": "base",
   "language": "python",
   "name": "python3"
  },
  "language_info": {
   "codemirror_mode": {
    "name": "ipython",
    "version": 3
   },
   "file_extension": ".py",
   "mimetype": "text/x-python",
   "name": "python",
   "nbconvert_exporter": "python",
   "pygments_lexer": "ipython3",
   "version": "3.9.12"
  },
  "orig_nbformat": 4
 },
 "nbformat": 4,
 "nbformat_minor": 2
}
