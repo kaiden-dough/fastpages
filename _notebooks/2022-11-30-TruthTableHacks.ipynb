{
 "cells": [
  {
   "cell_type": "markdown",
   "metadata": {},
   "source": [
    "# Truth Table Hacks\n",
    "- toc: true\n",
    "- author: Kaiden Do\n",
    "- comments: true\n",
    "- categories: [jupyter, week14]"
   ]
  },
  {
   "cell_type": "code",
   "execution_count": 10,
   "metadata": {},
   "outputs": [
    {
     "name": "stdout",
     "output_type": "stream",
     "text": [
      "AND: 6 & 2\n",
      "Thinking: 0110 & 0010 --> 0010\n",
      "Should print 2\n",
      "Test:\n",
      "2\n",
      "\n",
      "OR: 3 | 8\n",
      "Thinking: 0011 | 1000 --> 1011\n",
      "Should print 11\n",
      "Test:\n",
      "11\n",
      "\n",
      "XOR: 9 ^ 3\n",
      "Thinking: 1001 ^ 0011 --> 1010\n",
      "Should print 10\n",
      "Test:\n",
      "10\n",
      "\n",
      "NOT: ! 0\n",
      "Thinking: false is 0 in binary, so ! 0 is not false which is true\n",
      "Should print true\n",
      "Test:\n",
      "true\n"
     ]
    }
   ],
   "source": [
    "console.log(\"AND: 6 & 2\")\n",
    "console.log(\"Thinking: 0110 & 0010 --> 0010\")\n",
    "console.log(\"Should print 2\")\n",
    "console.log(\"Test:\")\n",
    "console.log(6 & 2)\n",
    "console.log()\n",
    "console.log(\"OR: 3 | 8\")\n",
    "console.log(\"Thinking: 0011 | 1000 --> 1011\")\n",
    "console.log(\"Should print 11\")\n",
    "console.log(\"Test:\")\n",
    "console.log(3 | 8)\n",
    "console.log()\n",
    "console.log(\"XOR: 9 ^ 3\")\n",
    "console.log(\"Thinking: 1001 ^ 0011 --> 1010\")\n",
    "console.log(\"Should print 10\")\n",
    "console.log(\"Test:\")\n",
    "console.log(9 ^ 3)\n",
    "console.log()\n",
    "console.log(\"NOT: ! 0\")\n",
    "console.log(\"Thinking: false is 0 in binary, so ! 0 is not false which is true\")\n",
    "console.log(\"Should print true\")\n",
    "console.log(\"Test:\")\n",
    "console.log(! 0)"
   ]
  },
  {
   "cell_type": "markdown",
   "metadata": {},
   "source": [
    "<html>\n",
    "    <tr>\n",
    "        <th><th>\n",
    "        <th><th>\n",
    "    </tr>\n",
    "</html>"
   ]
  }
 ],
 "metadata": {
  "kernelspec": {
   "display_name": "JavaScript (Node.js)",
   "language": "javascript",
   "name": "javascript"
  },
  "language_info": {
   "file_extension": ".js",
   "mimetype": "application/javascript",
   "name": "javascript",
   "version": "6.11.2"
  },
  "orig_nbformat": 4,
  "vscode": {
   "interpreter": {
    "hash": "916dbcbb3f70747c44a77c7bcd40155683ae19c65e1c03b4aa3499c5328201f1"
   }
  }
 },
 "nbformat": 4,
 "nbformat_minor": 2
}
