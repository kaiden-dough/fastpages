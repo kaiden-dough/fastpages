{
 "cells": [
  {
   "attachments": {},
   "cell_type": "markdown",
   "metadata": {},
   "source": [
    "# Unit 3.16 Hacks\n",
    "- toc: true\n",
    "- author: Kaiden Do\n",
    "- comments: true\n",
    "- categories: [jupyter, week16]"
   ]
  },
  {
   "attachments": {},
   "cell_type": "markdown",
   "metadata": {},
   "source": [
    "## Hack #1\n",
    "- An idea for a simulation is a coin flipping simulation to get data of how it lands. This is a simulation because the coin is not flipped in real life. The advantage is that more data can be found more efficiently. The disadvantage is that it might not have the the small change of landing on its side or different power in the coin flip and air resistance."
   ]
  },
  {
   "cell_type": "markdown",
   "metadata": {},
   "source": [
    "## Hack #2"
   ]
  },
  {
   "cell_type": "code",
   "execution_count": 1,
   "metadata": {},
   "outputs": [
    {
     "name": "stdout",
     "output_type": "stream",
     "text": [
      "Welcome to the Simulations Quiz!\n",
      "\n",
      " True or False: Simulations will always have the same result. \n",
      " A: True, \n",
      " B: False\n",
      "You said:  B\n",
      "Correct!\n",
      "\n",
      " True or False: A simulation has results that are more accurate than an experiment \n",
      " A: True, \n",
      " B: False\n",
      "You said:  B\n",
      "Correct!\n",
      "\n",
      " True or False: A simulation can model real world events that are not practical for experiments \n",
      " A: True, \n",
      " B: False\n",
      "You said:  A\n",
      "Correct!\n",
      "\n",
      " Which one of these is FALSE regarding simulations \n",
      " A: Reduces Costs, \n",
      " B: Is safer than real life experiments, \n",
      " C: More Efficient, \n",
      " D: More accurate than real life experiments\n",
      "You said:  D\n",
      "Correct!\n",
      "\n",
      " Which of the following scenarios would be the LEAST beneficial to have as a simulation \n",
      " A: A retail company wants to identify the item which sold the most on their website, \n",
      " B: A restaurant wants to determine if the use of robots will increase efficiency, \n",
      " C: An insurance company wants to study the impact of rain on car accidents, \n",
      " D: A sports car company wants to study design changes to their new bike design \n",
      "You said:  A\n",
      "Correct!\n",
      "\n",
      " Which of the following is better to do as a simulation than as a calculation \n",
      " A: Keeping score at a basketball game, \n",
      " B: Keeping track of how many games a person has won, \n",
      " C: Determining the average grade for a group of tests, \n",
      " D: Studying the impact of carbon emissions on the environment\n",
      "You said:  D\n",
      "Correct!\n",
      "You scored:  6 /6\n"
     ]
    }
   ],
   "source": [
    "questions_number = 6\n",
    "answers_correct = 0\n",
    "questions = [\n",
    "    \"True or False: Simulations will always have the same result. \\n A: True, \\n B: False\",\n",
    "    \"True or False: A simulation has results that are more accurate than an experiment \\n A: True, \\n B: False\",\n",
    "    \"True or False: A simulation can model real world events that are not practical for experiments \\n A: True, \\n B: False\",\n",
    "    \"Which one of these is FALSE regarding simulations \\n A: Reduces Costs, \\n B: Is safer than real life experiments, \\n C: More Efficient, \\n D: More accurate than real life experiments\",\n",
    "    \"Which of the following scenarios would be the LEAST beneficial to have as a simulation \\n A: A retail company wants to identify the item which sold the most on their website, \\n B: A restaurant wants to determine if the use of robots will increase efficiency, \\n C: An insurance company wants to study the impact of rain on car accidents, \\n D: A sports car company wants to study design changes to their new bike design \",\n",
    "    \"Which of the following is better to do as a simulation than as a calculation \\n A: Keeping score at a basketball game, \\n B: Keeping track of how many games a person has won, \\n C: Determining the average grade for a group of tests, \\n D: Studying the impact of carbon emissions on the environment\"\n",
    "]\n",
    "question_answers = [\n",
    "    \"B\",\n",
    "    \"B\",\n",
    "    \"A\",\n",
    "    \"D\",\n",
    "    \"A\",\n",
    "    \"D\"\n",
    "]\n",
    "\n",
    "print(\"Welcome to the Simulations Quiz!\")\n",
    "\n",
    "def ask_question (question, answer):\n",
    "    print(\"\\n\", question)\n",
    "    user_answer = input(question)\n",
    "    print(\"You said: \", user_answer)\n",
    "\n",
    "    if user_answer == answer:\n",
    "        print(\"Correct!\")\n",
    "        global answers_correct\n",
    "        answers_correct = answers_correct + 1\n",
    "    else:\n",
    "        print(\"You are incorrect\")\n",
    "    \n",
    "for num in range(questions_number):\n",
    "    ask_question(questions[num], question_answers[num])\n",
    "\n",
    "print(\"You scored: \", answers_correct, \"/6\")"
   ]
  },
  {
   "attachments": {},
   "cell_type": "markdown",
   "metadata": {},
   "source": [
    "## Hack #3\n",
    "- What makes it a simulation?: This is a simulation because the program generates a random number from 1 to 6. It is also a simulation because the dice is not being rolled in real life but it is rolled in a program.\n",
    "- What are it’s advantages and disadvantages?: The advantages of simulation are that it allows a lot of data of the dice results to be found in almost an instant. The disadvantage is that the dice would not experience the real life factors like air resistance, the power put into the roll, and friction.\n",
    "- In your opinion, would an experiment be better in this situation?: I think in this situation, a simulation is better because an experiment would take really long to get enough data.\n"
   ]
  },
  {
   "attachments": {},
   "cell_type": "markdown",
   "metadata": {},
   "source": [
    "## Hack #4"
   ]
  },
  {
   "cell_type": "code",
   "execution_count": 9,
   "metadata": {},
   "outputs": [
    {
     "name": "stdout",
     "output_type": "stream",
     "text": [
      "The 14-sided die landed on 13\n",
      "The 14-sided die landed on 9\n",
      "The 14-sided die landed on 6\n",
      "The 14-sided die landed on 14\n",
      "The 14-sided die landed on 8\n"
     ]
    }
   ],
   "source": [
    "import random\n",
    "rolls = int(input(\"How many rolls do you want?\"))\n",
    "while rolls > 0:\n",
    "    diceResult = random.randint(1, 14)\n",
    "    print(\"The 14-sided die landed on\", diceResult)\n",
    "    rolls -= 1"
   ]
  },
  {
   "attachments": {},
   "cell_type": "markdown",
   "metadata": {},
   "source": [
    "## Extra Credit"
   ]
  },
  {
   "cell_type": "code",
   "execution_count": 4,
   "metadata": {},
   "outputs": [
    {
     "name": "stdout",
     "output_type": "stream",
     "text": [
      "The weather is windy\n",
      "The weather is rainy\n",
      "The weather is cloudy\n",
      "The weather is cloudy\n",
      "The weather is sunny\n",
      "The weather is stormy\n",
      "The weather is windy\n",
      "The weather is windy\n",
      "The weather is windy\n",
      "The weather is rainy\n",
      "The weather is sunny\n",
      "The weather is stormy\n",
      "The weather is rainy\n",
      "The weather is sunny\n",
      "Sunny: 3\n",
      "Rainy: 3\n",
      "Rainy: 3\n",
      "Cloudy: 2\n",
      "Stormy: 2\n"
     ]
    }
   ],
   "source": [
    "import random\n",
    "days = int(input(\"How many days?\"))\n",
    "sunny = 0\n",
    "rainy = 0\n",
    "cloudy = 0\n",
    "windy = 0\n",
    "stormy = 0\n",
    "while days > 0:\n",
    "    weather = random.randint(1, 5)\n",
    "    if weather == 1:\n",
    "        print(\"The weather is sunny\")\n",
    "        sunny += 1\n",
    "    elif weather == 2:\n",
    "        print(\"The weather is rainy\")\n",
    "        rainy += 1\n",
    "    elif weather == 3:\n",
    "        print(\"The weather is cloudy\")\n",
    "        cloudy += 1\n",
    "    elif weather == 4:\n",
    "        print(\"The weather is windy\")\n",
    "        windy += 1\n",
    "    elif weather == 5:\n",
    "        print(\"The weather is stormy\")\n",
    "        stormy += 1\n",
    "    days -= 1\n",
    "print(\"Sunny:\", sunny)\n",
    "print(\"Rainy:\", rainy)\n",
    "print(\"Rainy:\", rainy)\n",
    "print(\"Cloudy:\", cloudy)\n",
    "print(\"Stormy:\", stormy)\n",
    "    "
   ]
  },
  {
   "attachments": {},
   "cell_type": "markdown",
   "metadata": {},
   "source": [
    "This is a simulation because it simulate the weather with a 20 percent chance of each one over a certain desired amount of days. This is done on a computer not in real life. The advantages of the simulation is that it is easier to and quicker to get data. The disadvantage is that the weather is not always the same probability to get each one. An experiment is better in this situation because the data would be more accurate than a simulation."
   ]
  }
 ],
 "metadata": {
  "kernelspec": {
   "display_name": "Python 3",
   "language": "python",
   "name": "python3"
  },
  "language_info": {
   "codemirror_mode": {
    "name": "ipython",
    "version": 3
   },
   "file_extension": ".py",
   "mimetype": "text/x-python",
   "name": "python",
   "nbconvert_exporter": "python",
   "pygments_lexer": "ipython3",
   "version": "3.8.10 (default, Jun 22 2022, 20:18:18) \n[GCC 9.4.0]"
  },
  "orig_nbformat": 4,
  "vscode": {
   "interpreter": {
    "hash": "916dbcbb3f70747c44a77c7bcd40155683ae19c65e1c03b4aa3499c5328201f1"
   }
  }
 },
 "nbformat": 4,
 "nbformat_minor": 2
}
