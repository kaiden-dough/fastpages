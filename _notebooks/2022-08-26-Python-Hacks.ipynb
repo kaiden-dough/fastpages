{
 "cells": [
  {
   "cell_type": "markdown",
   "metadata": {},
   "source": [
    "# Python Quiz and Hacks\n",
    "> My own quiz with my own questions and Mr. Mortensen's questions.\n",
    "\n",
    "- toc: true\n",
    "- badges: false\n",
    "- comments: true\n",
    "- author: Kaiden Do\n",
    "- categories: [python]\n",
    "- image: /images/pythonlogo.png"
   ]
  },
  {
   "cell_type": "markdown",
   "metadata": {},
   "source": [
    "## My Quiz\n",
    "This quiz defines two functions for asking questions and receiving an answer. The quiz has 7 questions. Each question asked is compared to a correct answer and if they are equal (with no regard to case) then the quiz tells the user. If not, then the quiz tells the user that the answer is wrong. The program stores each correct answer and tells the user the percentage of correct answers at the end of the quiz."
   ]
  },
  {
   "cell_type": "code",
   "execution_count": null,
   "metadata": {},
   "outputs": [],
   "source": [
    "import getpass, sys # imports functions and libraries\n",
    "\n",
    "def question_and_answer(prompt): # defines the question_and_answer function\n",
    "    print(\"Question: \" + prompt) # asks the user a question\n",
    "    msg = input() # takes the user's input\n",
    "    print(\"Answer: \" + msg) # prints the answer and the user's input\n",
    "\n",
    "def question_with_response(prompt): # defines the question_with_response function\n",
    "    print(\"Question: \" + prompt) # asks the user a question\n",
    "    msg = input() # takes the user's input\n",
    "    return msg # the function returns the user's response as a string value\n",
    "\n",
    "questions = 7 # number of questions in the quiz\n",
    "correct = 0 # amount correct in the beginning of the quiz\n",
    "\n",
    "print('Hello, ' + getpass.getuser() + \" running \" + sys.executable) # greets the user\n",
    "print(\"You will be asked \" + str(questions) + \" questions.\") # tells the user how many questions are in the quiz\n",
    "question_and_answer(\"Are you ready to take a test?\") # prompts the user to start the quiz\n",
    "\n",
    "rsp = question_with_response(\"What command is used to include other functions that were previously developed?\") # asks question and stores the user's response\n",
    "if rsp.lower() == \"import\": # compares the user's response to the answer without regard to the case\n",
    "    print(rsp + \" is correct!\") # shows that it is correct\n",
    "    correct += 1 # one more correct answer\n",
    "else: # if not correct\n",
    "    print(rsp + \" is incorrect!\") # shows that it is incorrect\n",
    "\n",
    "rsp = question_with_response(\"What command is used to evaluate correct or incorrect response in this example?\") # asks question and stores the user's response\n",
    "if rsp.lower() == \"if\": # compares the user's response to the answer without regard to the case\n",
    "    print(rsp + \" is correct!\") # shows that it is correct\n",
    "    correct += 1 # one more correct answer\n",
    "else: # if not correct\n",
    "    print(rsp + \" is incorrect!\") # shows that it is incorrect\n",
    "\n",
    "rsp = question_with_response(\"Each 'if' command contains an '_________' to determine a true or false condition?\") # asks question and stores the user's response\n",
    "if rsp.lower() == \"expression\": # compares the user's response to the answer without regard to the case\n",
    "    print(rsp + \" is correct!\") # shows that it is correct\n",
    "    correct += 1 # one more correct answer\n",
    "else: # if not correct\n",
    "    print(rsp + \" is incorrect!\") # shows that it is incorrect\n",
    "\n",
    "rsp = question_with_response(\"What does 'def' do in Python in relation to a function: It _______ the function?\") # asks question and stores the user's response\n",
    "if rsp.lower() == \"defines\": # compares the user's response to the answer without regard to the case\n",
    "    print(rsp + \" is correct!\") # shows that it is correct\n",
    "    correct += 1 # one more correct answer\n",
    "else: # if not correct\n",
    "    print(rsp + \" is incorrect!\") # shows that it is incorrect\n",
    "\n",
    "rsp = question_with_response(\"What does the function take as a parameter?\") # asks question and stores the user's response\n",
    "if rsp.lower() == \"prompt\": # compares the user's response to the answer without regard to the case\n",
    "    print(rsp + \" is correct!\") # shows that it is correct\n",
    "    correct += 1 # one more correct answer\n",
    "else: # if not correct\n",
    "    print(rsp + \" is incorrect!\") # shows that it is incorrect\n",
    "\n",
    "rsp = question_with_response(\"Can static text change?\") # asks question and stores the user's response\n",
    "if rsp.lower() == \"no\": # compares the user's response to the answer without regard to the case\n",
    "    print(rsp + \" is correct!\") # shows that it is correct\n",
    "    correct += 1 # one more correct answer\n",
    "else: # if not correct\n",
    "    print(rsp + \" is incorrect!\") # shows that it is incorrect\n",
    "\n",
    "rsp = question_with_response(\"What is the first thing that beginner programmers usually print?\") # asks question and stores the user's response\n",
    "if rsp.lower() == \"hello world\": # compares the user's response to the answer without regard to the case\n",
    "    print(rsp + \" is correct!\") # shows that it is correct\n",
    "    correct += 1 # one more correct answer\n",
    "else: # if not correct\n",
    "    print(rsp + \" is incorrect!\") # shows that it is incorrect\n",
    "\n",
    "print(getpass.getuser() + \" you scored \" + str(correct) +\"/\" + str(questions)) # tells the user how many questions they got correct out of the total questions"
   ]
  }
 ],
 "metadata": {
  "kernelspec": {
   "display_name": "Python 3.8.10 64-bit",
   "language": "python",
   "name": "python3"
  },
  "language_info": {
   "codemirror_mode": {
    "name": "ipython",
    "version": 3
   },
   "file_extension": ".py",
   "mimetype": "text/x-python",
   "name": "python",
   "nbconvert_exporter": "python",
   "pygments_lexer": "ipython3",
   "version": "3.8.10"
  },
  "orig_nbformat": 4,
  "vscode": {
   "interpreter": {
    "hash": "916dbcbb3f70747c44a77c7bcd40155683ae19c65e1c03b4aa3499c5328201f1"
   }
  }
 },
 "nbformat": 4,
 "nbformat_minor": 2
}
