{
 "cells": [
  {
   "cell_type": "markdown",
   "metadata": {},
   "source": [
    "# Trying Out A Remote Theme\n",
    "> Exploring remote themes with the Merlot theme.\n",
    "\n",
    "- toc: true\n",
    "- badges: false\n",
    "- comments: true\n",
    "- author: Kaiden Do\n",
    "- categories: [python, week2]\n",
    "- image: /images/merlot.png"
   ]
  },
  {
   "cell_type": "markdown",
   "metadata": {},
   "source": [
    "## What Worked\n",
    "I tried the remote theme, Merlot, on my website. \n",
    "\n",
    "![]({{ site.baseurl }}/images/merlot.png \"Code Snippet\")\n",
    "\n",
    "For the most part many things still worked. The pages all opened and I could read basically everything on the page. My parallax effect still worked and the images also appeared.\n",
    "\n",
    "## What Didn't Work\n",
    "The things that didn't work were the small details: formatting, pictures, and my home screen.\n",
    "\n",
    "![]({{ site.baseurl }}/images/messedupformat.png \"Website format was messed up\")\n",
    "\n",
    "![]({{ site.baseurl }}/images/hugepictures.png \"The image sizing was changed\")\n",
    "\n",
    "![]({{ site.baseurl }}/images/messeduphs.png \"The homepage did not work with the index.html heading\")\n",
    "\n"
   ]
  }
 ],
 "metadata": {
  "kernelspec": {
   "display_name": "Python 3.8.10 64-bit",
   "language": "python",
   "name": "python3"
  },
  "language_info": {
   "name": "python",
   "version": "3.8.10"
  },
  "orig_nbformat": 4,
  "vscode": {
   "interpreter": {
    "hash": "916dbcbb3f70747c44a77c7bcd40155683ae19c65e1c03b4aa3499c5328201f1"
   }
  }
 },
 "nbformat": 4,
 "nbformat_minor": 2
}
