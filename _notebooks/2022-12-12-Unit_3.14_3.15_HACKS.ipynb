{
 "cells": [
  {
   "cell_type": "markdown",
   "metadata": {},
   "source": [
    "# Unit 3.14 & 3.15 Hacks\n",
    "- toc: true\n",
    "- author: Kaiden Do\n",
    "- comments: true\n",
    "- categories: [jupyter, week16]"
   ]
  },
  {
   "cell_type": "markdown",
   "metadata": {},
   "source": [
    "## Hacks\n",
    "### Lesson 3.14.1"
   ]
  },
  {
   "cell_type": "code",
   "execution_count": 13,
   "metadata": {},
   "outputs": [
    {
     "name": "stdout",
     "output_type": "stream",
     "text": [
      "0.3 rounds down to 0\n"
     ]
    }
   ],
   "source": [
    "import math\n",
    "decimalNum = float(input(\"Enter a decimal number to be rounded\"))\n",
    "onlyDecimal = decimalNum - math.floor(decimalNum)\n",
    "if onlyDecimal >= 0.5 and onlyDecimal < 1:\n",
    "    print(decimalNum, \"rounds up to\", math.ceil(decimalNum))\n",
    "elif onlyDecimal > 0:\n",
    "    print(decimalNum, \"rounds down to\", math.floor(decimalNum))\n",
    "else:\n",
    "    print(decimalNum, \"stays the same\")"
   ]
  },
  {
   "cell_type": "markdown",
   "metadata": {},
   "source": [
    "My code is asking the user to input a number to be rounded. I used the import math in order to do the rounding. I first floor() the original number and subtracted it from the original number to only get the decimals. Then I compared the decimal to see if I need to round up, down, or stay the same. If it is round up, I use the ceil() of the original number to round up. If it is round down, I use the floor() of the original number to round down."
   ]
  },
  {
   "cell_type": "markdown",
   "metadata": {},
   "source": [
    "### Lesson 3.15.1"
   ]
  },
  {
   "cell_type": "code",
   "execution_count": 10,
   "metadata": {},
   "outputs": [
    {
     "name": "stdout",
     "output_type": "stream",
     "text": [
      "Random Number:\n",
      "95\n"
     ]
    }
   ],
   "source": [
    "import random\n",
    "print(\"Random Number:\")\n",
    "print(random.randint(1,100))"
   ]
  },
  {
   "cell_type": "markdown",
   "metadata": {},
   "source": [
    "- The import random function randomizes stuff. Random number would return a random number between the two numbers in the range given.\n",
    "- You can import **math** and **flask** and **sys**"
   ]
  },
  {
   "cell_type": "markdown",
   "metadata": {},
   "source": [
    "### Lesson 3.15.2"
   ]
  },
  {
   "cell_type": "code",
   "execution_count": 23,
   "metadata": {},
   "outputs": [
    {
     "name": "stdout",
     "output_type": "stream",
     "text": [
      "You got blue\n"
     ]
    }
   ],
   "source": [
    "import random\n",
    "\n",
    "spinnerLand = random.randint(1,8)\n",
    "if spinnerLand <= 3:\n",
    "    print(\"You got green\")\n",
    "elif spinnerLand <= 5:\n",
    "    print(\"You got blue\")\n",
    "elif spinnerLand <= 6:\n",
    "    print(\"You got purple\")\n",
    "elif spinnerLand <= 7:\n",
    "    print(\"You got red\")\n",
    "elif spinnerLand <= 8:\n",
    "    print(\"You got orange\")"
   ]
  },
  {
   "cell_type": "markdown",
   "metadata": {},
   "source": [
    "The numbers from RANDOM(12,20) that can be outputted are 12, 13, 14, 15, 16, 17, 18, 19, 20. All other numbers are excluded"
   ]
  }
 ],
 "metadata": {
  "kernelspec": {
   "display_name": "Python 3",
   "language": "python",
   "name": "python3"
  },
  "language_info": {
   "codemirror_mode": {
    "name": "ipython",
    "version": 3
   },
   "file_extension": ".py",
   "mimetype": "text/x-python",
   "name": "python",
   "nbconvert_exporter": "python",
   "pygments_lexer": "ipython3",
   "version": "3.8.10 (default, Jun 22 2022, 20:18:18) \n[GCC 9.4.0]"
  },
  "orig_nbformat": 4,
  "vscode": {
   "interpreter": {
    "hash": "916dbcbb3f70747c44a77c7bcd40155683ae19c65e1c03b4aa3499c5328201f1"
   }
  }
 },
 "nbformat": 4,
 "nbformat_minor": 2
}
