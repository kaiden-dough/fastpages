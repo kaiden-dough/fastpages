{
 "cells": [
  {
   "cell_type": "markdown",
   "metadata": {},
   "source": [
    "# Team Project: Program Purpose\n",
    "\n",
    "- toc: true\n",
    "- badges: false\n",
    "- comments: true\n",
    "- author: Kaiden Do\n",
    "- categories: [week5]"
   ]
  },
  {
   "cell_type": "markdown",
   "metadata": {},
   "source": [
    "## Program Purpose Brainstorm\n",
    "An idea for the project would be a Singleplayer vs Dealer Blackjack game. This game would take user input and it would also need algorithms to check cards, deal cards, and control the dealer.\n",
    "\n",
    "This project would be very good for education because it would teach us many skills in programming. Also this project would take a lot of thinking and it wouldn't just be a simple game.\n",
    "\n",
    "This project would hold the team members interest for 8 weeks because the project would have many parts. The Frontend Developer would create the Blackjack table and show visual images on the screen. The Backend Developer would create all of the algorithms behind the scenes that makes sure the program functions. The Dev Ops would make sure the website deploys and functions. The Scrum Master would direct the team and assign tasks and goals for each sprint. Also the Dev Ops and Scrum Master would help the Backend and Frontend Developers.\n",
    "\n",
    "This project could be used outside of the class but it would be unlikely because there are numerous Blackjack apps online and on phones.\n",
    "\n",
    "The project could be used for a Create Performance Task submission because it would fill out all of the CPT requirements."
   ]
  }
 ],
 "metadata": {
  "kernelspec": {
   "display_name": "Python 3.8.10 64-bit",
   "language": "python",
   "name": "python3"
  },
  "language_info": {
   "name": "python",
   "version": "3.8.10"
  },
  "orig_nbformat": 4,
  "vscode": {
   "interpreter": {
    "hash": "916dbcbb3f70747c44a77c7bcd40155683ae19c65e1c03b4aa3499c5328201f1"
   }
  }
 },
 "nbformat": 4,
 "nbformat_minor": 2
}
