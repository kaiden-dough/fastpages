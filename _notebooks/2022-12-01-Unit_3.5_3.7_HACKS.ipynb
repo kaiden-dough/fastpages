{
 "cells": [
  {
   "cell_type": "markdown",
   "metadata": {},
   "source": [
    "# Unit 3.5 - 3.7 Hacks\n",
    "- toc: true\n",
    "- author: Kaiden Do\n",
    "- comments: true\n",
    "- categories: [markdown, week14]"
   ]
  },
  {
   "cell_type": "markdown",
   "metadata": {},
   "source": [
    "## Lesson 3.5 Hacks\n",
    "- Explain in your own words what each logical operator does\n",
    "    - NOT: returns the opposite of the data given, ex: if given true --> NOT would make it false\n",
    "    - AND: has two conditions and it sees if they are both met, ex: if a number is 5 --> must be greater than 0 AND less than 4, therefore false\n",
    "    - OR: determines of one of the two conditions set are met, ex: if a number is 5 --> must be greater than 0 AND less than 4, therefore true"
   ]
  },
  {
   "cell_type": "markdown",
   "metadata": {},
   "source": [
    "Code your own scenario that makes sense for each logical operator"
   ]
  },
  {
   "cell_type": "code",
   "execution_count": 5,
   "metadata": {},
   "outputs": [
    {
     "name": "stdout",
     "output_type": "stream",
     "text": [
      "NOT\n",
      "It is cold\n",
      "\n",
      "AND\n",
      "Is old enough and can afford a ticket\n",
      "\n",
      "OR\n",
      "Can enter the building\n"
     ]
    }
   ],
   "source": [
    "print(\"NOT\")\n",
    "isHot = False\n",
    "if not isHot:\n",
    "    print(\"It is cold\")\n",
    "print(\"\")\n",
    "print(\"AND\")\n",
    "age = 20\n",
    "wallet = 50\n",
    "ticket = 25\n",
    "if age >= 18 and wallet >= ticket:\n",
    "    print(\"Is old enough and can afford a ticket\")\n",
    "print(\"\")\n",
    "print(\"OR\")\n",
    "member = True\n",
    "escorted = False\n",
    "if member or escorted:\n",
    "    print(\"Can enter the building\")"
   ]
  },
  {
   "cell_type": "markdown",
   "metadata": {},
   "source": []
  }
 ],
 "metadata": {
  "kernelspec": {
   "display_name": "Python 3.8.10 64-bit",
   "language": "python",
   "name": "python3"
  },
  "language_info": {
   "codemirror_mode": {
    "name": "ipython",
    "version": 3
   },
   "file_extension": ".py",
   "mimetype": "text/x-python",
   "name": "python",
   "nbconvert_exporter": "python",
   "pygments_lexer": "ipython3",
   "version": "3.8.10"
  },
  "orig_nbformat": 4,
  "vscode": {
   "interpreter": {
    "hash": "916dbcbb3f70747c44a77c7bcd40155683ae19c65e1c03b4aa3499c5328201f1"
   }
  }
 },
 "nbformat": 4,
 "nbformat_minor": 2
}
