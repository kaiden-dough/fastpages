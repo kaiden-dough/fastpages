{
 "cells": [
  {
   "cell_type": "markdown",
   "metadata": {},
   "source": [
    "# Unit 3.9 & 3.11 Hacks\n",
    "- toc: true\n",
    "- author: Kaiden Do\n",
    "- comments: true\n",
    "- categories: [jupyter, week15]"
   ]
  },
  {
   "cell_type": "markdown",
   "metadata": {},
   "source": [
    "## Hacks\n",
    "### 3.9.1\n",
    "- why is it important to know that algorithms that look different can do the same thing and that algorithms that look the same might have different results?(0.15)\n",
    "    - **It is important to know that algorithms look different and that algorithms that look the same may have different results because when they look the same, a small difference can make it wrong. Also with different algorithms, it can do the same. It is important because I know that there are many ways to make an algorithm and I need to be careful when making algorithms.**\n",
    "- for the converted conditional to boolean conversion(0.10)"
   ]
  },
  {
   "cell_type": "code",
   "execution_count": 5,
   "metadata": {},
   "outputs": [
    {
     "name": "stdout",
     "output_type": "stream",
     "text": [
      "Drink it\n"
     ]
    }
   ],
   "source": [
    "isInedible = False\n",
    "isLiquid = True\n",
    "\n",
    "if isInedible == True:\n",
    "    print(\"Don't drink it\")\n",
    "else:\n",
    "    if isLiquid == True:\n",
    "        print(\"Drink it\")\n",
    "    else:\n",
    "        print(\"Don't drink it\")"
   ]
  },
  {
   "cell_type": "code",
   "execution_count": null,
   "metadata": {},
   "outputs": [],
   "source": [
    "isInedible = False\n",
    "isLiquid = True\n",
    "\n",
    "drinkTime = not(isInedible) and isLiquid\n",
    "if drinkTime == False:\n",
    "    print(\"Don't drink it\")\n",
    "if drinkTime == True:\n",
    "    print(\"Drink it\")"
   ]
  },
  {
   "cell_type": "markdown",
   "metadata": {},
   "source": [
    "### 3.9.2\n",
    "Develop your own complex algorithm using a flowchart and natural language, then code it!\n",
    "<html>\n",
    "<img src=\"https://raw.githubusercontent.com/kaiden-dough/fastpages/master/images/flowchartpop.png\">\n",
    "</html>\n",
    "\n",
    "1. Start\n",
    "2. There are 12 homeworks and 5 breads\n",
    "3. Repeat following steps 4-5 until there is no more bread or homework\n",
    "4. If there is more than one homework, do a homework\n",
    "5. If there is more than one bread, eat a bread\n",
    "6. Print done when finished\n",
    "7. Finish"
   ]
  },
  {
   "cell_type": "code",
   "execution_count": null,
   "metadata": {},
   "outputs": [
    {
     "name": "stdout",
     "output_type": "stream",
     "text": [
      "Homework left: 0 \n",
      "Bread left: 0\n"
     ]
    }
   ],
   "source": [
    "homework = 12\n",
    "bread = 5\n",
    "\n",
    "while (homework or bread) > 0:\n",
    "    if homework > 0:\n",
    "        homework -= 1\n",
    "    if bread > 0: \n",
    "        bread -= 1\n",
    "print(\"Homework left:\",homework,\"\\nBread left:\",bread)"
   ]
  },
  {
   "cell_type": "markdown",
   "metadata": {},
   "source": [
    "### 3.9.3\n",
    "Fix the number guessing game\n",
    "\n",
    "1. Make a flow chart for the algorithm number guessing game\n",
    "2. Make a function that gets the user guess\n",
    "3. Modify the existing search function to give more encouraging feedback\n",
    "\n",
    "FLOWCHART:\n",
    "<html>\n",
    "<img src=\"https://github.com/kaiden-dough/fastpages/blob/master/images/worstflow.png?raw=true\">\n",
    "</html>"
   ]
  },
  {
   "cell_type": "code",
   "execution_count": 20,
   "metadata": {},
   "outputs": [
    {
     "name": "stdout",
     "output_type": "stream",
     "text": [
      "I'm thinking of a number between 0 and 100.\n",
      "You guessed 50.\n",
      "Too high\n",
      "Guess a number between 0 and 50.\n",
      "You guessed 25.\n",
      "Too high\n",
      "Guess a number between 0 and 25.\n",
      "You guessed 15.\n",
      "You guessed the number in 3 guesses!\n"
     ]
    }
   ],
   "source": [
    "import random\n",
    "\n",
    "#sets variables for the game\n",
    "num_guesses = 0\n",
    "user_guess = -1\n",
    "upper_bound = 100\n",
    "lower_bound = 0\n",
    "\n",
    "#generates a random number\n",
    "number = random.randint(0,100)\n",
    "\n",
    "# print(number)     #for testing purposes\n",
    "\n",
    "print(f\"I'm thinking of a number between 0 and 100.\")\n",
    "\n",
    "#Write a function that gets a guess from the user using input()\n",
    "def guess():\n",
    "    num = input(\"What number?\")\n",
    "    #add something here\n",
    "    return num #add something here \n",
    "\n",
    "#Change the print statements to give feedback on whether the player guessed too high or too low\n",
    "def search(number, guess):\n",
    "    global lower_bound, upper_bound\n",
    "    if int(guess) < int(number):\n",
    "        print(\"Too low\") #change this\n",
    "        lower_bound = guess\n",
    "        return lower_bound, upper_bound\n",
    "    elif int(guess) > int(number):\n",
    "        print(\"Too high\") #change this\n",
    "        upper_bound = guess\n",
    "        return lower_bound, upper_bound\n",
    "    else:\n",
    "        upper_bound, lower_bound = guess, guess\n",
    "        return lower_bound, upper_bound \n",
    "\n",
    "while user_guess != number:\n",
    "    user_guess = guess()\n",
    "    num_guesses += 1\n",
    "    print(f\"You guessed {user_guess}.\")\n",
    "    lower_bound, upper_bound = search(number, user_guess)\n",
    "    if int(upper_bound) == int(number):\n",
    "        break\n",
    "    else:\n",
    "        print(f\"Guess a number between {lower_bound} and {upper_bound}.\")\n",
    "\n",
    "print(f\"You guessed the number in {num_guesses} guesses!\")"
   ]
  },
  {
   "cell_type": "markdown",
   "metadata": {},
   "source": [
    "### 3.11\n",
    "1. calculate the middle index and create a binary tree for each of these lists\n",
    "    - 12, 14, 43, 57, 79, 80, 99\n",
    "    - 92, 43, 74, 66, 30, 12, 1\n",
    "    - 7, 13, 96, 111, 33, 84, 60\n",
    "    - **BELOW**\n",
    "2. Using one of the sets of numbers from the question above, what would be the second number looked at in a binary search if the number is more than the middle number?\n",
    "    - **Set 1: 80, Set 2: 74, Set 3: 96**\n",
    "3. Which of the following lists can NOT a binary search be used in order to find a targeted value?\n",
    "\n",
    "    a. [\"amy\", \"beverly\", \"christian\", \"devin\"]\n",
    "\n",
    "    b. [-1, 2, 6, 9, 19]\n",
    "\n",
    "    c. [3, 2, 8, 12, 99]\n",
    "\n",
    "    d. [\"xylophone\", \"snowman\", \"snake\", \"doorbell\", \"author\"]\n",
    "    - **C because it is unsorted**"
   ]
  },
  {
   "cell_type": "code",
   "execution_count": 42,
   "metadata": {},
   "outputs": [
    {
     "name": "stdout",
     "output_type": "stream",
     "text": [
      "Middle Index of List # 1 is 57\n",
      "Middle Index of List # 2 is 43\n",
      "Middle Index of List # 3 is 60\n"
     ]
    }
   ],
   "source": [
    "numListOne = [12,14,44,57,79,80,99]\n",
    "numListTwo = [92,43,74,66,30,12,1]\n",
    "numListThree = [7,13,96,111,33,84,60]\n",
    "numLists = [numListOne, numListTwo, numListThree]\n",
    "for x in range(len(numLists)):\n",
    "    numLists[x].sort()\n",
    "    middle = int(len(numLists[x])/2)\n",
    "    print(\"Middle Index of List #\",x+1,\"is\",numLists[x][middle])"
   ]
  },
  {
   "cell_type": "markdown",
   "metadata": {},
   "source": [
    "<html>\n",
    "<img src=\"https://github.com/kaiden-dough/fastpages/blob/master/images/list1.png?raw=true\">\n",
    "</html>\n",
    "<div>\n",
    "<html>\n",
    "<img src=\"https://github.com/kaiden-dough/fastpages/blob/master/images/list2.png?raw=true\">\n",
    "</html>\n",
    "<div>\n",
    "<html>\n",
    "<img src=\"https://github.com/kaiden-dough/fastpages/blob/master/images/list3.png?raw=true\">\n",
    "</html>"
   ]
  }
 ],
 "metadata": {
  "kernelspec": {
   "display_name": "Python 3.9.12 ('base')",
   "language": "python",
   "name": "python3"
  },
  "language_info": {
   "codemirror_mode": {
    "name": "ipython",
    "version": 3
   },
   "file_extension": ".py",
   "mimetype": "text/x-python",
   "name": "python",
   "nbconvert_exporter": "python",
   "pygments_lexer": "ipython3",
   "version": "3.9.12"
  },
  "orig_nbformat": 4,
  "vscode": {
   "interpreter": {
    "hash": "77be5f8947de55c1b59e892625c51c53d088ff3f46dd825be25731a2df707187"
   }
  }
 },
 "nbformat": 4,
 "nbformat_minor": 2
}
