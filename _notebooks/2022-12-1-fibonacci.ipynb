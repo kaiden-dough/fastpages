{
 "cells": [
  {
   "cell_type": "markdown",
   "metadata": {},
   "source": [
    "# Fibonacci Series\n",
    "- toc: true\n",
    "- author: Kaiden Do\n",
    "- comments: true\n",
    "- categories: [jupyter, week14]"
   ]
  },
  {
   "cell_type": "code",
   "execution_count": 19,
   "metadata": {},
   "outputs": [
    {
     "name": "stdout",
     "output_type": "stream",
     "text": [
      "Terms: 10\n",
      "0\n",
      "1\n",
      "1\n",
      "2\n",
      "3\n",
      "5\n",
      "8\n",
      "13\n",
      "21\n",
      "34\n"
     ]
    }
   ],
   "source": [
    "amount = int(input(\"How many terms do you want?\"))\n",
    "num1 = 0\n",
    "num2 = 1\n",
    "count = 0\n",
    "if amount <= 0:\n",
    "    print(\"Error: Positive integers only\")\n",
    "elif(amount == 1):\n",
    "    print(\"Terms:\", amount)\n",
    "    print(num1)\n",
    "else:\n",
    "    print(\"Terms:\", amount)\n",
    "    print(num1)\n",
    "    print(num2)\n",
    "    while (count+2) < amount:\n",
    "        count += 1\n",
    "        temp = num2\n",
    "        num2 = num1 + temp\n",
    "        num1 = temp\n",
    "        print(num2)\n",
    "        \n",
    "        \n",
    "        \n"
   ]
  }
 ],
 "metadata": {
  "kernelspec": {
   "display_name": "Python 3.8.10 64-bit",
   "language": "python",
   "name": "python3"
  },
  "language_info": {
   "codemirror_mode": {
    "name": "ipython",
    "version": 3
   },
   "file_extension": ".py",
   "mimetype": "text/x-python",
   "name": "python",
   "nbconvert_exporter": "python",
   "pygments_lexer": "ipython3",
   "version": "3.8.10"
  },
  "orig_nbformat": 4,
  "vscode": {
   "interpreter": {
    "hash": "916dbcbb3f70747c44a77c7bcd40155683ae19c65e1c03b4aa3499c5328201f1"
   }
  }
 },
 "nbformat": 4,
 "nbformat_minor": 2
}
