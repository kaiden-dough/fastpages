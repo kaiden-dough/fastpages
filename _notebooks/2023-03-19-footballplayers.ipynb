{
 "cells": [
  {
   "attachments": {},
   "cell_type": "markdown",
   "metadata": {},
   "source": [
    "#  Football Players SQL\n",
    "- toc: true"
   ]
  },
  {
   "cell_type": "code",
   "execution_count": 7,
   "metadata": {},
   "outputs": [
    {
     "name": "stdout",
     "output_type": "stream",
     "text": [
      "(0, 'id', 'INTEGER', 1, None, 1)\n",
      "(1, '_name', 'VARCHAR(255)', 1, None, 0)\n",
      "(2, '_number', 'INTEGER', 1, None, 0)\n",
      "(3, '_wins', 'INTEGER', 1, None, 0)\n",
      "(4, '_losses', 'INTEGER', 1, None, 0)\n"
     ]
    }
   ],
   "source": [
    "import sqlite3\n",
    "\n",
    "database = 'instance/sqlite.db' # this is location of database\n",
    "\n",
    "def schema():\n",
    "    \n",
    "    # Connect to the database file\n",
    "    conn = sqlite3.connect(database)\n",
    "\n",
    "    # Create a cursor object to execute SQL queries\n",
    "    cursor = conn.cursor()\n",
    "    \n",
    "    # Fetch results of Schema\n",
    "    results = cursor.execute(\"PRAGMA table_info('football')\").fetchall()\n",
    "\n",
    "    # Print the results\n",
    "    for row in results:\n",
    "        print(row)\n",
    "\n",
    "    # Close the database connection\n",
    "    conn.close()\n",
    "    \n",
    "schema()\n",
    "\n",
    "# this makes the schema table from the sqlite database\n"
   ]
  },
  {
   "cell_type": "code",
   "execution_count": 8,
   "metadata": {},
   "outputs": [
    {
     "name": "stdout",
     "output_type": "stream",
     "text": [
      "(1, 'Patrick Mahomes', 15, 64, 16)\n",
      "(2, 'JJ Watt', 99, 77, 74)\n",
      "(3, 'Russell Wilson', 3, 108, 64)\n",
      "(4, 'Travis Kelce', 87, 105, 39)\n",
      "(5, 'Joe Burrow', 9, 24, 17)\n",
      "(6, 'Trevor Lawrence', 16, 12, 22)\n",
      "(7, 'Kaiden Do', 50, 100, 0)\n",
      "(8, 'Kaiden Do', 50, 0, 0)\n",
      "(9, '', '', '', '')\n"
     ]
    }
   ],
   "source": [
    "import sqlite3\n",
    "\n",
    "def read():\n",
    "    # Connect to the database file\n",
    "    conn = sqlite3.connect(database)\n",
    "\n",
    "    # Create a cursor object to execute SQL queries\n",
    "    cursor = conn.cursor()\n",
    "    \n",
    "    # Execute a SELECT statement to retrieve data from a table\n",
    "    results = cursor.execute('SELECT * FROM football').fetchall()\n",
    "\n",
    "    # Print the results\n",
    "    if len(results) == 0:\n",
    "        print(\"Table is empty\")\n",
    "    else:\n",
    "        for row in results:\n",
    "            print(row)\n",
    "\n",
    "    # Close the cursor and connection objects\n",
    "    cursor.close()\n",
    "    conn.close()\n",
    "    \n",
    "read()\n",
    "\n",
    "# This reads the data in the sqlite database"
   ]
  },
  {
   "cell_type": "code",
   "execution_count": 9,
   "metadata": {},
   "outputs": [],
   "source": [
    "import sqlite3\n",
    "\n",
    "def create():\n",
    "    name = input(\"Enter your name:\")\n",
    "    number = input(\"Enter your number:\")\n",
    "    wins = input(\"Enter your wins:\")\n",
    "    losses = input(\"Enter your losses:\")\n",
    "    \n",
    "    # Connect to the database file\n",
    "    conn = sqlite3.connect(database)\n",
    "\n",
    "    # Create a cursor object to execute SQL commands\n",
    "    cursor = conn.cursor()\n",
    "\n",
    "    try:\n",
    "        # Execute an SQL command to insert data into a table\n",
    "        cursor.execute(\"INSERT INTO football (_name, _number, _wins, _losses) VALUES (?, ?, ?, ?)\", (name, number, wins, losses))\n",
    "        \n",
    "        # Commit the changes to the database\n",
    "        conn.commit()\n",
    "        print(f\"A new player record {name} has been created\")\n",
    "                \n",
    "    except sqlite3.Error as error:\n",
    "        print(\"Error while executing the INSERT:\", error)\n",
    "\n",
    "\n",
    "    # Close the cursor and connection objects\n",
    "    cursor.close()\n",
    "    conn.close()\n",
    "    \n",
    "#create()"
   ]
  },
  {
   "cell_type": "code",
   "execution_count": 10,
   "metadata": {},
   "outputs": [],
   "source": [
    "import sqlite3\n",
    "\n",
    "def update():\n",
    "    name = input(\"Enter name to update\")\n",
    "    number = input(\"Enter updated number\")\n",
    "    wins = input(\"Enter updated wins\")\n",
    "    losses = input(\"Enter updated losses\")\n",
    "\n",
    "    # Connect to the database file\n",
    "    conn = sqlite3.connect(database)\n",
    "\n",
    "    # Create a cursor object to execute SQL commands\n",
    "    cursor = conn.cursor()\n",
    "\n",
    "    try:\n",
    "        # Execute an SQL command to update data in a table\n",
    "        cursor.execute(\"UPDATE football SET _number = ? WHERE _name = ?\", (number, name))\n",
    "        cursor.execute(\"UPDATE football SET _wins = ? WHERE _name = ?\", (wins, name))\n",
    "        cursor.execute(\"UPDATE football SET _losses = ? WHERE _name = ?\", (losses, name))\n",
    "        if cursor.rowcount == 0:\n",
    "            # The uid was not found in the table\n",
    "            print(f\"No name {name} was not found in the table\")\n",
    "        else:\n",
    "            print(f\"The row with user id {name} the password has been successfully updated\")\n",
    "            conn.commit()\n",
    "    except sqlite3.Error as error:\n",
    "        print(\"Error while executing the UPDATE:\", error)\n",
    "        \n",
    "    \n",
    "    # Close the cursor and connection objects\n",
    "    cursor.close()\n",
    "    conn.close()\n",
    "    \n",
    "#update()\n"
   ]
  },
  {
   "cell_type": "code",
   "execution_count": 11,
   "metadata": {},
   "outputs": [],
   "source": [
    "import sqlite3\n",
    "\n",
    "def delete():\n",
    "    name = input(\"Enter player name to delete\")\n",
    "\n",
    "    # Connect to the database file\n",
    "    conn = sqlite3.connect(database)\n",
    "\n",
    "    # Create a cursor object to execute SQL commands\n",
    "    cursor = conn.cursor()\n",
    "    \n",
    "    try:\n",
    "        cursor.execute(\"DELETE FROM football WHERE _name = ?\", (name,))\n",
    "        if cursor.rowcount == 0:\n",
    "            # The uid was not found in the table\n",
    "            print(f\"No name {name} was not found in the table\")\n",
    "        else:\n",
    "            # The uid was found in the table and the row was deleted\n",
    "            print(f\"The row with name {name} was successfully deleted\")\n",
    "        conn.commit()\n",
    "    except sqlite3.Error as error:\n",
    "        print(\"Error while executing the DELETE:\", error)\n",
    "        \n",
    "    # Close the cursor and connection objects\n",
    "    cursor.close()\n",
    "    conn.close()\n",
    "    \n",
    "#delete()"
   ]
  },
  {
   "cell_type": "code",
   "execution_count": 13,
   "metadata": {},
   "outputs": [
    {
     "name": "stdout",
     "output_type": "stream",
     "text": [
      "A new player record Kaiden Do has been created\n",
      "(1, 'Patrick Mahomes', 15, 64, 16)\n",
      "(2, 'JJ Watt', 99, 77, 74)\n",
      "(3, 'Russell Wilson', 3, 108, 64)\n",
      "(4, 'Travis Kelce', 87, 105, 39)\n",
      "(5, 'Joe Burrow', 9, 24, 17)\n",
      "(6, 'Trevor Lawrence', 16, 12, 22)\n",
      "(9, '', '', '', '')\n",
      "(10, 'Kaiden Do', 50, 0, 0)\n",
      "The row with name  was successfully deleted\n",
      "(1, 'Patrick Mahomes', 15, 64, 16)\n",
      "(2, 'JJ Watt', 99, 77, 74)\n",
      "(3, 'Russell Wilson', 3, 108, 64)\n",
      "(4, 'Travis Kelce', 87, 105, 39)\n",
      "(5, 'Joe Burrow', 9, 24, 17)\n",
      "(6, 'Trevor Lawrence', 16, 12, 22)\n",
      "(10, 'Kaiden Do', 50, 0, 0)\n",
      "The row with user id Kaiden Do the password has been successfully updated\n"
     ]
    }
   ],
   "source": [
    "# Menu, to run other cells from one control point\n",
    "def menu():\n",
    "    operation = input(\"Enter: (C)reate (R)ead (U)pdate or (D)elete or (S)chema\")\n",
    "    if operation.lower() == 'c':\n",
    "        create()\n",
    "    elif operation.lower() == 'r':\n",
    "        read()\n",
    "    elif operation.lower() == 'u':\n",
    "        update()\n",
    "    elif operation.lower() == 'd':\n",
    "        delete()\n",
    "    elif operation.lower() == 's':\n",
    "        schema()\n",
    "    elif len(operation)==0: # Escape Key\n",
    "        return\n",
    "    else:\n",
    "        print(\"Please enter c, r, u, or d\") \n",
    "    menu() # recursion, repeat menu\n",
    "        \n",
    "try:\n",
    "    menu() # start menu\n",
    "except:\n",
    "    print(\"Perform Jupyter 'Run All' prior to starting menu\")\n"
   ]
  },
  {
   "cell_type": "code",
   "execution_count": 14,
   "metadata": {},
   "outputs": [
    {
     "name": "stdout",
     "output_type": "stream",
     "text": [
      "(1, 'Patrick Mahomes', 15, 64, 16)\n",
      "(2, 'JJ Watt', 99, 77, 74)\n",
      "(3, 'Russell Wilson', 3, 108, 64)\n",
      "(4, 'Travis Kelce', 87, 105, 39)\n",
      "(5, 'Joe Burrow', 9, 24, 17)\n",
      "(6, 'Trevor Lawrence', 16, 12, 22)\n",
      "(10, 'Kaiden Do', 25, 1000, 10)\n"
     ]
    }
   ],
   "source": [
    "read()"
   ]
  }
 ],
 "metadata": {
  "kernelspec": {
   "display_name": "base",
   "language": "python",
   "name": "python3"
  },
  "language_info": {
   "codemirror_mode": {
    "name": "ipython",
    "version": 3
   },
   "file_extension": ".py",
   "mimetype": "text/x-python",
   "name": "python",
   "nbconvert_exporter": "python",
   "pygments_lexer": "ipython3",
   "version": "3.9.12"
  },
  "orig_nbformat": 4
 },
 "nbformat": 4,
 "nbformat_minor": 2
}
