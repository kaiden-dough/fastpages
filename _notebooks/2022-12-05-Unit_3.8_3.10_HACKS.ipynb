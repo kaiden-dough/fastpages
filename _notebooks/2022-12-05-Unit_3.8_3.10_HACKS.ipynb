{
 "cells": [
  {
   "cell_type": "markdown",
   "metadata": {},
   "source": [
    "# Unit 3.8 & 3.10 Hacks\n",
    "- toc: true\n",
    "- author: Kaiden Do\n",
    "- comments: true\n",
    "- categories: [jupyter, week15]"
   ]
  },
  {
   "cell_type": "markdown",
   "metadata": {},
   "source": [
    "## HACKS Unit 3 Section 8\n",
    "### Hacks Unit 3 Section 3.8.1\n",
    "1. Define an Iteration\n",
    "**Portion of code segments that repeat until the requirement is met**\n",
    "2. Make your own example of an iteration with at least 4 steps and a stopping condition(Similar to mine that I did)\n",
    "    1. I have n homeworks to do\n",
    "    2. Start and finish homework assignment\n",
    "    3. Move onto next homework assignment\n",
    "    4. Repeat steps 2-3 until there is no more homework\n",
    "3. Program a simple iteration."
   ]
  },
  {
   "cell_type": "code",
   "execution_count": 3,
   "metadata": {},
   "outputs": [
    {
     "name": "stdout",
     "output_type": "stream",
     "text": [
      "apple\n",
      "orange\n",
      "strawberry\n",
      "pear\n"
     ]
    }
   ],
   "source": [
    "fruit = [\"apple\", \"orange\", \"strawberry\", \"pear\"]\n",
    "i = 0\n",
    "for x in fruit:\n",
    "    print(fruit[i])\n",
    "    i += 1"
   ]
  },
  {
   "cell_type": "markdown",
   "metadata": {},
   "source": [
    "### Hacks Unit 3 Section 3.8.2\n",
    "1. What is an iteration statement, in your own words?\n",
    "**They change the order or course that the code is executed by repeating a section of code until the condition is met**\n",
    "2. Create a descending list of numbers using for loop"
   ]
  },
  {
   "cell_type": "code",
   "execution_count": 9,
   "metadata": {},
   "outputs": [
    {
     "name": "stdout",
     "output_type": "stream",
     "text": [
      "10\n",
      "9\n",
      "8\n",
      "7\n",
      "6\n",
      "5\n",
      "4\n",
      "3\n",
      "2\n",
      "1\n",
      "0\n"
     ]
    }
   ],
   "source": [
    "for x in range(10, -1, -1):\n",
    "    print(x)"
   ]
  },
  {
   "cell_type": "markdown",
   "metadata": {},
   "source": [
    "3. Using while loop, make a list of numbers which will form an output of 3,16,29,42,55,68,81"
   ]
  },
  {
   "cell_type": "code",
   "execution_count": 12,
   "metadata": {},
   "outputs": [
    {
     "name": "stdout",
     "output_type": "stream",
     "text": [
      "3\n",
      "16\n",
      "29\n",
      "42\n",
      "55\n",
      "68\n",
      "81\n"
     ]
    }
   ],
   "source": [
    "for x in range(3, 94, 13):\n",
    "    print(x)"
   ]
  },
  {
   "cell_type": "markdown",
   "metadata": {},
   "source": [
    "## HACKS Unit 3 Section 10\n",
    "1. Find the lowest value in a list (Luna Iwazaki)\n",
    "    - Use the list made below\n",
    "    - Make a variable to hold the minimum and set it to potential minimum value\n",
    "    - Loop\n",
    "    - Check each element to see if it is less than the minimum variable\n",
    "    - If the element is less than the minimum variable, update the minimum\n",
    "    - After all the elements of the list have been checked, display the minimum value"
   ]
  },
  {
   "cell_type": "code",
   "execution_count": 25,
   "metadata": {},
   "outputs": [
    {
     "name": "stdout",
     "output_type": "stream",
     "text": [
      "10 is the minimum value.\n"
     ]
    }
   ],
   "source": [
    "nums = [\"10\", \"15\", \"20\", \"25\", \"30\", \"35\"]\n",
    "potentialMin = int(nums.pop())\n",
    "while len(nums) != 0:\n",
    "    newNum = int(nums.pop())\n",
    "    if newNum < potentialMin:\n",
    "        potentialMin = newNum\n",
    "print(potentialMin, \"is the minimum value.\")"
   ]
  },
  {
   "cell_type": "markdown",
   "metadata": {},
   "source": [
    "2. Lists Quiz (Ethan Tran)\n",
    "Take a screenshot of your score on put it on your review ticket!\n",
    "![]({{ site.baseurl }}/images/quizethan.png)"
   ]
  }
 ],
 "metadata": {
  "kernelspec": {
   "display_name": "Python 3.9.12 ('base')",
   "language": "python",
   "name": "python3"
  },
  "language_info": {
   "codemirror_mode": {
    "name": "ipython",
    "version": 3
   },
   "file_extension": ".py",
   "mimetype": "text/x-python",
   "name": "python",
   "nbconvert_exporter": "python",
   "pygments_lexer": "ipython3",
   "version": "3.9.12"
  },
  "orig_nbformat": 4,
  "vscode": {
   "interpreter": {
    "hash": "77be5f8947de55c1b59e892625c51c53d088ff3f46dd825be25731a2df707187"
   }
  }
 },
 "nbformat": 4,
 "nbformat_minor": 2
}
