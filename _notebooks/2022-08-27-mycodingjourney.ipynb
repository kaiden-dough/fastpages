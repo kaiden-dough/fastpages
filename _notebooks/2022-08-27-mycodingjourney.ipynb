{
 "cells": [
  {
   "cell_type": "markdown",
   "metadata": {},
   "source": [
    "# My Personal Coding Journey\n",
    "> My origins and journey of programming.\n",
    "\n",
    "- toc: true\n",
    "- badges: false\n",
    "- comments: true\n",
    "- author: Kaiden Do\n",
    "- categories: [jupyter]"
   ]
  },
  {
   "cell_type": "markdown",
   "metadata": {},
   "source": [
    "## Scratch\n",
    "As a young child I took a few Scratch classes that got my acquainted with programming. These classes taught me the basics of programming and it kind of sparked my interest for robotics and engineering. In these classes I found out about simple things like if loops to make a Scratch maze.\n",
    "\n",
    "## FLL\n",
    "Later in my life I joined a FLL team. FLL or FIRST LEGO League is a robotics competition where teams would build a small robot that would complete tasks in order to earn points. We also had to program the robot using block code. The code I learned was how to create a line following robot or a robot that would detect its surroundings and execute an action.\n",
    "\n",
    "## FTC\n",
    "In 8th grade I joined a FTC team. FTC or FIRST Tech Challenge is the larger version of FLL. This is a competition where teams would build a robot that is about 1.5ft by 1.5 ft large and they would code it run autonomously and with a controller. Teams would earn points from doing different actions in the game. During this time, I learned mostly about building robots and touched a little bit of coding the robot.\n",
    "\n",
    "## Youtube Java Tutorials\n",
    "During the summer of 2022 I watched many YouTube tutorials to further my knowledge of code. I watched tutorials on Java and created a couple projects. I made a calculator that allows the user to add, subtract, multiply, or divide numbers until they want to stop and the program would print the total result. Also I began on a Blackjack program and I only made it so the player could play by themselves.\n",
    "\n",
    "## APCSP\n",
    "Now I am in APCSP and I am learning how to use many new things. I am learning Python, how to use GitHub, how to code in Jupyter notebooks, and in Markdown."
   ]
  }
 ],
 "metadata": {
  "kernelspec": {
   "display_name": "Python 3.8.10 64-bit",
   "language": "python",
   "name": "python3"
  },
  "language_info": {
   "name": "python",
   "version": "3.8.10"
  },
  "orig_nbformat": 4,
  "vscode": {
   "interpreter": {
    "hash": "916dbcbb3f70747c44a77c7bcd40155683ae19c65e1c03b4aa3499c5328201f1"
   }
  }
 },
 "nbformat": 4,
 "nbformat_minor": 2
}
