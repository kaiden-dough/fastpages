{
 "cells": [
  {
   "attachments": {},
   "cell_type": "markdown",
   "metadata": {},
   "source": [
    "#  Data Structures- Hashmaps, Sets, Hash Tables, Hashing and Collisions\n",
    "> Observing hashmaps with python dictionaries\n",
    "- toc: true\n",
    "- image: /images/python.png\n",
    "- categories: []\n",
    "- type: pbl\n",
    "- week: 28"
   ]
  },
  {
   "attachments": {},
   "cell_type": "markdown",
   "metadata": {},
   "source": [
    "## What is a Hashtable/Hashmap?\n",
    "\n",
    "> A hashtable is a data structure that with a collection of key-value pairs, where each key maps to a value, and the keys must be unique and hashable.\n",
    "\n",
    "- In Python there is a built in hashtable known as a ______dictionary_________.\n",
    "\n",
    "> The primary purpose of a hashtable is to provide efficient lookup, insertion, and deletion operations. When an element is to be inserted into the hashtable, a hash function is used to map the key to a specific index in the underlying array that is used to store the key-value pairs. The value is then stored at that index. When searching for a value, the hash function is used again to find the index where the value is stored.\n",
    "\n",
    "> The key advantage of a hashtable over other data structures like arrays and linked lists is its average-case time complexity for lookup, insertion, and deletion operations.\n",
    "\n",
    "- The typical time complexity of a hashtable is ______constant_________. \n"
   ]
  },
  {
   "attachments": {},
   "cell_type": "markdown",
   "metadata": {},
   "source": [
    "## What is Hashing and Collision?\n",
    "\n",
    "> Hashing is the process of mapping a given key to a value in a hash table or hashmap, using a hash function. The hash function takes the key as input and produces a hash value or hash code, which is then used to determine the index in the underlying array where the value is stored. The purpose of hashing is to provide a quick and efficient way to access data, by eliminating the need to search through an entire data structure to find a value.\n",
    "\n",
    "> However, it is possible for two different keys to map to the same hash value, resulting in a collision. When a collision occurs, there are different ways to resolve it, depending on the collision resolution strategy used.\n",
    "\n",
    "> Python's dictionary implementation is optimized to handle collisions efficiently, and the performance of the dictionary is generally very good, even in the presence of collisions. However, if the number of collisions is very high, the performance of the dictionary can degrade, so it is important to choose a good hash function that minimizes collisions when designing a Python dictionary.\n",
    "\n",
    "## What is a Set?"
   ]
  },
  {
   "cell_type": "code",
   "execution_count": 1,
   "metadata": {},
   "outputs": [
    {
     "name": "stdout",
     "output_type": "stream",
     "text": [
      "{1, 2, 3}\n"
     ]
    }
   ],
   "source": [
    "# Creating a set using set() function\n",
    "my_set = set([1, 2, 3, 2, 1])\n",
    "print(my_set)  \n",
    "\n",
    "# What do you notice in the output?\n",
    "#\n",
    "#It doesn't out put duplicates\n",
    "\n",
    "# Why do you think Sets are in the same tech talk as Hashmaps/Hashtables?\n",
    "#\n",
    "#I think because they ignore the duplicates"
   ]
  },
  {
   "attachments": {},
   "cell_type": "markdown",
   "metadata": {},
   "source": [
    "## Dictionary Example\n",
    "\n",
    "Below are just some basic features of a dictionary. As always, documentation is always the main source for all the full capablilties. "
   ]
  },
  {
   "cell_type": "code",
   "execution_count": 2,
   "metadata": {},
   "outputs": [
    {
     "name": "stdout",
     "output_type": "stream",
     "text": [
      "{'title': 'Lover', 'artist': 'Taylor Swift', 'year': 2019, 'genre': ['Pop', 'Synth-pop'], 'tracks': {1: 'I Forgot That You Existed', 2: 'Cruel Summer', 3: 'Lover', 4: 'The Man', 5: 'The Archer', 6: 'I Think He Knows', 7: 'Miss Americana & The Heartbreak Prince', 8: 'Paper Rings', 9: 'Cornelia Street', 10: 'Death By A Thousand Cuts', 11: 'London Boy', 12: \"Soon You'll Get Better (feat. Dixie Chicks)\", 13: 'False God', 14: 'You Need To Calm Down', 15: 'Afterglow', 16: 'Me! (feat. Brendon Urie of Panic! At The Disco)', 17: \"It's Nice To Have A Friend\", 18: 'Daylight'}}\n"
     ]
    }
   ],
   "source": [
    "# Creating a dictionary with information about the album \"Lover\"\n",
    "lover_album = {\n",
    "    \"title\": \"Lover\",\n",
    "    \"artist\": \"Taylor Swift\",\n",
    "    \"year\": 2019,\n",
    "    \"genre\": [\"Pop\", \"Synth-pop\"],\n",
    "    \"tracks\": {\n",
    "        1: \"I Forgot That You Existed\",\n",
    "        2: \"Cruel Summer\",\n",
    "        3: \"Lover\",\n",
    "        4: \"The Man\",\n",
    "        5: \"The Archer\",\n",
    "        6: \"I Think He Knows\",\n",
    "        7: \"Miss Americana & The Heartbreak Prince\",\n",
    "        8: \"Paper Rings\",\n",
    "        9: \"Cornelia Street\",\n",
    "        10: \"Death By A Thousand Cuts\",\n",
    "        11: \"London Boy\",\n",
    "        12: \"Soon You'll Get Better (feat. Dixie Chicks)\",\n",
    "        13: \"False God\",\n",
    "        14: \"You Need To Calm Down\",\n",
    "        15: \"Afterglow\",\n",
    "        16: \"Me! (feat. Brendon Urie of Panic! At The Disco)\",\n",
    "        17: \"It's Nice To Have A Friend\",\n",
    "        18: \"Daylight\"\n",
    "    }\n",
    "}\n",
    "\n",
    "# What data structures do you see?\n",
    "#\n",
    "#I see dicitonaries and lists\n",
    "\n",
    "# Printing the dictionary\n",
    "print(lover_album)"
   ]
  },
  {
   "cell_type": "code",
   "execution_count": 3,
   "metadata": {},
   "outputs": [
    {
     "name": "stdout",
     "output_type": "stream",
     "text": [
      "{1: 'I Forgot That You Existed', 2: 'Cruel Summer', 3: 'Lover', 4: 'The Man', 5: 'The Archer', 6: 'I Think He Knows', 7: 'Miss Americana & The Heartbreak Prince', 8: 'Paper Rings', 9: 'Cornelia Street', 10: 'Death By A Thousand Cuts', 11: 'London Boy', 12: \"Soon You'll Get Better (feat. Dixie Chicks)\", 13: 'False God', 14: 'You Need To Calm Down', 15: 'Afterglow', 16: 'Me! (feat. Brendon Urie of Panic! At The Disco)', 17: \"It's Nice To Have A Friend\", 18: 'Daylight'}\n",
      "{1: 'I Forgot That You Existed', 2: 'Cruel Summer', 3: 'Lover', 4: 'The Man', 5: 'The Archer', 6: 'I Think He Knows', 7: 'Miss Americana & The Heartbreak Prince', 8: 'Paper Rings', 9: 'Cornelia Street', 10: 'Death By A Thousand Cuts', 11: 'London Boy', 12: \"Soon You'll Get Better (feat. Dixie Chicks)\", 13: 'False God', 14: 'You Need To Calm Down', 15: 'Afterglow', 16: 'Me! (feat. Brendon Urie of Panic! At The Disco)', 17: \"It's Nice To Have A Friend\", 18: 'Daylight'}\n"
     ]
    }
   ],
   "source": [
    "# Retrieve value from dictionary with key\n",
    "print(lover_album.get('tracks'))\n",
    "# or\n",
    "print(lover_album['tracks'])"
   ]
  },
  {
   "cell_type": "code",
   "execution_count": 4,
   "metadata": {},
   "outputs": [
    {
     "name": "stdout",
     "output_type": "stream",
     "text": [
      "The Man\n",
      "The Man\n"
     ]
    }
   ],
   "source": [
    "# Retrieve value from a dictionary inside a dictionary\n",
    "print(lover_album.get('tracks')[4])\n",
    "# or\n",
    "print(lover_album['tracks'][4])"
   ]
  },
  {
   "cell_type": "code",
   "execution_count": 5,
   "metadata": {},
   "outputs": [
    {
     "name": "stdout",
     "output_type": "stream",
     "text": [
      "{'title': 'Lover', 'artist': 'Taylor Swift', 'year': 2019, 'genre': ['Pop', 'Synth-pop'], 'tracks': {1: 'I Forgot That You Existed', 2: 'Cruel Summer', 3: 'Lover', 4: 'The Man', 5: 'The Archer', 6: 'I Think He Knows', 7: 'Miss Americana & The Heartbreak Prince', 8: 'Paper Rings', 9: 'Cornelia Street', 10: 'Death By A Thousand Cuts', 11: 'London Boy', 12: \"Soon You'll Get Better (feat. Dixie Chicks)\", 13: 'False God', 14: 'You Need To Calm Down', 15: 'Afterglow', 16: 'Me! (feat. Brendon Urie of Panic! At The Disco)', 17: \"It's Nice To Have A Friend\", 18: 'Daylight'}, 'producer': ['Taylor Swift', 'Jack Antonoff', 'Joel Little', 'Taylor Swift', 'Louis Bell', 'Frank Dukes']}\n",
      "{'title': 'Lover', 'artist': 'Taylor Swift', 'year': 2019, 'genre': ['Pop', 'Synth-pop'], 'tracks': {1: 'I Forgot That You Existed', 2: 'Cruel Summer', 3: 'Lover', 4: 'The Man', 5: 'The Archer', 6: 'I Think He Knows', 7: 'Miss Americana & The Heartbreak Prince', 8: 'Paper Rings', 9: 'Cornelia Street', 10: 'Death By A Thousand Cuts', 11: 'London Boy', 12: \"Soon You'll Get Better (feat. Dixie Chicks)\", 13: 'False God', 14: 'You Need To Calm Down', 15: 'Afterglow', 16: 'Me! (feat. Brendon Urie of Panic! At The Disco)', 17: \"It's Nice To Have A Friend\", 18: 'Daylight'}, 'producer': {'Joel Little', 'Louis Bell', 'Frank Dukes', 'Taylor Swift', 'Jack Antonoff'}}\n"
     ]
    }
   ],
   "source": [
    "# adding a value with a new key\n",
    "lover_album[\"producer\"] = ['Taylor Swift', 'Jack Antonoff', 'Joel Little', 'Taylor Swift', 'Louis Bell', 'Frank Dukes']\n",
    "\n",
    "print(lover_album)\n",
    "# What can you change to make sure there are no duplicate producers?\n",
    "#\n",
    "# put set([]) in front of it\n",
    "lover_album[\"producer\"] = set(['Taylor Swift', 'Jack Antonoff', 'Joel Little', 'Taylor Swift', 'Louis Bell', 'Frank Dukes'])\n",
    "\n",
    "# Printing the dictionary\n",
    "print(lover_album)"
   ]
  },
  {
   "cell_type": "code",
   "execution_count": 6,
   "metadata": {},
   "outputs": [
    {
     "name": "stdout",
     "output_type": "stream",
     "text": [
      "{'title': 'Lover', 'artist': 'Taylor Swift', 'year': 2019, 'genre': ['Pop', 'Synth-pop', 'electropop'], 'tracks': {1: 'I Forgot That You Existed', 2: 'Cruel Summer', 3: 'Lover', 4: 'The Man', 5: 'The Archer', 6: 'I Think He Knows', 7: 'Miss Americana & The Heartbreak Prince', 8: 'Paper Rings', 9: 'Cornelia Street', 10: 'Death By A Thousand Cuts', 11: 'London Boy', 12: \"Soon You'll Get Better (feat. Dixie Chicks)\", 13: 'False God', 14: 'You Need To Calm Down', 15: 'Afterglow', 16: 'Me! (feat. Brendon Urie of Panic! At The Disco)', 17: \"It's Nice To Have A Friend\", 18: 'Daylight', 19: 'All Of The Girls You Loved Before'}, 'producer': {'Joel Little', 'Louis Bell', 'Frank Dukes', 'Taylor Swift', 'Jack Antonoff'}}\n"
     ]
    }
   ],
   "source": [
    "# Adding a an key-value pair to an existing key \n",
    "lover_album[\"tracks\"].update({19: \"All Of The Girls You Loved Before\"})\n",
    "\n",
    "# How would add an additional genre to the dictionary, like electropop? \n",
    "# \n",
    "# appending it\n",
    "lover_album[\"genre\"].append(\"electropop\")\n",
    "\n",
    "# Printing the dictionary\n",
    "print(lover_album)"
   ]
  },
  {
   "cell_type": "code",
   "execution_count": 7,
   "metadata": {},
   "outputs": [
    {
     "name": "stdout",
     "output_type": "stream",
     "text": [
      "title: Lover\n",
      "artist: Taylor Swift\n",
      "year: 2019\n",
      "genre: ['Pop', 'Synth-pop', 'electropop']\n",
      "tracks: {1: 'I Forgot That You Existed', 2: 'Cruel Summer', 3: 'Lover', 4: 'The Man', 5: 'The Archer', 6: 'I Think He Knows', 7: 'Miss Americana & The Heartbreak Prince', 8: 'Paper Rings', 9: 'Cornelia Street', 10: 'Death By A Thousand Cuts', 11: 'London Boy', 12: \"Soon You'll Get Better (feat. Dixie Chicks)\", 13: 'False God', 14: 'You Need To Calm Down', 15: 'Afterglow', 16: 'Me! (feat. Brendon Urie of Panic! At The Disco)', 17: \"It's Nice To Have A Friend\", 18: 'Daylight', 19: 'All Of The Girls You Loved Before'}\n",
      "producer: {'Joel Little', 'Louis Bell', 'Frank Dukes', 'Taylor Swift', 'Jack Antonoff'}\n"
     ]
    }
   ],
   "source": [
    "# Print lover_album in more readable format\n",
    "for k,v in lover_album.items(): # iterate using a for loop for key and value\n",
    "    print(str(k) + \": \" + str(v))\n",
    "\n",
    "# Write your own code to print tracks in readable format\n",
    "#\n",
    "#"
   ]
  },
  {
   "cell_type": "code",
   "execution_count": 11,
   "metadata": {},
   "outputs": [
    {
     "name": "stdout",
     "output_type": "stream",
     "text": [
      "Title: Lover\n",
      "Artist: Taylor Swift\n",
      "Year: 2019\n",
      "Genres:\n",
      "--> Pop\n",
      "--> Synth-pop\n",
      "--> electropop\n",
      "Tracks:\n",
      "1. I Forgot That You Existed\n",
      "2. Cruel Summer\n",
      "3. Lover\n",
      "4. The Man\n",
      "5. The Archer\n",
      "6. I Think He Knows\n",
      "7. Miss Americana & The Heartbreak Prince\n",
      "8. Paper Rings\n",
      "9. Cornelia Street\n",
      "10. Death By A Thousand Cuts\n",
      "11. London Boy\n",
      "12. Soon You'll Get Better (feat. Dixie Chicks)\n",
      "13. False God\n",
      "14. You Need To Calm Down\n",
      "15. Afterglow\n",
      "16. Me! (feat. Brendon Urie of Panic! At The Disco)\n",
      "17. It's Nice To Have A Friend\n",
      "18. Daylight\n",
      "19. All Of The Girls You Loved Before\n",
      "Producers:\n",
      "--> Joel Little\n",
      "--> Louis Bell\n",
      "--> Frank Dukes\n",
      "--> Taylor Swift\n",
      "--> Jack Antonoff\n"
     ]
    }
   ],
   "source": [
    "print(f\"Title: {lover_album['title']}\")\n",
    "print(f\"Artist: {lover_album['artist']}\")\n",
    "print(f\"Year: {lover_album['year']}\")\n",
    "print(\"Genres:\")\n",
    "for g in lover_album['genre']:\n",
    "    print(f\"--> {g}\")\n",
    "    \n",
    "print(\"Tracks:\")\n",
    "for tn,tt in lover_album['tracks'].items():\n",
    "    print(f\"{tn}. {tt}\")\n",
    "    \n",
    "print(\"Producers:\")\n",
    "for p in lover_album['producer']:\n",
    "    print(f\"--> {p}\")"
   ]
  },
  {
   "cell_type": "code",
   "execution_count": 18,
   "metadata": {},
   "outputs": [
    {
     "name": "stdout",
     "output_type": "stream",
     "text": [
      "{1: 'I Forgot That You Existed', 2: 'Cruel Summer', 3: 'Lover', 4: 'The Man', 5: 'The Archer', 6: 'I Think He Knows', 7: 'Miss Americana & The Heartbreak Prince', 8: 'Paper Rings', 9: 'Cornelia Street', 10: 'Death By A Thousand Cuts', 11: 'London Boy', 12: \"Soon You'll Get Better (feat. Dixie Chicks)\", 13: 'False God', 14: 'You Need To Calm Down', 15: 'Afterglow', 16: 'Me! (feat. Brendon Urie of Panic! At The Disco)', 17: \"It's Nice To Have A Friend\", 18: 'Daylight', 19: 'All Of The Girls You Loved Before'}\n"
     ]
    }
   ],
   "source": [
    "# Using conditionals to retrieve a random song\n",
    "def search():\n",
    "    search = input(\"What would you like to know about the album?\")\n",
    "    if lover_album.get(search.lower()) == None:\n",
    "        print(\"Invalid Search\")\n",
    "    else:\n",
    "        print(lover_album.get(search.lower()))\n",
    "\n",
    "search()\n",
    "\n",
    "# This is a very basic code segment, how can you improve upon this code?\n",
    "#\n",
    "#We could make is retrieve songs by track number, and make it keep on repeating with recursion."
   ]
  },
  {
   "attachments": {},
   "cell_type": "markdown",
   "metadata": {},
   "source": [
    "## Hacks\n",
    "\n",
    "- Answer *ALL* questions in the code segments\n",
    "- Create a diagram or comparison illustration (Canva).\n",
    "    - What are the pro and cons of using this data structure? \n",
    "    <img src=\"https://user-images.githubusercontent.com/69410126/229420417-c7611b76-7760-4d93-bba2-360599694718.png\">\n",
    "    - Dictionary vs List    \n",
    "    <img src=\"https://user-images.githubusercontent.com/69410126/229421183-1ef1837f-ea40-4ebc-80e7-7af32c6f38cb.png\">\n",
    "- Expand upon the code given to you, possible improvements in comments\n",
    "    - Done\n",
    "- Build your own album showing features of a python dictionary\n",
    "    - Below\n",
    "- For Mr. Yeung's class: Justify your favorite Taylor Swift song, answer may effect seed\n",
    "    - Mean or Enchanted"
   ]
  },
  {
   "cell_type": "code",
   "execution_count": 19,
   "metadata": {},
   "outputs": [
    {
     "name": "stdout",
     "output_type": "stream",
     "text": [
      "{'title': 'The Lo-Fis', 'artist': 'Steve Lacy', 'year': 2020, 'genre': ['R&B/Soul', 'Alternative/Indie'], 'tracks': {1: 'Atomic Vomit', 2: 'When I', 3: 'Thats No Fun', 4: 'Cocky Girl', 5: 'Uuuu', 6: 'Jars of It', 7: 'Bars. 16', 8: 'Infrunami', 9: 'Hummer', 10: '4real', 11: 'I Think I Should', 12: 'Daze', 13: 'Out of Me Head', 14: 'Donchano', 15: 'The Song'}}\n"
     ]
    }
   ],
   "source": [
    "lofis_album = {\n",
    "    \"title\": \"The Lo-Fis\",\n",
    "    \"artist\": \"Steve Lacy\",\n",
    "    \"year\": 2020,\n",
    "    \"genre\": [\"R&B/Soul\", \"Alternative/Indie\"],\n",
    "    \"tracks\": {\n",
    "        1: \"Atomic Vomit\",\n",
    "        2: \"When I\",\n",
    "        3: \"Thats No Fun\",\n",
    "        4: \"Cocky Girl\",\n",
    "        5: \"Uuuu\",\n",
    "        6: \"Jars of It\",\n",
    "        7: \"Bars. 16\",\n",
    "        8: \"Infrunami\",\n",
    "        9: \"Hummer\",\n",
    "        10: \"4real\",\n",
    "        11: \"I Think I Should\",\n",
    "        12: \"Daze\",\n",
    "        13: \"Out of Me Head\",\n",
    "        14: \"Donchano\",\n",
    "        15: \"The Song\"\n",
    "    }\n",
    "}\n",
    "print(lofis_album)"
   ]
  },
  {
   "cell_type": "code",
   "execution_count": 22,
   "metadata": {},
   "outputs": [
    {
     "name": "stdout",
     "output_type": "stream",
     "text": [
      "{1: 'Atomic Vomit', 2: 'When I', 3: 'Thats No Fun', 4: 'Cocky Girl', 5: 'Uuuu', 6: 'Jars of It', 7: 'Bars. 16', 8: 'Infrunami', 9: 'Hummer', 10: '4real', 11: 'I Think I Should', 12: 'Daze', 13: 'Out of Me Head', 14: 'Donchano', 15: 'The Song'}\n",
      "{1: 'Atomic Vomit', 2: 'When I', 3: 'Thats No Fun', 4: 'Cocky Girl', 5: 'Uuuu', 6: 'Jars of It', 7: 'Bars. 16', 8: 'Infrunami', 9: 'Hummer', 10: '4real', 11: 'I Think I Should', 12: 'Daze', 13: 'Out of Me Head', 14: 'Donchano', 15: 'The Song'}\n",
      "Cocky Girl\n",
      "Cocky Girl\n"
     ]
    }
   ],
   "source": [
    "# Retrieve value from dictionary with key\n",
    "print(lofis_album.get('tracks'))\n",
    "# or\n",
    "print(lofis_album['tracks'])\n",
    "\n",
    "# Retrieve value from a dictionary inside a dictionary\n",
    "print(lofis_album.get('tracks')[4])\n",
    "# or\n",
    "print(lofis_album['tracks'][4])\n",
    "lofis_album[\"producer\"] = set(['Steve Lacy'])"
   ]
  },
  {
   "cell_type": "code",
   "execution_count": 23,
   "metadata": {},
   "outputs": [
    {
     "name": "stdout",
     "output_type": "stream",
     "text": [
      "Title: The Lo-Fis\n",
      "Artist: Steve Lacy\n",
      "Year: 2020\n",
      "Genres:\n",
      "--> R&B/Soul\n",
      "--> Alternative/Indie\n",
      "Tracks:\n",
      "1. Atomic Vomit\n",
      "2. When I\n",
      "3. Thats No Fun\n",
      "4. Cocky Girl\n",
      "5. Uuuu\n",
      "6. Jars of It\n",
      "7. Bars. 16\n",
      "8. Infrunami\n",
      "9. Hummer\n",
      "10. 4real\n",
      "11. I Think I Should\n",
      "12. Daze\n",
      "13. Out of Me Head\n",
      "14. Donchano\n",
      "15. The Song\n",
      "Producers:\n",
      "--> Steve Lacy\n"
     ]
    }
   ],
   "source": [
    "print(f\"Title: {lofis_album['title']}\")\n",
    "print(f\"Artist: {lofis_album['artist']}\")\n",
    "print(f\"Year: {lofis_album['year']}\")\n",
    "print(\"Genres:\")\n",
    "for g in lofis_album['genre']:\n",
    "    print(f\"--> {g}\")\n",
    "    \n",
    "print(\"Tracks:\")\n",
    "for tn,tt in lofis_album['tracks'].items():\n",
    "    print(f\"{tn}. {tt}\")\n",
    "    \n",
    "print(\"Producers:\")\n",
    "for p in lofis_album['producer']:\n",
    "    print(f\"--> {p}\")"
   ]
  },
  {
   "cell_type": "code",
   "execution_count": 31,
   "metadata": {},
   "outputs": [],
   "source": [
    "def searchlofis():\n",
    "    search = input(\"What would you like to know about the album? or escape\")\n",
    "    if lofis_album.get(search.lower()) == None:\n",
    "        print(\"Invalid Search\")\n",
    "        return\n",
    "    else:\n",
    "        print(lofis_album.get(search.lower()))\n",
    "        \n",
    "    searchlofis()"
   ]
  },
  {
   "cell_type": "code",
   "execution_count": 32,
   "metadata": {},
   "outputs": [
    {
     "name": "stdout",
     "output_type": "stream",
     "text": [
      "{1: 'Atomic Vomit', 2: 'When I', 3: 'Thats No Fun', 4: 'Cocky Girl', 5: 'Uuuu', 6: 'Jars of It', 7: 'Bars. 16', 8: 'Infrunami', 9: 'Hummer', 10: '4real', 11: 'I Think I Should', 12: 'Daze', 13: 'Out of Me Head', 14: 'Donchano', 15: 'The Song'}\n",
      "2020\n",
      "Steve Lacy\n",
      "{'Steve Lacy'}\n",
      "Invalid Search\n"
     ]
    }
   ],
   "source": [
    "searchlofis()"
   ]
  }
 ],
 "metadata": {
  "kernelspec": {
   "display_name": "base",
   "language": "python",
   "name": "python3"
  },
  "language_info": {
   "codemirror_mode": {
    "name": "ipython",
    "version": 3
   },
   "file_extension": ".py",
   "mimetype": "text/x-python",
   "name": "python",
   "nbconvert_exporter": "python",
   "pygments_lexer": "ipython3",
   "version": "3.9.12"
  },
  "orig_nbformat": 4
 },
 "nbformat": 4,
 "nbformat_minor": 2
}
