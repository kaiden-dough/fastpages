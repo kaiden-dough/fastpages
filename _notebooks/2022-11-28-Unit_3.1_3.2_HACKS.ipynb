{
 "cells": [
  {
   "cell_type": "markdown",
   "metadata": {},
   "source": [
    "# Unit 3.1 & 3.2 Hacks\n",
    "- toc: true\n",
    "- author: Kaiden Do\n",
    "- comments: true\n",
    "- categories: [markdown, week14]"
   ]
  },
  {
   "cell_type": "markdown",
   "metadata": {},
   "source": [
    "## Unit 3.1.1 Hacks\n",
    " - Uses variables\n",
    " - Show your understanding of different variable data types by using at least 2 different types in your code\n",
    " - Uses meaningful names to prevent confusion"
   ]
  },
  {
   "cell_type": "code",
   "execution_count": 1,
   "metadata": {
    "vscode": {
     "languageId": "javascript"
    }
   },
   "outputs": [
    {
     "name": "stdout",
     "output_type": "stream",
     "text": [
      "There are 20 liters of water\n"
     ]
    }
   ],
   "source": [
    "drink = \"water\"\n",
    "volume = 20\n",
    "print(\"There are\",volume,\"liters of\", drink)"
   ]
  },
  {
   "cell_type": "markdown",
   "metadata": {},
   "source": [
    "## Unit 3.1.2 Hacks\n",
    " - In your own words, briefly explain by writing down what an assignment operator is\n",
    "    - **An assignment operator is an equal sign that assigns a value to a variable**\n",
    " - In Collegeboard pseudocode, what symbol is used to assign values to variables?\n",
    "    - **An arrow <-**\n",
    " - A variable, x, is initially given a value of 15. Later on, the value for x is changed to 22. If you print x, would the command display 15 or 22?\n",
    "    - **It would display 22**\n",
    "\n",
    " - Bonus: multiple ways to define a variable"
   ]
  },
  {
   "cell_type": "code",
   "execution_count": 1,
   "metadata": {
    "vscode": {
     "languageId": "javascript"
    }
   },
   "outputs": [],
   "source": [
    "var age = 1;\n",
    "const b = 3"
   ]
  },
  {
   "cell_type": "markdown",
   "metadata": {},
   "source": [
    "## Unit 3.2.1 Hacks\n",
    "Questions\n",
    " - What is a list?\n",
    "**A list is a sequence of elements with each element being a variable**\n",
    " - What is an element\n",
    "**An element is one of the things in a list**\n",
    " - What is an easy way to reference the elements in a list or string?\n",
    "**An easy way to reference elements in a list or string is by using index**\n",
    " - What is an example of a string?\n",
    "**A string is a series of characters, for example a person's name**\n",
    "\n",
    "Create an index of your favorite foods\n",
    "Tips: Index starts at 1, Strings are ordered sequences of characters\n",
    "\n",
    "Extra work: Try to create an index that lists your favorite food and print the element at index 3. More work: Create a list of your favorite foods and create an index to access them.\n",
    "\n",
    "marks = [\"food1\"]"
   ]
  },
  {
   "cell_type": "code",
   "execution_count": 24,
   "metadata": {},
   "outputs": [
    {
     "name": "stdout",
     "output_type": "stream",
     "text": [
      "hamburger\n",
      "pizza\n",
      "fried chicken\n",
      "fried chicken\n"
     ]
    }
   ],
   "source": [
    "favFoods = [\"pizza\",\"steak\",\"ribs\",\"hamburger\",\"fried chicken\"]\n",
    "print(favFoods[3])\n",
    "print(favFoods[0])\n",
    "print(favFoods[4])\n",
    "print(favFoods[-1])"
   ]
  },
  {
   "cell_type": "markdown",
   "metadata": {},
   "source": [
    "## Unit 3.2.2 Hacks\n",
    "The following code is incomplete. Its intended purpose is to increase three numbers, all of which ask for user input, by an amount specified the user. The input code is abstracted, but the actual logic isn’t connected to the abstraction."
   ]
  },
  {
   "cell_type": "code",
   "execution_count": 23,
   "metadata": {},
   "outputs": [
    {
     "name": "stdout",
     "output_type": "stream",
     "text": [
      "Original numbers: [9, 101, -40]\n",
      "Adding: 15\n",
      "New numbers: [24, 116, -25]\n"
     ]
    }
   ],
   "source": [
    "num1=input(\"Input a number. \")\n",
    "num2=input(\"Input a number. \")\n",
    "num3=input(\"Input a number. \")\n",
    "add=input(\"How much would you like to add? \")\n",
    "\n",
    "# Add code in the space below\n",
    "numlist = [int(num1),int(num2),int(num3)]\n",
    "print(\"Original numbers:\",numlist)\n",
    "print(\"Adding:\",add)\n",
    "\n",
    "\n",
    "\n",
    "# The following is the code that adds the inputted addend to the other numbers. It is hidden from the user.\n",
    "for i in range(len(numlist)):\n",
    "    numlist[i-1] += int(add)\n",
    "\n",
    "print(\"New numbers:\",numlist)\n"
   ]
  },
  {
   "cell_type": "markdown",
   "metadata": {},
   "source": [
    "## Unit 3.2.3 Hacks\n",
    "On a single markdown file:\n",
    " - Insert a screenshot of your score on the python quiz\n",
    "   ![](my_icons/firstpython.png)\n",
    " - Insert a screenshot of your simplifying of the food list\n",
    "   ![](my_icons/foodlist.png)\n",
    " - Why are using lists better for a program, rather than writing out each line of code?\n",
    "    - **Using lists are better for a program because it reduces redundancy and makes the program more organized and simpler. Also the code is easier to read and faster to write.**\n",
    " - Make your own list the “long and slow way” then manage the complexity of the list\n",
    "    - Long and Slow Way"
   ]
  },
  {
   "cell_type": "code",
   "execution_count": 26,
   "metadata": {},
   "outputs": [
    {
     "name": "stdout",
     "output_type": "stream",
     "text": [
      "apple banana orange mango kiwi lemon lime\n"
     ]
    }
   ],
   "source": [
    "fruit1 = \"apple\"\n",
    "fruit2 = \"banana\"\n",
    "fruit3 = \"orange\"\n",
    "fruit4 = \"mango\"\n",
    "fruit5 = \"kiwi\"\n",
    "fruit6 = \"lemon\"\n",
    "fruit7 = \"lime\"\n",
    "print(fruit1, fruit2, fruit3, fruit4, fruit5, fruit6, fruit7)"
   ]
  },
  {
   "cell_type": "markdown",
   "metadata": {},
   "source": [
    "Better Way"
   ]
  },
  {
   "cell_type": "code",
   "execution_count": 25,
   "metadata": {},
   "outputs": [
    {
     "name": "stdout",
     "output_type": "stream",
     "text": [
      "['apple', 'banana', 'orange', 'mango', 'kiwi', 'lemon', 'lime']\n"
     ]
    }
   ],
   "source": [
    "fruits = [\"apple\", \"banana\", \"orange\", \"mango\", \"kiwi\", \"lemon\", \"lime\"]\n",
    "print(fruits)"
   ]
  }
 ],
 "metadata": {
  "kernelspec": {
   "display_name": "Python 3.8.10 64-bit",
   "language": "python",
   "name": "python3"
  },
  "language_info": {
   "codemirror_mode": {
    "name": "ipython",
    "version": 3
   },
   "file_extension": ".py",
   "mimetype": "text/x-python",
   "name": "python",
   "nbconvert_exporter": "python",
   "pygments_lexer": "ipython3",
   "version": "3.8.10"
  },
  "orig_nbformat": 4,
  "vscode": {
   "interpreter": {
    "hash": "916dbcbb3f70747c44a77c7bcd40155683ae19c65e1c03b4aa3499c5328201f1"
   }
  }
 },
 "nbformat": 4,
 "nbformat_minor": 2
}
