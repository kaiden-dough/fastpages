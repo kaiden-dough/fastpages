{
 "cells": [
  {
   "cell_type": "markdown",
   "metadata": {},
   "source": [
    "# 10 Insights from “Psychology and the Good Life”\n",
    "> The ten insights from the video “Psychology and the Good Life” and more.\n",
    "\n",
    "- toc: true\n",
    "- badges: false\n",
    "- comments: true\n",
    "- author: Kaiden Do\n",
    "- categories: [jupyter, week4]"
   ]
  },
  {
   "cell_type": "markdown",
   "metadata": {},
   "source": [
    "## [“Psychology and the Good Life” by Laurie Santos](https://www.youtube.com/watch?v=ZizdB0TgAVM)\n",
    "In this video, Laurie Santos talked about her class \"Psychology and the Good Life\". Laurie Santos is a professor at Yale and she thought that instead of only teaching how human minds work, she needed to teach students how to implement the new knowledge to make their lives happier. So she made the class, \"Psychology and the Good Life\", and in her talk she summed up the class with ten insights.\n",
    "\n",
    "### Insight #1: We can change our well-being\n",
    "There is a common misconception that we are stuck in the current well-being we are in, but that is false. We are able to improve our happiness ourselves. From a study by Sonja Lyubomirsky, a psychologist, found that about 50% of our well-being is affected by our genes. This means that the other 50% can be affected by our own doing.\n",
    "\n",
    "### Insight #2: Material and temporary joy does not affect one's happiness in the long-term\n",
    "When people want to get happier, they believe that they must get rid of the bad things in their life or get more money from their jobs. Though this does slightly affect one's well-being, it only affects at most 10% of it. Found in a study by Sonja Lyubomirsky, behaviors and willingness to change is what takes the most effect on one's well-being.\n",
    "\n",
    "### Insight #3: Bringing your self is the hardest part of changing your well-being\n",
    "Taking control of your flow of life is the hardest part of becoming happy. Just learning about psychology won't help you become happy, you must put it into practice. For example to become fit, one must workout regularly and consistently to observe results. Same with your well-being, one must make a change that is consistently affecting your life for the better.\n",
    "\n",
    "### Insight #4: Realize that your intuition is lying to yourself about how to become happy\n",
    "Your mind is not telling you what you need to become happy. To become happy, one must realize that their mind is not telling the truth. Your mind tells you that you need more material possessions to be happy, but this is false because one you get those items, you just want more.\n",
    "\n",
    "### Insight #5: Social connections are key for happiness\n",
    "Nick Eppley and his colleagues at Chicago Business School conducted a study asking people on the subway to stay in a solitary state, a state where one must talk to another the whole ride, or do what ever they want. According to the study, the people who made social connections felt happier than before and those who were solitary felt worse.\n",
    "\n",
    "### Insight #6: Helping others can also improve happiness\n",
    "Elizabeth Dunn and others from the University of British Columbia had a study where people were given 5 or 20 dollars and were given a change to treat themselves or someone else. At the end of the study, those who helped others out felt better and felt happier. The result also showed that the amount of money did not affect the helper's happiness because they felt happy to even help someone else.\n",
    "\n",
    "### Insight #7: Make time to be gratuitous everyday\n",
    "Taking time to be thankful about something everyday can improve one's happiness. Just writing a small note about what you are grateful for can bump up your happiness and well-being. It keeps your mind on positivity instead of negativity and it is good for your well-being.\n",
    "\n",
    "### Insight #8: Improving physical heath can also improve mental health\n",
    "Things like exercising and getting enough hours of sleep are not only good for your physical health but it is good for your mental health as well. Doing healthy practices does more than just good for your body but also your mind, well-being, and mood.\n",
    "\n",
    "### Insight #9: Be present in the moment\n",
    "Taking time to realize what you are doing and focusing is important for your well-being. People tend to just go through the motions and rush through the day trying to get everything done, but taking a moment to really comprehend what is going on in your day can bump up your well-being.\n",
    "\n",
    "### Insight #10: Become wealthy with time\n",
    "People who prioritize the amount of time they have are more happy than those who would sacrifice their time to get money. Taking a break from doing work is great for your well-being.\n",
    "\n",
    "## Gratitude Note\n",
    "What I wrote to my friend Leo.\n",
    "> Leo you are a terrific person, you are very hard working both in school and in FTC. Also, you are a great friend because you help me when I need it.\n",
    "\n",
    "Leo's response\n",
    "> I feel so thankful that you made this note just for me and I just want to say thank you for saying this note to me. - Leo Sun"
   ]
  },
  {
   "cell_type": "markdown",
   "metadata": {},
   "source": [
    "## Learning\n",
    "Learning is a large part of a student's life. Almost every single class a student will take requires some proof that they learnt something. Some ways to help a student learn are by focusing on their work and practice good learning habits. Like in Laurie Santos's talk, we need to value our time. If we value our time we become rich in time and it lets us improve out mental well-being. We can value our time by doing many things. For example we can use our time effectively by focusing and finishing our work in a timely manner and not rushing it all last minute. Also, in adherence to Laurie Santos's talk we should take control and practice good habits. These good habits are like working hard when you are given a chance to relieve the stress of the workload. These things would not only help you proceed in your class but it would help you well-being because it would minimize the size of your homework at home. This would let you sleep earlier and improve your mental health. Another way to help students learn is by taking notes on [important terms, ideas of vocab](https://kaiden-dough.github.io/fastpages/_pages/02_notes.html)."
   ]
  },
  {
   "cell_type": "markdown",
   "metadata": {},
   "source": []
  },
  {
   "cell_type": "markdown",
   "metadata": {},
   "source": [
    "## Gratitude List\n",
    "- My family\n",
    "- Access to good food\n",
    "- An opportunity to receive a good education\n",
    "- Access to internet and technology\n",
    "- Living in a nice neighborhood\n",
    "\n",
    "## My Mental Health Goals\n",
    "- Do something I enjoy daily\n",
    "- Get 7-9 hours of sleep a day\n",
    "- Eat healthy with occasional treat\n",
    "- Exercise at least 3 times a week\n",
    "- Do something fun everyday"
   ]
  }
 ],
 "metadata": {
  "kernelspec": {
   "display_name": "Python 3.8.10 64-bit",
   "language": "python",
   "name": "python3"
  },
  "language_info": {
   "name": "python",
   "version": "3.8.10"
  },
  "orig_nbformat": 4,
  "vscode": {
   "interpreter": {
    "hash": "916dbcbb3f70747c44a77c7bcd40155683ae19c65e1c03b4aa3499c5328201f1"
   }
  }
 },
 "nbformat": 4,
 "nbformat_minor": 2
}
