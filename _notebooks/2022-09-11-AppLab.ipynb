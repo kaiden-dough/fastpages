{
 "cells": [
  {
   "cell_type": "markdown",
   "metadata": {},
   "source": [
    "# AppLab Planning and Process\n",
    "> My plan, problems, solutions, and challenges while making my app.\n",
    "\n",
    "- toc: true\n",
    "- badges: false\n",
    "- comments: true\n",
    "- author: Kaiden Do\n",
    "- categories: [code.org, week3]\n",
    "- image: /images/code.png"
   ]
  },
  {
   "cell_type": "markdown",
   "metadata": {},
   "source": [
    "## [My App](https://studio.code.org/projects/applab/rrhMZ0WoGvsJaDqiw1F6EZQbpIunXvd8U0o591jiu4g)\n",
    "<iframe width=\"392\" height=\"620\" style=\"border: 0px;\" src=\"https://studio.code.org/projects/applab/rrhMZ0WoGvsJaDqiw1F6EZQbpIunXvd8U0o591jiu4g/embed\"></iframe>\n",
    "## Plan\n",
    "I plan to create two things on my App. I want to make a quiz about animals and a luck based game that uses tiles.\n",
    "\n",
    "### Animal Quiz\n",
    "I want this to be a 10 question quiz that requires the user to type in their answer. I will do this with the onEvent function and use an image and text input.\n",
    "\n",
    "### Luck Based Game\n",
    "I want this game to have 16 tiles and the user and a friend can take turns choosing tiles. I will do this will boxes and images that appear by using the onEvent click function. I will also use variable to control whose turn it is.\n",
    "\n",
    "## Extra Features\n",
    "### Animal Quiz\n",
    "- The user can click a back button that allows them to go back to the homepage or restart the game"
   ]
  },
  {
   "cell_type": "code",
   "execution_count": null,
   "metadata": {
    "vscode": {
     "languageId": "javascript"
    }
   },
   "outputs": [],
   "source": [
    "onEvent(\"home\", \"click\", function( ) {\n",
    "  setScreen(\"homepage\");\n",
    "});\n",
    "onEvent(\"animalstart\", \"click\", function( ) {\n",
    "  setScreen(\"start\");\n",
    "});"
   ]
  },
  {
   "cell_type": "markdown",
   "metadata": {},
   "source": [
    "- The question the user is on before they click the back button is recorded so they can return if they decide to cancel"
   ]
  },
  {
   "cell_type": "code",
   "execution_count": null,
   "metadata": {
    "vscode": {
     "languageId": "javascript"
    }
   },
   "outputs": [],
   "source": [
    "onEvent(\"cancel\", \"click\", function( ) {\n",
    "    setScreen(Arrq[animalq]);\n",
    "});\n",
    "\n",
    "animalq = 0;"
   ]
  },
  {
   "cell_type": "markdown",
   "metadata": {},
   "source": [
    "- I used arrays to minimize the repeating, the arrays were used to move through questions"
   ]
  },
  {
   "cell_type": "code",
   "execution_count": null,
   "metadata": {
    "vscode": {
     "languageId": "javascript"
    }
   },
   "outputs": [],
   "source": [
    "var Arrq = [\"q1\", \"q2\", \"q3\", \"q4\", \"q5\", \"q6\", \"q7\", \"q8\", \"q9\", \"q10\", \"end\"];\n",
    "setScreen(Arrq[animalq]);\n",
    "animalq = 0;"
   ]
  },
  {
   "cell_type": "markdown",
   "metadata": {},
   "source": [
    "- I made a function that would see if the answer was correct or incorrect, so it could display and check or x"
   ]
  },
  {
   "cell_type": "code",
   "execution_count": null,
   "metadata": {
    "vscode": {
     "languageId": "javascript"
    }
   },
   "outputs": [],
   "source": [
    "function grade(input, animal, animal2, check, x, q){\n",
    "  if (getText(input).toLowerCase() == animal) {\n",
    "    correct++;\n",
    "    showElement(check);\n",
    "  } else if (getText(input).toLowerCase() == animal2) {\n",
    "    correct++;\n",
    "    showElement(check);\n",
    "  }  else {\n",
    "    showElement(x);\n",
    "  }\n",
    "  hideElement(input);\n",
    "  setTimeout(function() {\n",
    "    hideElement(check);\n",
    "    hideElement(x);\n",
    "    showElement(input);\n",
    "    setText(input, \"\");\n",
    "    setScreen(q);\n",
    "  }, 1000);\n",
    "}\n",
    "\n",
    "grade(\"panda-input\", \"panda\", \"\", \"check1\", \"x1\", \"q2\");"
   ]
  },
  {
   "cell_type": "markdown",
   "metadata": {},
   "source": [
    "- The user's score is posted at the end of the game (out of 10)"
   ]
  },
  {
   "cell_type": "code",
   "execution_count": null,
   "metadata": {
    "vscode": {
     "languageId": "javascript"
    }
   },
   "outputs": [],
   "source": [
    "setText(\"score\", \"Your score is \" + correct + \"/10!!!\");"
   ]
  },
  {
   "cell_type": "markdown",
   "metadata": {},
   "source": [
    "- The user's answer can be in any case, because I converted their answer to lowercase to compare it to the lowercase answer key"
   ]
  },
  {
   "cell_type": "code",
   "execution_count": null,
   "metadata": {
    "vscode": {
     "languageId": "javascript"
    }
   },
   "outputs": [],
   "source": [
    "if (getText(input).toLowerCase() == animal) {\n",
    "    correct++;\n",
    "    showElement(check);\n",
    "}"
   ]
  },
  {
   "cell_type": "markdown",
   "metadata": {},
   "source": [
    "### Luck Based Game (Logo Game)\n",
    "- The user can also click a back button that lets them restart or go to the homepage"
   ]
  },
  {
   "cell_type": "code",
   "execution_count": null,
   "metadata": {
    "vscode": {
     "languageId": "javascript"
    }
   },
   "outputs": [],
   "source": [
    "onEvent(\"back\", \"click\", function( ) {\n",
    "  setScreen(\"choiceslogo\");\n",
    "});\n",
    "onEvent(\"homepagelogo\", \"click\", function( ) {\n",
    "  setScreen(\"homepage\");\n",
    "  codeorg = 0;\n",
    "});\n",
    "onEvent(\"reset\", \"click\", function( ) {\n",
    "  setScreen(\"logostart\");\n",
    "  codeorg = 0;\n",
    "});\n",
    "onEvent(\"cancellogo\", \"click\", function( ) {\n",
    "  setScreen(\"gamescreen\");\n",
    "});"
   ]
  },
  {
   "cell_type": "markdown",
   "metadata": {},
   "source": [
    "- The tiles are shuffled each game to make each experience unique"
   ]
  },
  {
   "cell_type": "code",
   "execution_count": null,
   "metadata": {
    "vscode": {
     "languageId": "javascript"
    }
   },
   "outputs": [],
   "source": [
    "var Arrsquare = [\"a1\", \"a2\", \"b1\", \"b2\", \"c1\", \"c2\", \"d1\", \"d2\", \"e1\", \"e2\", \"f1\", \"f2\", \"g1\", \"g2\", \"h1\", \"h2\"];\n",
    "\n",
    "function shuffle(array) {\n",
    "  var Arrbefore = array.length,  Arrshuffle;\n",
    "  while (Arrbefore != 0) {\n",
    "    Arrshuffle = Math.floor(Math.random() * Arrbefore);\n",
    "    Arrbefore--;\n",
    "    var swap = array[Arrbefore];\n",
    "    array[Arrbefore] = array[Arrshuffle];\n",
    "    array[Arrshuffle] = swap;\n",
    "  }\n",
    "  return array;\n",
    "}\n",
    "\n",
    "Arrnewsquare = shuffle(Arrsquare);"
   ]
  },
  {
   "cell_type": "markdown",
   "metadata": {},
   "source": [
    "- They are shuffled into an array, then the tiles are moved to the correct position using a for loop and an array"
   ]
  },
  {
   "cell_type": "code",
   "execution_count": null,
   "metadata": {
    "vscode": {
     "languageId": "javascript"
    }
   },
   "outputs": [],
   "source": [
    "var Arrxcoord = [\"13\", \"89\", \"165\", \"241\", \"13\", \"89\", \"165\", \"241\", \"13\", \"89\", \"165\", \"241\", \"13\", \"89\", \"165\", \"241\"];\n",
    "var Arrycoord = [\"78\", \"78\", \"78\", \"78\", \"154\", \"154\", \"154\", \"154\", \"230\", \"230\", \"230\", \"230\", \"306\", \"306\", \"306\", \"306\"];\n",
    "var Arrbox = [\"box1\", \"box2\", \"box3\", \"box4\", \"box5\", \"box6\", \"box7\", \"box8\", \"box9\", \"box10\", \"box11\", \"box12\", \"box13\", \"box14\", \"box15\", \"box16\"];\n",
    "\n",
    "onEvent(\"logostartbutton\", \"click\", function( ) {\n",
    "  setScreen(\"gamescreen\");\n",
    "  Arrnewsquare = shuffle(Arrsquare);\n",
    "  for (var i = 0; i < 16; i++) {\n",
    "    hideElement(Arrnewsquare[i]);\n",
    "    hideElement(\"win\");\n",
    "    setPosition(Arrnewsquare[i], Arrxcoord[i], Arrycoord[i], 60, 60);\n",
    "    setProperty(Arrbox[i], \"background-color\", \"#D7DADA\");\n",
    "  }\n",
    "});"
   ]
  },
  {
   "cell_type": "markdown",
   "metadata": {},
   "source": [
    "- Each time the tile is clicked, it is tested to be the winner and then it changes the tile color to minimize confusion while playing"
   ]
  },
  {
   "cell_type": "code",
   "execution_count": null,
   "metadata": {
    "vscode": {
     "languageId": "javascript"
    }
   },
   "outputs": [],
   "source": [
    "function redundant(box){\n",
    "  showElement(Arrnewsquare[clicked]);\n",
    "  numclick++;\n",
    "  if(Arrnewsquare[clicked]==\"h1\"){\n",
    "    wintime();\n",
    "  }\n",
    "  evenorodd = numclick%2;\n",
    "  if (evenorodd == 0){\n",
    "    setProperty(box, \"background-color\", \"#6BC9FF\");\n",
    "  }\n",
    "  else if (evenorodd == 1){\n",
    "    setProperty(box, \"background-color\", \"#F27A72\");\n",
    "  } \n",
    "}"
   ]
  },
  {
   "cell_type": "markdown",
   "metadata": {},
   "source": [
    "- When there is a winner, the program sees if the amount of clicks is even or odd to decide if player 1 or 2 wins  "
   ]
  },
  {
   "cell_type": "code",
   "execution_count": null,
   "metadata": {
    "vscode": {
     "languageId": "javascript"
    }
   },
   "outputs": [],
   "source": [
    "function wintime(){\n",
    "  showElement(\"win\");\n",
    "  evenorodd = numclick%2;\n",
    "  if (evenorodd == 0){\n",
    "    setProperty(\"win\", \"text-color\", \"#6BC9FF\");\n",
    "    setText(\"win\", \"Player 2 Wins!!!\");\n",
    "  }\n",
    "  else if (evenorodd == 1){\n",
    "    setProperty(\"win\", \"text-color\", \"#F27A72\");\n",
    "    setText(\"win\", \"Player 1 Wins!!!\");\n",
    "  }\n",
    "}"
   ]
  },
  {
   "cell_type": "markdown",
   "metadata": {},
   "source": [
    "\n",
    "## Problems and Solutions\n",
    " - **On the animal quiz, I couldn't type in rhinoceros or hippopotamus**, so I added that the quiz would test both for hippo or hippopotamus and rhino or rhinoceros."
   ]
  },
  {
   "cell_type": "code",
   "execution_count": null,
   "metadata": {
    "vscode": {
     "languageId": "javascript"
    }
   },
   "outputs": [],
   "source": [
    "if (getText(input).toLowerCase() == animal) {\n",
    "    correct++;\n",
    "    showElement(check);\n",
    "} else if (getText(input).toLowerCase() == animal2) {\n",
    "    correct++;\n",
    "    showElement(check);\n",
    "}"
   ]
  },
  {
   "cell_type": "markdown",
   "metadata": {},
   "source": [
    " - **On both games, when I restarted the game, the previous results were still there**, so I reset the game every time the screen was switched to the game screen."
   ]
  },
  {
   "cell_type": "code",
   "execution_count": null,
   "metadata": {
    "vscode": {
     "languageId": "javascript"
    }
   },
   "outputs": [],
   "source": [
    "onEvent(\"start-button\", \"click\", function( ) {\n",
    "    setScreen(\"q1\");\n",
    "    correct = 0;\n",
    "});\n",
    "\n",
    "onEvent(\"logostartbutton\", \"click\", function( ) {\n",
    "    setScreen(\"gamescreen\");\n",
    "    Arrnewsquare = shuffle(Arrsquare);\n",
    "    for (var i = 0; i < 16; i++) {\n",
    "      hideElement(Arrnewsquare[i]);\n",
    "      hideElement(\"win\");\n",
    "      setPosition(Arrnewsquare[i], Arrxcoord[i], Arrycoord[i], 60, 60);\n",
    "      setProperty(Arrbox[i], \"background-color\", \"#D7DADA\");\n",
    "    }\n",
    "});"
   ]
  },
  {
   "cell_type": "markdown",
   "metadata": {},
   "source": [
    " - **On the luck game, I couldn't figure out how to shuffle the position of the tiles**, so I researched online on ways to shuffle an array and used this in my code."
   ]
  },
  {
   "cell_type": "code",
   "execution_count": null,
   "metadata": {
    "vscode": {
     "languageId": "javascript"
    }
   },
   "outputs": [],
   "source": [
    "function shuffle(array) {\n",
    "    var Arrbefore = array.length,  Arrshuffle;\n",
    "    while (Arrbefore != 0) {\n",
    "      Arrshuffle = Math.floor(Math.random() * Arrbefore);\n",
    "      Arrbefore--;\n",
    "      var swap = array[Arrbefore];\n",
    "      array[Arrbefore] = array[Arrshuffle];\n",
    "      array[Arrshuffle] = swap;\n",
    "    }\n",
    "    return array;\n",
    "}"
   ]
  },
  {
   "cell_type": "markdown",
   "metadata": {},
   "source": [
    " - **On the logo game, I couldn't make it announce the winner**, so I debugged my code and realized that I needed to test after each click if the logo had been found."
   ]
  },
  {
   "cell_type": "code",
   "execution_count": null,
   "metadata": {
    "vscode": {
     "languageId": "javascript"
    }
   },
   "outputs": [],
   "source": [
    "function wintime(){\n",
    "    showElement(\"win\");\n",
    "    evenorodd = numclick%2;\n",
    "    if (evenorodd == 0){\n",
    "      setProperty(\"win\", \"text-color\", \"#6BC9FF\");\n",
    "      setText(\"win\", \"Player 2 Wins!!!\");\n",
    "    }\n",
    "    else if (evenorodd == 1){\n",
    "      setProperty(\"win\", \"text-color\", \"#F27A72\");\n",
    "      setText(\"win\", \"Player 1 Wins!!!\");\n",
    "    }\n",
    "}\n",
    "\n",
    "function redundant(box){\n",
    "  showElement(Arrnewsquare[clicked]);\n",
    "  numclick++;\n",
    "  if(Arrnewsquare[clicked]==\"h1\"){\n",
    "    wintime();\n",
    "  }\n",
    "  evenorodd = numclick%2;\n",
    "  if (evenorodd == 0){\n",
    "    setProperty(box, \"background-color\", \"#6BC9FF\");\n",
    "  }\n",
    "  else if (evenorodd == 1){\n",
    "    setProperty(box, \"background-color\", \"#F27A72\");\n",
    "  } \n",
    "}\n",
    "\n",
    "onEvent(\"box1\", \"click\", function( ) {\n",
    "    clicked = 0;\n",
    "    redundant(\"box1\");\n",
    "});"
   ]
  },
  {
   "cell_type": "markdown",
   "metadata": {},
   "source": [
    " - **On the luck game, the user could press in a small portion of the tile and cause the tile to change color**, so I edited the sizing and position of the tiles to eliminate the error."
   ]
  },
  {
   "cell_type": "code",
   "execution_count": null,
   "metadata": {
    "vscode": {
     "languageId": "javascript"
    }
   },
   "outputs": [],
   "source": [
    "setPosition(Arrnewsquare[i], Arrxcoord[i], Arrycoord[i], 60, 60);"
   ]
  },
  {
   "cell_type": "markdown",
   "metadata": {},
   "source": [
    "## Create Performance Task skills and rubric\n",
    "### Program Purpose and Function\n",
    "The Animal Quiz's purpose is to quiz the user on their knowledge of animals from photos. The function of the quiz is they press the animal button in the homepage, then press another button to start the quiz. They are then prompted to type in the name of the animal in a text input for 10 animals. For each correct answer a check is displayed and an x for every incorrect. At the end the user can view their score. At any point in the quiz, the user can click the back arrow and they can either return to the homepage, restart the quiz, or cancel the back arrow.\n",
    "\n",
    "The Logo Game's purpose is to let the 2 users have a friendly contest. The function of the game is that they press the game in the homepage, then press start to begin the game. The users take turns picking tiles, each turning a different color for each player. Once a logo is found, the player who clicked it is announced as the winner and the users are given a chance to play again. At any point in the quiz, the user can hit a back arrow to return to the homepage, restart the game, or cancel.\n",
    "\n",
    "### Data Abstraction\n",
    "I used a list for the x and y coordinates of the tiles. These tiles were then used to reposition the positions of the tiles in a randomized order to create a new game each time. The name of the variable in the code are Arrxcoord and Arrycoord. The data in these lists are the x and y coordinates of the tiles and where they should be placed.\n",
    "\n",
    "### Managing Complexity\n",
    "I created a function called grade that would check if the answer given by the the user was correct in the Animal Quiz. It would take in a parameter of the text inputted, the correct answer, an alternate spelling, the screen's checkmark, the screen's x and the next question screen. With these, the function would compare the inputted text with the correct answer or alternate spelling. If it is correct, the function would display the screen's checkmark. If not, the function displays the screen's x. After a second passes, the function would switch to the next question. This minimizes the complexity of the program by condensing the multiple tests into one singular function.\n",
    "\n",
    "### Procedural Abstraction\n",
    "Like how I managed complexity I made a function to grade the Animal Quiz responses. It would take in a parameter of the text inputted, the correct answer, an alternate spelling, the screen's checkmark, the screen's x and the next question screen. With these, the function would compare the inputted text with the correct answer or alternate spelling. If it is correct, the function would display the screen's checkmark. If not, the function displays the screen's x. After a second passes, the function would switch to the next question.\n",
    "### Algorithm Implementation\n",
    "I used iteration in the for loop when shuffling the position of the tiles in the Logo Game The loop would run through an array and use the data of each element to position the tiles on the x and y coordinate plane. I had selection through my if and else statements. These would only run the code if the if and else statements' requirements were met.\n",
    "I had sequencing in my AppLab by running code consecutively. When resetting the game screens and questions, the answers were erased and the colors were wiped and correct amount of answers were ran in a sequence.\n",
    "\n",
    "### Testing\n",
    "I tested my quiz and game multiple times to make it as efficient and make it avoid as many errors as I could think of. I would let it so the variable that regarded score would always be reset so the score would not superscore. Also I would reshuffle the tiles in the Logo Game so the position of the winning tile would be different every time."
   ]
  }
 ],
 "metadata": {
  "kernelspec": {
   "display_name": "Python 3.8.10 64-bit",
   "language": "python",
   "name": "python3"
  },
  "language_info": {
   "codemirror_mode": {
    "name": "ipython",
    "version": 3
   },
   "file_extension": ".py",
   "mimetype": "text/x-python",
   "name": "python",
   "nbconvert_exporter": "python",
   "pygments_lexer": "ipython3",
   "version": "3.8.10"
  },
  "orig_nbformat": 4,
  "vscode": {
   "interpreter": {
    "hash": "916dbcbb3f70747c44a77c7bcd40155683ae19c65e1c03b4aa3499c5328201f1"
   }
  }
 },
 "nbformat": 4,
 "nbformat_minor": 2
}
