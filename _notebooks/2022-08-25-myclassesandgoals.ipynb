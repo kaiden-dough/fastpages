{
 "cells": [
  {
   "cell_type": "markdown",
   "metadata": {},
   "source": [
    "# My Class and Goals\n",
    "> Below are my class and my goals I desire to accomplish for each class.\n",
    "\n",
    "- toc: true\n",
    "- badges: false\n",
    "- comments: true\n",
    "- author: Kaiden Do\n",
    "- categories: [jupyter, week1]\n",
    "- image: images/Del_Norte__CA__Nighthawks_Logo.png"
   ]
  },
  {
   "cell_type": "markdown",
   "metadata": {},
   "source": [
    "## Trimester 1\n",
    "### AP Physics Mechanics - Period 1\n",
    "This course will bring students to have a strong \n",
    "understanding of Newtonian mechanics and be well versed in performing and analyzing laboratory experiments.\n",
    "\n",
    "In this class, I plan to achieve A's all trimesters and attempt to get a 5 on the AP exam. Also, I want to learn more about physics.\n",
    "\n",
    "### United States History - Period 2\n",
    "In this course, students will complete a survey of United States History from the writing of the Constitution through the Great Depression.\n",
    "\n",
    "In this class, I desire A's in the two trimesters I take it. I also want to learn more about the history of the United States.\n",
    "\n",
    "### AP Computer Science Principles - Period 3\n",
    "The goals I have for APCSP is to increase my ability and knowledge about computer science. I also want to get A's and a 5 in the AP exam.\n",
    "\n",
    "### AP Calculus BC - Period 4\n",
    "In this class, students will create deeper connections with algebra, geometry, functions, and technology. Also, students will build upon their previous knowledge of calculus.\n",
    "\n",
    "The goals I have for this class is to get a 5 on the AP exam and to get all A's. I also want to increase my knowledge in mathematics.\n",
    "\n",
    "### AP English Language - Period 5\n",
    "In this class, students will focus on the study of rhetoric, the art of effective communication.  Students will have numerous opportunities to analyze the strategies of accomplished writers so that they can improve their own abilities to communicate effectively.\n",
    "\n",
    "In this class, I want to increase my ability to write effectively and get all A's and a 5 on the AP exam.\n",
    "\n",
    "\n",
    "## Trimester 2\n",
    "TBD\n",
    "\n",
    "## Trimester 3\n",
    "TBD"
   ]
  }
 ],
 "metadata": {
  "kernelspec": {
   "display_name": "Python 3.8.10 64-bit",
   "language": "python",
   "name": "python3"
  },
  "language_info": {
   "name": "python",
   "version": "3.8.10"
  },
  "orig_nbformat": 4,
  "vscode": {
   "interpreter": {
    "hash": "916dbcbb3f70747c44a77c7bcd40155683ae19c65e1c03b4aa3499c5328201f1"
   }
  }
 },
 "nbformat": 4,
 "nbformat_minor": 2
}
