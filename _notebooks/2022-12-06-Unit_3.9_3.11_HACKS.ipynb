{
 "cells": [
  {
   "cell_type": "markdown",
   "metadata": {},
   "source": [
    "# Unit 3.9 & 3.11 Hacks\n",
    "- toc: true\n",
    "- author: Kaiden Do\n",
    "- comments: true\n",
    "- categories: [jupyter, week15]"
   ]
  },
  {
   "cell_type": "markdown",
   "metadata": {},
   "source": [
    "## Hacks\n",
    "### 3.9.1\n",
    "- why is it important to know that algorithms that look different can do the same thing and that algorithms that look the same might have different results?(0.15)\n",
    "    - **It is important to know that algorithms look different and that algorithms that look the same may have different results because when they look the same, a small difference can make it wrong. Also with different algorithms, it can do the same. It is important because I know that there are many ways to make an algorithm and I need to be careful when making algorithms.**\n",
    "- for the converted conditional to boolean conversion(0.10)"
   ]
  },
  {
   "cell_type": "code",
   "execution_count": null,
   "metadata": {},
   "outputs": [],
   "source": [
    "isInedible = False\n",
    "isLiquid = True\n",
    "\n",
    "if isInedible == True:\n",
    "    print(\"Don't drink it\")\n",
    "else:\n",
    "    if isLiquid == True:\n",
    "        print(\"Drink it\")\n",
    "    else:\n",
    "        print(\"Don't drink it\")"
   ]
  },
  {
   "cell_type": "code",
   "execution_count": null,
   "metadata": {},
   "outputs": [],
   "source": [
    "isInedible = False\n",
    "isLiquid = True\n",
    "\n",
    "drinkTime = not(isInedible) and isLiquid\n",
    "if drinkTime == False:\n",
    "    print(\"Don't drink it\")\n",
    "if drinkTime == True:\n",
    "    print(\"Drink it\")"
   ]
  },
  {
   "cell_type": "markdown",
   "metadata": {},
   "source": [
    "### 3.9.2\n",
    "Develop your own complex algorithm using a flowchart and natural language, then code it!\n",
    "<html>\n",
    "<img src=\"https://raw.githubusercontent.com/kaiden-dough/fastpages/master/images/flowchartpop.png\">\n",
    "</html>\n",
    "\n",
    "1. Start\n",
    "2. There are 12 homeworks and 5 breads\n",
    "3. Repeat following steps 4-5 until there is no more bread or homework\n",
    "4. If there is more than one homework, do a homework\n",
    "5. If there is more than one bread, eat a bread\n",
    "6. Print done when finished\n",
    "7. Finish"
   ]
  },
  {
   "cell_type": "code",
   "execution_count": 5,
   "metadata": {},
   "outputs": [
    {
     "name": "stdout",
     "output_type": "stream",
     "text": [
      "Homework left: 0 \n",
      "Bread left: 0\n"
     ]
    }
   ],
   "source": [
    "homework = 12\n",
    "bread = 5\n",
    "\n",
    "while (homework or bread) > 0:\n",
    "    if homework > 0:\n",
    "        homework -= 1\n",
    "    if bread > 0: \n",
    "        bread -= 1\n",
    "print(\"Homework left:\",homework,\"\\nBread left:\",bread)"
   ]
  }
 ],
 "metadata": {
  "kernelspec": {
   "display_name": "Python 3.8.10 64-bit",
   "language": "python",
   "name": "python3"
  },
  "language_info": {
   "codemirror_mode": {
    "name": "ipython",
    "version": 3
   },
   "file_extension": ".py",
   "mimetype": "text/x-python",
   "name": "python",
   "nbconvert_exporter": "python",
   "pygments_lexer": "ipython3",
   "version": "3.8.10"
  },
  "orig_nbformat": 4,
  "vscode": {
   "interpreter": {
    "hash": "916dbcbb3f70747c44a77c7bcd40155683ae19c65e1c03b4aa3499c5328201f1"
   }
  }
 },
 "nbformat": 4,
 "nbformat_minor": 2
}
