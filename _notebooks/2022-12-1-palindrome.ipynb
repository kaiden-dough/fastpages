{
 "cells": [
  {
   "cell_type": "markdown",
   "metadata": {},
   "source": [
    "# Palindrome Maker\n",
    "- toc: true\n",
    "- author: Kaiden Do\n",
    "- comments: true\n",
    "- categories: [jupyter, week14]"
   ]
  },
  {
   "cell_type": "code",
   "execution_count": 13,
   "metadata": {},
   "outputs": [
    {
     "name": "stdout",
     "output_type": "stream",
     "text": [
      "Input: hello\n",
      "Isn't a palindrome\n",
      "Palindrome: hellolleh\n"
     ]
    }
   ],
   "source": [
    "first = input(\"What would you like to become a palindrome?\")\n",
    "print(\"Input:\", first)\n",
    "length = len(first)\n",
    "firstpart = first[0:(length-1)]\n",
    "lastchar = first[-1]\n",
    "flip = first[::-1]\n",
    "\n",
    "if first == flip:\n",
    "    print(\"Is a palindrome\")\n",
    "else:\n",
    "    print(\"Isn't a palindrome\")\n",
    "    print(\"Palindrome:\",firstpart+flip)\n"
   ]
  }
 ],
 "metadata": {
  "kernelspec": {
   "display_name": "Python 3.8.10 64-bit",
   "language": "python",
   "name": "python3"
  },
  "language_info": {
   "codemirror_mode": {
    "name": "ipython",
    "version": 3
   },
   "file_extension": ".py",
   "mimetype": "text/x-python",
   "name": "python",
   "nbconvert_exporter": "python",
   "pygments_lexer": "ipython3",
   "version": "3.8.10"
  },
  "orig_nbformat": 4,
  "vscode": {
   "interpreter": {
    "hash": "916dbcbb3f70747c44a77c7bcd40155683ae19c65e1c03b4aa3499c5328201f1"
   }
  }
 },
 "nbformat": 4,
 "nbformat_minor": 2
}
