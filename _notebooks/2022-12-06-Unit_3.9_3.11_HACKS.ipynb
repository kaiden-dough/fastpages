{
 "cells": [
  {
   "cell_type": "markdown",
   "metadata": {},
   "source": [
    "# Unit 3.9 & 3.11 Hacks\n",
    "- toc: true\n",
    "- author: Kaiden Do\n",
    "- comments: true\n",
    "- categories: [jupyter, week15]"
   ]
  },
  {
   "cell_type": "markdown",
   "metadata": {},
   "source": [
    "## Hacks\n",
    "### 3.9.1\n",
    "- why is it important to know that algorithms that look different can do the same thing and that algorithms that look the same might have different results?(0.15)\n",
    "    - **It is important to know that algorithms look different and that algorithms that look the same may have different results because when they look the same, a small difference can make it wrong. Also with different algorithms, it can do the same. It is important because I know that there are many ways to make an algorithm and I need to be careful when making algorithms.**\n",
    "- for the converted conditional to boolean conversion(0.10)"
   ]
  },
  {
   "cell_type": "code",
   "execution_count": 5,
   "metadata": {},
   "outputs": [
    {
     "name": "stdout",
     "output_type": "stream",
     "text": [
      "Drink it\n"
     ]
    }
   ],
   "source": [
    "isInedible = False\n",
    "isLiquid = True\n",
    "\n",
    "if isInedible == True:\n",
    "    print(\"Don't drink it\")\n",
    "else:\n",
    "    if isLiquid == True:\n",
    "        print(\"Drink it\")\n",
    "    else:\n",
    "        print(\"Don't drink it\")"
   ]
  },
  {
   "cell_type": "code",
   "execution_count": null,
   "metadata": {},
   "outputs": [],
   "source": [
    "isInedible = False\n",
    "isLiquid = True\n",
    "\n",
    "drinkTime = not(isInedible) and isLiquid\n",
    "if drinkTime == False:\n",
    "    print(\"Don't drink it\")\n",
    "if drinkTime == True:\n",
    "    print(\"Drink it\")"
   ]
  },
  {
   "cell_type": "markdown",
   "metadata": {},
   "source": [
    "### 3.9.2\n",
    "Develop your own complex algorithm using a flowchart and natural language, then code it!\n",
    "<html>\n",
    "<img src=\"https://raw.githubusercontent.com/kaiden-dough/fastpages/master/images/flowchartpop.png\">\n",
    "</html>\n",
    "\n",
    "1. Start\n",
    "2. There are 12 homeworks and 5 breads\n",
    "3. Repeat following steps 4-5 until there is no more bread or homework\n",
    "4. If there is more than one homework, do a homework\n",
    "5. If there is more than one bread, eat a bread\n",
    "6. Print done when finished\n",
    "7. Finish"
   ]
  },
  {
   "cell_type": "code",
   "execution_count": null,
   "metadata": {},
   "outputs": [
    {
     "name": "stdout",
     "output_type": "stream",
     "text": [
      "Homework left: 0 \n",
      "Bread left: 0\n"
     ]
    }
   ],
   "source": [
    "homework = 12\n",
    "bread = 5\n",
    "\n",
    "while (homework or bread) > 0:\n",
    "    if homework > 0:\n",
    "        homework -= 1\n",
    "    if bread > 0: \n",
    "        bread -= 1\n",
    "print(\"Homework left:\",homework,\"\\nBread left:\",bread)"
   ]
  },
  {
   "cell_type": "markdown",
   "metadata": {},
   "source": [
    "### 3.9.3\n",
    "Fix the number guessing game\n",
    "\n",
    "1. Make a flow chart for the algorithm number guessing game\n",
    "2. Make a function that gets the user guess\n",
    "3. Modify the existing search function to give more encouraging feedback"
   ]
  },
  {
   "cell_type": "code",
   "execution_count": 3,
   "metadata": {},
   "outputs": [
    {
     "name": "stdout",
     "output_type": "stream",
     "text": [
      "I'm thinking of a number between 0 and 100.\n",
      "You guessed .\n"
     ]
    },
    {
     "ename": "ValueError",
     "evalue": "invalid literal for int() with base 10: ''",
     "output_type": "error",
     "traceback": [
      "\u001b[0;31m---------------------------------------------------------------------------\u001b[0m",
      "\u001b[0;31mValueError\u001b[0m                                Traceback (most recent call last)",
      "\u001b[1;32m/home/kaiden_do/vscode/fastpages/_notebooks/2022-12-06-Unit_3.9_3.11_HACKS.ipynb Cell 8\u001b[0m in \u001b[0;36m<cell line: 37>\u001b[0;34m()\u001b[0m\n\u001b[1;32m     <a href='vscode-notebook-cell://wsl%2Bubuntu/home/kaiden_do/vscode/fastpages/_notebooks/2022-12-06-Unit_3.9_3.11_HACKS.ipynb#X10sdnNjb2RlLXJlbW90ZQ%3D%3D?line=38'>39</a>\u001b[0m num_guesses \u001b[39m+\u001b[39m\u001b[39m=\u001b[39m \u001b[39m1\u001b[39m\n\u001b[1;32m     <a href='vscode-notebook-cell://wsl%2Bubuntu/home/kaiden_do/vscode/fastpages/_notebooks/2022-12-06-Unit_3.9_3.11_HACKS.ipynb#X10sdnNjb2RlLXJlbW90ZQ%3D%3D?line=39'>40</a>\u001b[0m \u001b[39mprint\u001b[39m(\u001b[39mf\u001b[39m\u001b[39m\"\u001b[39m\u001b[39mYou guessed \u001b[39m\u001b[39m{\u001b[39;00muser_guess\u001b[39m}\u001b[39;00m\u001b[39m.\u001b[39m\u001b[39m\"\u001b[39m)\n\u001b[0;32m---> <a href='vscode-notebook-cell://wsl%2Bubuntu/home/kaiden_do/vscode/fastpages/_notebooks/2022-12-06-Unit_3.9_3.11_HACKS.ipynb#X10sdnNjb2RlLXJlbW90ZQ%3D%3D?line=40'>41</a>\u001b[0m lower_bound, upper_bound \u001b[39m=\u001b[39m search(number, user_guess)\n\u001b[1;32m     <a href='vscode-notebook-cell://wsl%2Bubuntu/home/kaiden_do/vscode/fastpages/_notebooks/2022-12-06-Unit_3.9_3.11_HACKS.ipynb#X10sdnNjb2RlLXJlbW90ZQ%3D%3D?line=41'>42</a>\u001b[0m \u001b[39mif\u001b[39;00m lower_bound \u001b[39mand\u001b[39;00m upper_bound \u001b[39m==\u001b[39m number:\n\u001b[1;32m     <a href='vscode-notebook-cell://wsl%2Bubuntu/home/kaiden_do/vscode/fastpages/_notebooks/2022-12-06-Unit_3.9_3.11_HACKS.ipynb#X10sdnNjb2RlLXJlbW90ZQ%3D%3D?line=42'>43</a>\u001b[0m     \u001b[39mbreak\u001b[39;00m\n",
      "\u001b[1;32m/home/kaiden_do/vscode/fastpages/_notebooks/2022-12-06-Unit_3.9_3.11_HACKS.ipynb Cell 8\u001b[0m in \u001b[0;36msearch\u001b[0;34m(number, guess)\u001b[0m\n\u001b[1;32m     <a href='vscode-notebook-cell://wsl%2Bubuntu/home/kaiden_do/vscode/fastpages/_notebooks/2022-12-06-Unit_3.9_3.11_HACKS.ipynb#X10sdnNjb2RlLXJlbW90ZQ%3D%3D?line=22'>23</a>\u001b[0m \u001b[39mdef\u001b[39;00m \u001b[39msearch\u001b[39m(number, guess):\n\u001b[1;32m     <a href='vscode-notebook-cell://wsl%2Bubuntu/home/kaiden_do/vscode/fastpages/_notebooks/2022-12-06-Unit_3.9_3.11_HACKS.ipynb#X10sdnNjb2RlLXJlbW90ZQ%3D%3D?line=23'>24</a>\u001b[0m     \u001b[39mglobal\u001b[39;00m lower_bound, upper_bound\n\u001b[0;32m---> <a href='vscode-notebook-cell://wsl%2Bubuntu/home/kaiden_do/vscode/fastpages/_notebooks/2022-12-06-Unit_3.9_3.11_HACKS.ipynb#X10sdnNjb2RlLXJlbW90ZQ%3D%3D?line=24'>25</a>\u001b[0m     \u001b[39mif\u001b[39;00m \u001b[39mint\u001b[39;49m(guess) \u001b[39m<\u001b[39m \u001b[39mint\u001b[39m(number):\n\u001b[1;32m     <a href='vscode-notebook-cell://wsl%2Bubuntu/home/kaiden_do/vscode/fastpages/_notebooks/2022-12-06-Unit_3.9_3.11_HACKS.ipynb#X10sdnNjb2RlLXJlbW90ZQ%3D%3D?line=25'>26</a>\u001b[0m         \u001b[39mprint\u001b[39m(\u001b[39m\"\u001b[39m\u001b[39mToo low\u001b[39m\u001b[39m\"\u001b[39m) \u001b[39m#change this\u001b[39;00m\n\u001b[1;32m     <a href='vscode-notebook-cell://wsl%2Bubuntu/home/kaiden_do/vscode/fastpages/_notebooks/2022-12-06-Unit_3.9_3.11_HACKS.ipynb#X10sdnNjb2RlLXJlbW90ZQ%3D%3D?line=26'>27</a>\u001b[0m         lower_bound \u001b[39m=\u001b[39m guess\n",
      "\u001b[0;31mValueError\u001b[0m: invalid literal for int() with base 10: ''"
     ]
    }
   ],
   "source": [
    "import random\n",
    "\n",
    "#sets variables for the game\n",
    "num_guesses = 0\n",
    "user_guess = 0\n",
    "upper_bound = 100\n",
    "lower_bound = 0\n",
    "\n",
    "#generates a random number\n",
    "number = random.randint(0,100)\n",
    "\n",
    "# print(number)     #for testing purposes\n",
    "\n",
    "print(f\"I'm thinking of a number between 0 and 100.\")\n",
    "\n",
    "#Write a function that gets a guess from the user using input()\n",
    "def guess():\n",
    "    num = input(\"What number?\")\n",
    "    #add something here\n",
    "    return num #add something here \n",
    "\n",
    "#Change the print statements to give feedback on whether the player guessed too high or too low\n",
    "def search(number, guess):\n",
    "    global lower_bound, upper_bound\n",
    "    if int(guess) < int(number):\n",
    "        print(\"Too low\") #change this\n",
    "        lower_bound = guess\n",
    "        return lower_bound, upper_bound\n",
    "    elif int(guess) > int(number):\n",
    "        print(\"Too high\") #change this\n",
    "        upper_bound = guess\n",
    "        return lower_bound, upper_bound\n",
    "    else:\n",
    "        upper_bound, lower_bound = guess, guess\n",
    "        return lower_bound, upper_bound \n",
    "\n",
    "while user_guess != number:\n",
    "    user_guess = guess()\n",
    "    num_guesses += 1\n",
    "    print(f\"You guessed {user_guess}.\")\n",
    "    lower_bound, upper_bound = search(number, user_guess)\n",
    "    if lower_bound and upper_bound == number:\n",
    "        break\n",
    "    else:\n",
    "        print(f\"Guess a number between {lower_bound} and {upper_bound}.\")\n",
    "\n",
    "print(f\"You guessed the number in {num_guesses} guesses!\")"
   ]
  }
 ],
 "metadata": {
  "kernelspec": {
   "display_name": "Python 3.9.12 ('base')",
   "language": "python",
   "name": "python3"
  },
  "language_info": {
   "codemirror_mode": {
    "name": "ipython",
    "version": 3
   },
   "file_extension": ".py",
   "mimetype": "text/x-python",
   "name": "python",
   "nbconvert_exporter": "python",
   "pygments_lexer": "ipython3",
   "version": "3.9.12"
  },
  "orig_nbformat": 4,
  "vscode": {
   "interpreter": {
    "hash": "77be5f8947de55c1b59e892625c51c53d088ff3f46dd825be25731a2df707187"
   }
  }
 },
 "nbformat": 4,
 "nbformat_minor": 2
}
