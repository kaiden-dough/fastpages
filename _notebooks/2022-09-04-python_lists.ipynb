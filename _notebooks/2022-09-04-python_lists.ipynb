{
 "cells": [
  {
   "cell_type": "markdown",
   "metadata": {},
   "source": [
    "# Python Tech Talk\n",
    "> Python lists, dictionaries, and iterations hacks.\n",
    "\n",
    "- toc: true\n",
    "- badges: false\n",
    "- comments: true\n",
    "- author: Kaiden Do\n",
    "- categories: [python, week2]\n",
    "- image: /images/pythonlogo.png"
   ]
  },
  {
   "cell_type": "markdown",
   "metadata": {},
   "source": [
    "## InfoDb Cell\n",
    "\n",
    "In the below cell, I create and add to a dictionaries to a list. Then at the end, I prompt the user to input their own information to add to the list. Then the list is printed."
   ]
  },
  {
   "cell_type": "code",
   "execution_count": 70,
   "metadata": {},
   "outputs": [
    {
     "name": "stdout",
     "output_type": "stream",
     "text": [
      "[{'FirstName': 'John', 'LastName': 'Mortensen', 'DOB': 'October 21', 'Residence': 'San Diego', 'Email': 'jmortensen@powayusd.com', 'Owns_Cars': ['2015-Fusion', '2011-Ranger', '2003-Excursion', '1997-F350', '1969-Cadillac']}, {'FirstName': 'Sunny', 'LastName': 'Naidu', 'DOB': 'August 2', 'Residence': 'Temecula', 'Email': 'snaidu@powayusd.com', 'Owns_Cars': ['4Runner']}, {'FirstName': 'Kaiden', 'LastName': 'Do', 'DOB': 'September 10', 'Residence': 'San Diego', 'Email': 'kaidend@powayusd.com', 'Owns_Cars': ['Nissan Cube']}, {'FirstName': 'Samit', 'LastName': 'Poojary', 'DOB': 'February 24', 'Residence': 'San Diego', 'Email': 'samitp@powayusd.com', 'Owns_Cars': ['Nissan Altima']}, {'FirstName': 'Kaiden', 'LastName': 'Do', 'DOB': 'September 10', 'Residence': 'San Diego', 'Email': 'kaiden12345do@gmail.com', 'Owns_Cars': 'Nissan Cube'}]\n"
     ]
    }
   ],
   "source": [
    "# Define an empty List called InfoDb\n",
    "InfoDb = []\n",
    "\n",
    "# Append to List a Dictionary of key/values related to a person and cars\n",
    "InfoDb.append({\n",
    "    \"FirstName\": \"John\",\n",
    "    \"LastName\": \"Mortensen\",\n",
    "    \"DOB\": \"October 21\",\n",
    "    \"Residence\": \"San Diego\",\n",
    "    \"Email\": \"jmortensen@powayusd.com\",\n",
    "    \"Owns_Cars\": [\"2015-Fusion\", \"2011-Ranger\", \"2003-Excursion\", \"1997-F350\", \"1969-Cadillac\"]\n",
    "})\n",
    "\n",
    "# Append to List a 2nd Dictionary of key/values\n",
    "InfoDb.append({\n",
    "    \"FirstName\": \"Sunny\",\n",
    "    \"LastName\": \"Naidu\",\n",
    "    \"DOB\": \"August 2\",\n",
    "    \"Residence\": \"Temecula\",\n",
    "    \"Email\": \"snaidu@powayusd.com\",\n",
    "    \"Owns_Cars\": [\"4Runner\"]\n",
    "})\n",
    "# Append a 3rd dictionary\n",
    "InfoDb.append({\n",
    "    \"FirstName\": \"Kaiden\",\n",
    "    \"LastName\": \"Do\",\n",
    "    \"DOB\": \"September 10\",\n",
    "    \"Residence\": \"San Diego\",\n",
    "    \"Email\": \"kaidend@powayusd.com\",\n",
    "    \"Owns_Cars\": [\"Nissan Cube\"]\n",
    "})\n",
    "# Append a 4th dictionary\n",
    "InfoDb.append({\n",
    "    \"FirstName\": \"Samit\",\n",
    "    \"LastName\": \"Poojary\",\n",
    "    \"DOB\": \"February 24\",\n",
    "    \"Residence\": \"San Diego\",\n",
    "    \"Email\": \"samitp@powayusd.com\",\n",
    "    \"Owns_Cars\": [\"Nissan Altima\"]\n",
    "})\n",
    "\n",
    "import getpass, sys\n",
    "\n",
    "\n",
    "FirstName = input(\"Enter your first name: \")\n",
    "LastName = input(\"Enter your last name: \")\n",
    "DOB = input(\"Enter your date of birth: \")\n",
    "Residence = input(\"Enter your city: \")\n",
    "Email = input(\"Enter your email: \")\n",
    "Owns_Cars = input(\"Enter your car or dream car: \")\n",
    "\n",
    "# Append a 5th dictionary with inputted values    \n",
    "InfoDb.append({\n",
    "    \"FirstName\": FirstName,\n",
    "    \"LastName\": LastName,\n",
    "    \"DOB\": DOB,\n",
    "    \"Residence\": Residence,\n",
    "    \"Email\": Email,\n",
    "    \"Owns_Cars\": Owns_Cars\n",
    "})\n",
    "\n",
    "# Print the data structure\n",
    "print(InfoDb)"
   ]
  },
  {
   "cell_type": "markdown",
   "metadata": {},
   "source": [
    "## Fruits Database\n",
    "This database is a list of fruits with 6 dictionary values. The 6 fruits are apple, orange, pineapple, pear, blueberry, and grape. Each of the dictionaries consists of keys/values for the fruits' name, color, and size."
   ]
  },
  {
   "cell_type": "code",
   "execution_count": 71,
   "metadata": {},
   "outputs": [
    {
     "name": "stdout",
     "output_type": "stream",
     "text": [
      "[{'Name': 'Apple', 'Color': 'Red', 'Size': 'Normal'}, {'Name': 'Orange', 'Color': 'Orange', 'Size': 'Normal'}, {'Name': 'Pineapple', 'Color': 'Yellow', 'Size': 'Large'}, {'Name': 'Pear', 'Color': 'Green', 'Size': 'Normal'}, {'Name': 'Blueberry', 'Color': 'Blue', 'Size': 'Small'}, {'Name': 'Grape', 'Color': 'Purple', 'Size': 'Small'}]\n"
     ]
    }
   ],
   "source": [
    "# list with dictionary values for 6 fruits\n",
    "Fruits = []\n",
    "\n",
    "# append apple dictionary\n",
    "Fruits.append({\n",
    "    \"Name\": \"Apple\",\n",
    "    \"Color\": \"Red\",\n",
    "    \"Size\": \"Normal\"\n",
    "})\n",
    "\n",
    "# append orange dictionary\n",
    "Fruits.append({\n",
    "    \"Name\": \"Orange\",\n",
    "    \"Color\": \"Orange\",\n",
    "    \"Size\": \"Normal\"\n",
    "})\n",
    "\n",
    "# append pineapple dictionary\n",
    "Fruits.append({\n",
    "    \"Name\": \"Pineapple\",\n",
    "    \"Color\": \"Yellow\",\n",
    "    \"Size\": \"Large\"\n",
    "})\n",
    "\n",
    "# append pear dictionary\n",
    "Fruits.append({\n",
    "    \"Name\": \"Pear\",\n",
    "    \"Color\": \"Green\",\n",
    "    \"Size\": \"Normal\"\n",
    "})\n",
    "\n",
    "# append blueberry dictionary\n",
    "Fruits.append({\n",
    "    \"Name\": \"Blueberry\",\n",
    "    \"Color\": \"Blue\",\n",
    "    \"Size\": \"Small\"\n",
    "})\n",
    "\n",
    "# append grape dictionary\n",
    "Fruits.append({\n",
    "    \"Name\": \"Grape\",\n",
    "    \"Color\": \"Purple\",\n",
    "    \"Size\": \"Small\"\n",
    "})\n",
    "\n",
    "# prints the whole list\n",
    "print(Fruits)"
   ]
  },
  {
   "cell_type": "markdown",
   "metadata": {},
   "source": [
    "### print_data Function\n",
    "This function is used to format the outputs of fruits when printing the fruits using some sort of loop."
   ]
  },
  {
   "cell_type": "code",
   "execution_count": 72,
   "metadata": {},
   "outputs": [],
   "source": [
    "# function that formats the list of dictionaries and prints them when called\n",
    "def print_data(d_rec):\n",
    "    print(d_rec[\"Name\"])\n",
    "    print(\"\\t\", \"Color: \", d_rec[\"Color\"])\n",
    "    print(\"\\t\", \"Size: \", d_rec[\"Size\"])\n",
    "    print()"
   ]
  },
  {
   "cell_type": "markdown",
   "metadata": {},
   "source": [
    "### For Loop\n",
    "This for loop prints the fruits and their details in order."
   ]
  },
  {
   "cell_type": "code",
   "execution_count": 73,
   "metadata": {},
   "outputs": [
    {
     "name": "stdout",
     "output_type": "stream",
     "text": [
      "For Loop\n",
      "\n",
      "Apple\n",
      "\t Color:  Red\n",
      "\t Size:  Normal\n",
      "\n",
      "Orange\n",
      "\t Color:  Orange\n",
      "\t Size:  Normal\n",
      "\n",
      "Pineapple\n",
      "\t Color:  Yellow\n",
      "\t Size:  Large\n",
      "\n",
      "Pear\n",
      "\t Color:  Green\n",
      "\t Size:  Normal\n",
      "\n",
      "Blueberry\n",
      "\t Color:  Blue\n",
      "\t Size:  Small\n",
      "\n",
      "Grape\n",
      "\t Color:  Purple\n",
      "\t Size:  Small\n",
      "\n"
     ]
    }
   ],
   "source": [
    "# printing fruits in order using a for loop\n",
    "\n",
    "def for_loop():\n",
    "    print(\"For Loop\\n\")\n",
    "    for record in Fruits: # loops for everything in Fruits\n",
    "        print_data(record) # calls the print formatter\n",
    "\n",
    "for_loop() # calls the function"
   ]
  },
  {
   "cell_type": "markdown",
   "metadata": {},
   "source": [
    "### For Loop (reversed)\n",
    "This for loop prints the fruits and their details in reverse order(from Grape to Apple)."
   ]
  },
  {
   "cell_type": "code",
   "execution_count": 74,
   "metadata": {},
   "outputs": [
    {
     "name": "stdout",
     "output_type": "stream",
     "text": [
      "For Loop with Reversed Outputs\n",
      "\n",
      "Grape\n",
      "\t Color:  Purple\n",
      "\t Size:  Small\n",
      "\n",
      "Blueberry\n",
      "\t Color:  Blue\n",
      "\t Size:  Small\n",
      "\n",
      "Pear\n",
      "\t Color:  Green\n",
      "\t Size:  Normal\n",
      "\n",
      "Pineapple\n",
      "\t Color:  Yellow\n",
      "\t Size:  Large\n",
      "\n",
      "Orange\n",
      "\t Color:  Orange\n",
      "\t Size:  Normal\n",
      "\n",
      "Apple\n",
      "\t Color:  Red\n",
      "\t Size:  Normal\n",
      "\n"
     ]
    }
   ],
   "source": [
    "# printing fruits in reversed order using a for loop\n",
    "def rev_for_loop():\n",
    "    print(\"For Loop with Reversed Outputs\\n\")\n",
    "    for record in reversed(Fruits):  # reverses the list\n",
    "        print_data(record)\n",
    "        \n",
    "rev_for_loop() # calls the function"
   ]
  },
  {
   "cell_type": "markdown",
   "metadata": {},
   "source": [
    "### While Loop (shuffled)\n",
    "This while loop prints the fruits that have been randomly shuffled."
   ]
  },
  {
   "cell_type": "code",
   "execution_count": 75,
   "metadata": {},
   "outputs": [
    {
     "name": "stdout",
     "output_type": "stream",
     "text": [
      "While Loop\n",
      "\n",
      "Blueberry\n",
      "\t Color:  Blue\n",
      "\t Size:  Small\n",
      "\n",
      "Orange\n",
      "\t Color:  Orange\n",
      "\t Size:  Normal\n",
      "\n",
      "Apple\n",
      "\t Color:  Red\n",
      "\t Size:  Normal\n",
      "\n",
      "Grape\n",
      "\t Color:  Purple\n",
      "\t Size:  Small\n",
      "\n",
      "Pear\n",
      "\t Color:  Green\n",
      "\t Size:  Normal\n",
      "\n",
      "Pineapple\n",
      "\t Color:  Yellow\n",
      "\t Size:  Large\n",
      "\n"
     ]
    }
   ],
   "source": [
    "# printing the fruits in random order using a while loop\n",
    "\n",
    "import random\n",
    "shuffledFruits = random.sample(Fruits, len(Fruits)) # randomly shuffles the list\n",
    "def while_loop():\n",
    "    print(\"While Loop\\n\")\n",
    "    i = 0\n",
    "    while i < len(shuffledFruits):  # while i is less than the length of the list, it loops\n",
    "        record = shuffledFruits[i]\n",
    "        print_data(record)\n",
    "        i += 1  # adds 1 to i each loop\n",
    "    return\n",
    "\n",
    "while_loop() # calls the function"
   ]
  },
  {
   "cell_type": "markdown",
   "metadata": {},
   "source": [
    "### Recursive Loop\n",
    "This loop prints the fruits in order using a recursive loop."
   ]
  },
  {
   "cell_type": "code",
   "execution_count": 76,
   "metadata": {},
   "outputs": [
    {
     "name": "stdout",
     "output_type": "stream",
     "text": [
      "Recursive Loop\n",
      "\n",
      "Apple\n",
      "\t Color:  Red\n",
      "\t Size:  Normal\n",
      "\n",
      "Orange\n",
      "\t Color:  Orange\n",
      "\t Size:  Normal\n",
      "\n",
      "Pineapple\n",
      "\t Color:  Yellow\n",
      "\t Size:  Large\n",
      "\n",
      "Pear\n",
      "\t Color:  Green\n",
      "\t Size:  Normal\n",
      "\n",
      "Blueberry\n",
      "\t Color:  Blue\n",
      "\t Size:  Small\n",
      "\n",
      "Grape\n",
      "\t Color:  Purple\n",
      "\t Size:  Small\n",
      "\n"
     ]
    }
   ],
   "source": [
    "def recursive_loop(x):  # keeps on looping if x is there\n",
    "    if x < len(Fruits):  # if x is less than the length of the list, it will do the following\n",
    "        # if x is greater it will stop\n",
    "        record = Fruits[x]\n",
    "        print_data(record)\n",
    "        recursive_loop(x + 1) # makes it loop again\n",
    "    return\n",
    "\n",
    "# printing fruits in order using a recursive loop\n",
    "print(\"Recursive Loop\\n\")\n",
    "recursive_loop(0) # calls the function"
   ]
  },
  {
   "cell_type": "markdown",
   "metadata": {},
   "source": [
    "## Quiz that Stores Responses\n",
    "This quiz asks the user 6 questions and saves each response. At the end, the quiz outputs the user's fraction and percentage of questions correct. Then the test outputs the user's answers."
   ]
  },
  {
   "cell_type": "code",
   "execution_count": 78,
   "metadata": {},
   "outputs": [
    {
     "name": "stdout",
     "output_type": "stream",
     "text": [
      "Question: What is 2+2?\n",
      "Answer: 4\n",
      "Correct Answer\n",
      "Question: What is the capital of California?\n",
      "Answer: SacramEnto\n",
      "Correct Answer\n",
      "Question: What continent is India in?\n",
      "Answer: ASIA\n",
      "Correct Answer\n",
      "Question: When is Christmas?\n",
      "Answer: december 25\n",
      "Correct Answer\n",
      "Question: What number is Aaron Donald?\n",
      "Answer: 99\n",
      "Correct Answer\n",
      "Question: What color is the sky\n",
      "Answer: Blue\n",
      "Correct Answer\n",
      "6 answers correct or 100.0 %\n",
      "Your answers: {'Q1': '4', 'Q2': 'SacramEnto', 'Q3': 'ASIA', 'Q4': 'december 25', 'Q5': '99', 'Q6': 'Blue'}\n"
     ]
    }
   ],
   "source": [
    "questions = 6\n",
    "correct = 0\n",
    "\n",
    "def question_and_answer(prompt, answer): # function that has the prompt and answer as parameters\n",
    "    print(\"Question: \" + prompt) # displays the prompt\n",
    "    msg = input()\n",
    "    print(\"Answer: \" + msg) # displays the user's answer\n",
    "    \n",
    "    if answer == msg.lower(): # compares the user's answer to correct answer, no regard to case\n",
    "        print(\"Correct Answer\") # if correct, prints that it is correct\n",
    "        global correct\n",
    "        correct += 1\n",
    "    else:\n",
    "        print (\"Incorrect Answer\") # if not, prints that it is incorrect\n",
    "    return msg # returns the user's answer\n",
    "\n",
    "# these add the user's answers to a list\n",
    "Q1 = question_and_answer(\"What is 2+2?\", \"4\")\n",
    "Q2 = question_and_answer(\"What is the capital of California?\", \"sacramento\")\n",
    "Q3 = question_and_answer(\"What continent is India in?\", \"asia\")\n",
    "Q4 = question_and_answer(\"When is Christmas?\", \"december 25\")\n",
    "Q5 = question_and_answer(\"What number is Aaron Donald?\", \"99\")\n",
    "Q6 = question_and_answer(\"What color is the sky\", \"blue\")\n",
    "\n",
    "print(correct, \"answers correct or\", correct*100/questions,\"%\") # calculates the user's score\n",
    "    \n",
    "Quiz = {\n",
    "    \"Q1\": Q1,\n",
    "    \"Q2\": Q2,\n",
    "    \"Q3\": Q3,\n",
    "    \"Q4\": Q4,\n",
    "    \"Q5\": Q5,\n",
    "    \"Q6\": Q6\n",
    "}\n",
    "\n",
    "print(\"Your answers:\",Quiz) # prints the user's answers"
   ]
  }
 ],
 "metadata": {
  "kernelspec": {
   "display_name": "Python 3.8.10 64-bit",
   "language": "python",
   "name": "python3"
  },
  "language_info": {
   "codemirror_mode": {
    "name": "ipython",
    "version": 3
   },
   "file_extension": ".py",
   "mimetype": "text/x-python",
   "name": "python",
   "nbconvert_exporter": "python",
   "pygments_lexer": "ipython3",
   "version": "3.8.10"
  },
  "orig_nbformat": 4,
  "vscode": {
   "interpreter": {
    "hash": "916dbcbb3f70747c44a77c7bcd40155683ae19c65e1c03b4aa3499c5328201f1"
   }
  }
 },
 "nbformat": 4,
 "nbformat_minor": 2
}
