{
 "cells": [
  {
   "cell_type": "markdown",
   "metadata": {},
   "source": [
    "# Personal Javascript\n",
    "\n",
    "- toc: true\n",
    "- badges: false\n",
    "- comments: true\n",
    "- author: Kaiden Do\n",
    "- categories: [week5]"
   ]
  },
  {
   "cell_type": "markdown",
   "metadata": {},
   "source": [
    "## My Edits on the Tutorial"
   ]
  },
  {
   "cell_type": "code",
   "execution_count": 32,
   "metadata": {},
   "outputs": [
    {
     "name": "stdout",
     "output_type": "stream",
     "text": [
      "number; 5\n",
      "string; apples\n",
      "object; [ 'Bob', 'Joe', 'Kaiden' ]\n",
      "number; 15\n"
     ]
    }
   ],
   "source": [
    "function printInfo(msg) {\n",
    "    console.log(typeof msg + \";\", msg);\n",
    "}\n",
    "\n",
    "printInfo(5);\n",
    "printInfo(\"apples\");\n",
    "printInfo([\"Bob\", \"Joe\", \"Kaiden\"]);\n",
    "printInfo(5*3)"
   ]
  },
  {
   "cell_type": "code",
   "execution_count": 33,
   "metadata": {},
   "outputs": [
    {
     "name": "stdout",
     "output_type": "stream",
     "text": [
      "object; Drink { name: 'Water', color: 'Clear', calories: 0, type: 'Water' }\n",
      "string; {\"name\":\"Water\",\"color\":\"Clear\",\"calories\":0,\"type\":\"Water\"}\n"
     ]
    }
   ],
   "source": [
    "function Drink(name, color, calories) {\n",
    "    this.name = name;\n",
    "    this.color = color;\n",
    "    this.calories = calories;\n",
    "    this.type = \"\";\n",
    "}\n",
    "\n",
    "Drink.prototype.setType = function(type) {\n",
    "    this.type = type;\n",
    "}\n",
    "\n",
    "Drink.prototype.toJSON = function() {\n",
    "    const data = {name: this.name, color: this.color, calories: this.calories, type: this.type};\n",
    "    const jsonString = JSON.stringify(data);\n",
    "    return jsonString;\n",
    "}\n",
    "\n",
    "var water = new Drink(\"Water\", \"Clear\", 0);\n",
    "water.setType(\"Water\");\n",
    "\n",
    "printInfo(water);\n",
    "printInfo(water.toJSON());"
   ]
  },
  {
   "cell_type": "code",
   "execution_count": 39,
   "metadata": {},
   "outputs": [
    {
     "name": "stdout",
     "output_type": "stream",
     "text": [
      "object; [ Drink { name: 'Water', color: 'Clear', calories: 0, type: 'Water' },\n",
      "  Drink { name: 'Fanta', color: 'Orange', calories: 160, type: 'Soda' },\n",
      "  Drink { name: 'Mtn Dew', color: 'Green', calories: 170, type: 'Soda' },\n",
      "  Drink { name: 'Root Beer', color: 'Brown', calories: 180, type: 'Soda' },\n",
      "  Drink { name: 'Coca-Cola', color: 'Brown', calories: 140, type: 'Soda' },\n",
      "  Drink { name: 'Pepsi', color: 'Brown', calories: 150, type: 'Soda' },\n",
      "  Drink { name: 'Sprite', color: 'Clear', calories: 140, type: 'Soda' },\n",
      "  Drink {\n",
      "    name: 'Apple Juice',\n",
      "    color: 'Gold-Yellow',\n",
      "    calories: 180,\n",
      "    type: 'Juice' },\n",
      "  Drink {\n",
      "    name: 'Orange Juice',\n",
      "    color: 'Orange-Yellow',\n",
      "    calories: 110,\n",
      "    type: 'Juice' },\n",
      "  Drink {\n",
      "    name: 'Cranberry Juice',\n",
      "    color: 'Red',\n",
      "    calories: 100,\n",
      "    type: 'Juice' } ]\n",
      "string; Apple Juice\n",
      "string; {\"name\":\"Apple Juice\",\"color\":\"Gold-Yellow\",\"calories\":180,\"type\":\"Juice\"}\n",
      "object; { name: 'Apple Juice',\n",
      "  color: 'Gold-Yellow',\n",
      "  calories: 180,\n",
      "  type: 'Juice' }\n"
     ]
    }
   ],
   "source": [
    "var soda = [\n",
    "    new Drink(\"Fanta\", \"Orange\", 160),\n",
    "    new Drink(\"Mtn Dew\", \"Green\", 170),\n",
    "    new Drink(\"Root Beer\", \"Brown\", 180),\n",
    "    new Drink(\"Coca-Cola\", \"Brown\", 140),\n",
    "    new Drink(\"Pepsi\", \"Brown\", 150),\n",
    "    new Drink(\"Sprite\", \"Clear\", 140)\n",
    "]\n",
    "\n",
    "var juice = [\n",
    "    new Drink(\"Apple Juice\", \"Gold-Yellow\", 180),\n",
    "    new Drink(\"Orange Juice\", \"Orange-Yellow\", 110),\n",
    "    new Drink(\"Cranberry Juice\", \"Red\", 100),\n",
    "]\n",
    "\n",
    "function Drinks(water, soda, juice) {\n",
    "    water.setType(\"Water\");\n",
    "    this.water = water;\n",
    "    this.drinks = [water];\n",
    "    this.soda = soda;\n",
    "    this.juice = juice;\n",
    "    this.soda.forEach(soda => {soda.setType(\"Soda\"); this.drinks.push(soda);});\n",
    "    this.juice.forEach(juice => {juice.setType(\"Juice\"); this.drinks.push(juice);});\n",
    "    this.jsonDrinks = [];\n",
    "    this.drinks.forEach(drink => this.jsonDrinks.push(drink.toJSON()));\n",
    "}\n",
    "\n",
    "pantry = new Drinks(water, soda, juice);\n",
    "\n",
    "printInfo(pantry.drinks);\n",
    "printInfo(pantry.drinks[7].name);\n",
    "printInfo(pantry.jsonDrinks[7]);\n",
    "printInfo(JSON.parse(pantry.jsonDrinks[7]));"
   ]
  }
 ],
 "metadata": {
  "kernelspec": {
   "display_name": "JavaScript (Node.js)",
   "language": "javascript",
   "name": "javascript"
  },
  "language_info": {
   "file_extension": ".js",
   "mimetype": "application/javascript",
   "name": "javascript",
   "version": "6.11.2"
  },
  "orig_nbformat": 4,
  "vscode": {
   "interpreter": {
    "hash": "916dbcbb3f70747c44a77c7bcd40155683ae19c65e1c03b4aa3499c5328201f1"
   }
  }
 },
 "nbformat": 4,
 "nbformat_minor": 2
}
