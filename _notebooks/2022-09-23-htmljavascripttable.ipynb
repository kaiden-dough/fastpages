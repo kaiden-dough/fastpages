{
 "cells": [
  {
   "cell_type": "markdown",
   "metadata": {},
   "source": [
    "# HTML & JavaScript Table\n",
    "\n",
    "- toc: true\n",
    "- badges: false\n",
    "- comments: true\n",
    "- author: Kaiden Do\n",
    "- categories: [week5]"
   ]
  },
  {
   "cell_type": "markdown",
   "metadata": {},
   "source": [
    "{% include navbarsubmenu.html %}"
   ]
  },
  {
   "cell_type": "code",
   "execution_count": 1,
   "metadata": {},
   "outputs": [
    {
     "ename": "ReferenceError",
     "evalue": "Drinks is not defined",
     "output_type": "error",
     "traceback": [
      "evalmachine.<anonymous>:1",
      "Drinks.prototype._toHtml = function() {",
      "^",
      "",
      "ReferenceError: Drinks is not defined",
      "    at evalmachine.<anonymous>:1:1",
      "    at ContextifyScript.Script.runInThisContext (vm.js:25:33)",
      "    at Object.runInThisContext (vm.js:97:38)",
      "    at run ([eval]:1020:15)",
      "    at onRunRequest ([eval]:864:18)",
      "    at onMessage ([eval]:828:13)",
      "    at emitTwo (events.js:106:13)",
      "    at process.emit (events.js:191:7)",
      "    at process.nextTick (internal/child_process.js:758:12)",
      "    at _combinedTickCallback (internal/process/next_tick.js:73:7)"
     ]
    }
   ],
   "source": [
    "Drinks.prototype._toHtml = function() {\n",
    "    var style = (\n",
    "      \"display:inline-block;\" +\n",
    "      \"border: 5px solid green;\" +\n",
    "      \"box-shadow: 1em 1em 1em yellow;\"\n",
    "    );\n",
    "    var body = \"\";\n",
    "    body += \"<tr>\";\n",
    "    body += \"<th><b>\" + \"Name\" + \"</b></th>\";\n",
    "    body += \"<th><b>\" + \"Color\" + \"</b></th>\";\n",
    "    body += \"<th><b>\" + \"Calories\" + \"</b></th>\";\n",
    "    body += \"<th><b>\" + \"Type\" + \"</b></th>\";\n",
    "    body += \"</tr>\";\n",
    "    for (var row of pantry.drinks) {\n",
    "      body += \"<tr>\";\n",
    "      body += \"<td>\" + row.name + \"</td>\";\n",
    "      body += \"<td>\" + row.color + \"</td>\";\n",
    "      body += \"<td>\" + row.calories + \"</td>\";\n",
    "      body += \"<td>\" + row.type + \"</td>\";\n",
    "      body += \"<tr>\";\n",
    "    }\n",
    "  \n",
    "    return (\n",
    "      \"<div style='\" + style + \"'>\" +\n",
    "        \"<table>\" +\n",
    "          body +\n",
    "        \"</table>\" +\n",
    "      \"</div>\"\n",
    "    );\n",
    "  \n",
    "  };\n",
    "  \n",
    "  $$.html(pantry._toHtml());"
   ]
  }
 ],
 "metadata": {
  "kernelspec": {
   "display_name": "JavaScript (Node.js)",
   "language": "javascript",
   "name": "javascript"
  },
  "language_info": {
   "file_extension": ".js",
   "mimetype": "application/javascript",
   "name": "javascript",
   "version": "6.11.2"
  },
  "orig_nbformat": 4,
  "vscode": {
   "interpreter": {
    "hash": "916dbcbb3f70747c44a77c7bcd40155683ae19c65e1c03b4aa3499c5328201f1"
   }
  }
 },
 "nbformat": 4,
 "nbformat_minor": 2
}
