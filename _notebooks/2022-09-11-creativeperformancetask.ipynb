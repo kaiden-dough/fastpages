{
 "cells": [
  {
   "cell_type": "markdown",
   "metadata": {},
   "source": [
    "# Creative Performance Task Planning/Draft\n",
    "> My plan and draft for my creative performance task\n",
    "\n",
    "- toc: true\n",
    "- badges: false\n",
    "- comments: true\n",
    "- author: Kaiden Do\n",
    "- categories: [jupyter, week3]\n",
    "- image: /images/cblogo.jpeg"
   ]
  },
  {
   "cell_type": "markdown",
   "metadata": {},
   "source": [
    "## Row 1: Program Purpose and Function\n",
    "I need to show a program that takes an input and uses that input to produce an output. I need to be able to describe in words wht the program is trying to achieve, how the program functions, and describe what the input and output are in the program. I am currently able to do these things because I can take a user's input to output a result.\n",
    "\n",
    "## Row 2: Data Abstraction\n",
    "I need to create a data structure that can store data and use that data structure in a function. I need to identify the variable of the list and describe what the list's data is used for in the program. I am able to do this with the positioning of the tiles in the AppLab. The data in the list is used to position the tiles on the x and y coordinates.\n",
    "\n",
    "## Row 3: Managing Complexity\n",
    "I need to utilize a list to reduce to complexity or redundancy of a program. I can do this by using the list in a for loop and completing a function for each part of the list until the list is fully used.\n",
    "\n",
    "## Row 4: Procedural Abstraction\n",
    "I need to create a function that receives a parameter that can affect the result of the function. I can do this by creating a function that receives user inputs as a function and compiles it into a string or result.\n",
    "\n",
    "## Row 5: Algorithm Implementation\n",
    "I need to use sequencing, selection, and iteration. I am not sure how to use sequencing and selection and I can learn through College Board or online resources. I do know how to use iteration and this is by using loops.\n",
    "\n",
    "## Row 6: Testing\n",
    "I need to test two different parameters into the function created before by calling the function. I can do this by inputting different responses when taking user input."
   ]
  }
 ],
 "metadata": {
  "kernelspec": {
   "display_name": "Python 3.8.10 64-bit",
   "language": "python",
   "name": "python3"
  },
  "language_info": {
   "name": "python",
   "version": "3.8.10"
  },
  "orig_nbformat": 4,
  "vscode": {
   "interpreter": {
    "hash": "916dbcbb3f70747c44a77c7bcd40155683ae19c65e1c03b4aa3499c5328201f1"
   }
  }
 },
 "nbformat": 4,
 "nbformat_minor": 2
}
