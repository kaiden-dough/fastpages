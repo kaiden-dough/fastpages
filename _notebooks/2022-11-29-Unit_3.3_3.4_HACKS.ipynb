{
 "cells": [
  {
   "cell_type": "markdown",
   "metadata": {},
   "source": [
    "# Unit 3.3 & 3.4 Hacks\n",
    "- toc: true\n",
    "- author: Kaiden Do\n",
    "- comments: true\n",
    "- categories: [jupyter, week14]"
   ]
  },
  {
   "cell_type": "markdown",
   "metadata": {},
   "source": [
    "## Hack 1\n",
    "- Sequencing: 1, 2, 3, 4, 5\n",
    "- Selection: 3\n",
    "- Iteration: 4"
   ]
  },
  {
   "cell_type": "markdown",
   "metadata": {},
   "source": [
    "## Hack 2\n",
    "Evaluate the arithmetic expression or this code:\n",
    "\n",
    "num1 = 5\n",
    "\n",
    "num2 = num1 * 3 ***15***\n",
    "\n",
    "num3 = num2 / num1 * (9 % 2) * 4 ***12***\n",
    "\n",
    "result = (num3 % num1 + num2) % num3 * 3 / 5 ***3***\n",
    "\n",
    "\n",
    "**result = 3**\n",
    "\n",
    "HACK for 3.3! CROSS WORD PUZZLE!\n",
    "\n",
    "- 1 down ITERATION\n",
    "- 2 down SELECTION\n",
    "- 3 across SEQUENCE"
   ]
  },
  {
   "cell_type": "markdown",
   "metadata": {},
   "source": [
    "## Hack 3\n",
    "Quiz\n",
    "![]({{ site.baseurl }}/images/quizzz.png)"
   ]
  }
 ],
 "metadata": {
  "kernelspec": {
   "display_name": "Python 3.8.10 64-bit",
   "language": "python",
   "name": "python3"
  },
  "language_info": {
   "name": "python",
   "version": "3.8.10"
  },
  "orig_nbformat": 4,
  "vscode": {
   "interpreter": {
    "hash": "916dbcbb3f70747c44a77c7bcd40155683ae19c65e1c03b4aa3499c5328201f1"
   }
  }
 },
 "nbformat": 4,
 "nbformat_minor": 2
}
