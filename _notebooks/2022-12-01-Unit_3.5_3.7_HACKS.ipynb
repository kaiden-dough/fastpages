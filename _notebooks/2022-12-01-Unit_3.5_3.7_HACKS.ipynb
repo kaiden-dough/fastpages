{
 "cells": [
  {
   "cell_type": "markdown",
   "metadata": {},
   "source": [
    "# Unit 3.5 - 3.7 Hacks\n",
    "- toc: true\n",
    "- author: Kaiden Do\n",
    "- comments: true\n",
    "- categories: [jupyter, week14]"
   ]
  },
  {
   "cell_type": "markdown",
   "metadata": {},
   "source": [
    "## Lesson 3.5 Hacks\n",
    "- Explain in your own words what each logical operator does\n",
    "    - **NOT: returns the opposite of the data given, ex: if given true --> NOT would make it false**\n",
    "    - **AND: has two conditions and it sees if they are both met, ex: if a number is 5 --> must be greater than 0 AND less than 4, therefore false**\n",
    "    - **OR: determines of one of the two conditions set are met, ex: if a number is 5 --> must be greater than 0 AND less than 4, therefore true**"
   ]
  },
  {
   "cell_type": "markdown",
   "metadata": {},
   "source": [
    "- Code your own scenario that makes sense for each logical operator"
   ]
  },
  {
   "cell_type": "code",
   "execution_count": 5,
   "metadata": {},
   "outputs": [
    {
     "name": "stdout",
     "output_type": "stream",
     "text": [
      "NOT\n",
      "It is cold\n",
      "\n",
      "AND\n",
      "Is old enough and can afford a ticket\n",
      "\n",
      "OR\n",
      "Can enter the building\n"
     ]
    }
   ],
   "source": [
    "print(\"NOT\")\n",
    "isHot = False\n",
    "if not isHot:\n",
    "    print(\"It is cold\")\n",
    "print(\"\")\n",
    "print(\"AND\")\n",
    "age = 20\n",
    "wallet = 50\n",
    "ticket = 25\n",
    "if age >= 18 and wallet >= ticket:\n",
    "    print(\"Is old enough and can afford a ticket\")\n",
    "print(\"\")\n",
    "print(\"OR\")\n",
    "member = True\n",
    "escorted = False\n",
    "if member or escorted:\n",
    "    print(\"Can enter the building\")"
   ]
  },
  {
   "cell_type": "markdown",
   "metadata": {},
   "source": [
    "## Lesson 3.6 Hacks\n",
    "- 1 point for defining all the key terms in your own words. 0.5 points if you use examples that show you truly understand it.\n",
    "    - **Selection: if a condition is true, then a piece of code would execute**\n",
    "    - **Algorithm: a procedure of code that does something or a task**\n",
    "    - **Conditional statement: statement that dictates and affects the order code is executed if a condition is true**\n",
    "- 1 point for writing a program that uses binary conditional logic. 0.5 points if it is original and shows complexity"
   ]
  },
  {
   "cell_type": "code",
   "execution_count": 20,
   "metadata": {},
   "outputs": [
    {
     "name": "stdout",
     "output_type": "stream",
     "text": [
      "OR: 5 | 4 --> 5\n"
     ]
    }
   ],
   "source": [
    "number1 = int(input(\"What is number 1?\"))\n",
    "number2 = int(input(\"What is number 2?\"))\n",
    "cond = input(\"AND, OR, XOR?\").lower()\n",
    "if cond == \"and\":\n",
    "    print(\"AND:\", number1, \"&\", number2, \"-->\", number1 & number2)\n",
    "elif cond ==\"or\":\n",
    "    print(\"OR:\", number1, \"|\", number2, \"-->\", number1 | number2)\n",
    "elif cond ==\"xor\":\n",
    "    print(\"XOR:\", number1, \"^\", number2, \"-->\", number1 ^ number2)\n",
    "else:\n",
    "    print(\"Error\")"
   ]
  },
  {
   "cell_type": "markdown",
   "metadata": {},
   "source": [
    "## Lesson 3.7 Hacks\n",
    "- Create 3 different flow charts representing nested statements and transfer them into code.\n",
    "1. ![]({{ site.baseurl }}/images/flow1.png)"
   ]
  },
  {
   "cell_type": "code",
   "execution_count": 22,
   "metadata": {},
   "outputs": [
    {
     "name": "stdout",
     "output_type": "stream",
     "text": [
      "I will buy\n",
      "Thanks\n"
     ]
    }
   ],
   "source": [
    "carColor = \"blue\"\n",
    "carPrice = 20000\n",
    "color = input(\"What car color?\")\n",
    "budget = input(\"What budget?\")\n",
    "if carColor == color:\n",
    "  if carPrice <= int(budget):\n",
    "    print(\"I will buy\")\n",
    "  else:\n",
    "    print(\"Too expensive\")\n",
    "\n",
    "else:\n",
    "  if carPrice <= int(budget)/2:\n",
    "    print(\"I will buy because cheap\")\n",
    "  else:\n",
    "    print(\"Wrong color and too expensive\")\n",
    "print(\"Thanks\")"
   ]
  },
  {
   "cell_type": "markdown",
   "metadata": {},
   "source": [
    "2. ![]({{ site.baseurl }}/images/flow2.png)"
   ]
  },
  {
   "cell_type": "code",
   "execution_count": 24,
   "metadata": {},
   "outputs": [
    {
     "name": "stdout",
     "output_type": "stream",
     "text": [
      "59 is less than 60 and is odd\n",
      "Comparison\n"
     ]
    }
   ],
   "source": [
    "w = int(input(\"What is w?\"))\n",
    "z = int(input(\"What is z?\"))\n",
    "if w > z:\n",
    "  if w%2 == 0:\n",
    "    print(w, \"is greater than\", z, \"and is even\")\n",
    "  else:\n",
    "    print(w, \"is greater than\", z, \"and is odd\")\n",
    "else:\n",
    "  if w%2 == 0:\n",
    "    print(w, \"is less than\", z, \"and is even\")\n",
    "  else:\n",
    "    print(w, \"is less than\", z, \"and is odd\")\n",
    "print(\"Comparison\")"
   ]
  },
  {
   "cell_type": "markdown",
   "metadata": {},
   "source": [
    "3. ![]({{ site.baseurl }}/images/flow3.png)"
   ]
  },
  {
   "cell_type": "code",
   "execution_count": 27,
   "metadata": {},
   "outputs": [
    {
     "name": "stdout",
     "output_type": "stream",
     "text": [
      "Too Large 6 > 3\n",
      "Done\n"
     ]
    }
   ],
   "source": [
    "t = int(input(\"What is t?\"))\n",
    "m = int(input(\"What is m?\"))\n",
    "if t == m:\n",
    "  print(\"Very Good\", t, \"=\", m)\n",
    "else:\n",
    "  if t < m:\n",
    "    print(\"Too Small\", t, \"<\", m)\n",
    "  else:\n",
    "    print(\"Too Large\", t, \">\", m)\n",
    "print(\"Done\")"
   ]
  },
  {
   "cell_type": "markdown",
   "metadata": {},
   "source": [
    "- Create a piece of code that displays four statements instead of three. Try to do more if you can."
   ]
  },
  {
   "cell_type": "code",
   "execution_count": 29,
   "metadata": {},
   "outputs": [
    {
     "name": "stdout",
     "output_type": "stream",
     "text": [
      "age: 9\n",
      "grade: 6\n",
      "You are advanced\n"
     ]
    }
   ],
   "source": [
    "age = int(input(\"What is your age?\"))\n",
    "grade = int(input(\"What is your grade?\"))\n",
    "print(\"age:\", age)\n",
    "print(\"grade:\", grade)\n",
    "if grade >= 1 and age >= 7:\n",
    "    if (grade + 6) == age:\n",
    "        print(\"You are normal\")\n",
    "    elif (grade + 6) > age:\n",
    "        print(\"You are advanced\")\n",
    "    else:\n",
    "        print(\"You are dumb\")\n",
    "else:\n",
    "    print(\"You are very young\")"
   ]
  },
  {
   "cell_type": "markdown",
   "metadata": {},
   "source": [
    "- Make piece of code that gives three different recommendations for possible classes to take at a school based on two different conditions. These conditions could be if the student likes STEM or not."
   ]
  },
  {
   "cell_type": "code",
   "execution_count": 34,
   "metadata": {},
   "outputs": [
    {
     "name": "stdout",
     "output_type": "stream",
     "text": [
      "answer: y/n\n",
      "Math?: n\n",
      "English?: y\n",
      "Science?: y\n",
      "History?: y\n",
      "Take English 101\n",
      "Take Science 101\n",
      "Take History 101\n"
     ]
    }
   ],
   "source": [
    "print(\"answer: y/n\")\n",
    "math = input(\"Do you like math?\")\n",
    "english = input(\"Do you like english?\")\n",
    "science = input(\"Do you like science?\")\n",
    "history = input(\"Do you like history?\")\n",
    "print(\"Math?:\", math)\n",
    "print(\"English?:\", english)\n",
    "print(\"Science?:\", science)\n",
    "print(\"History?:\", history)\n",
    "if math == \"y\":\n",
    "    print(\"Take Math 101\")\n",
    "    if english == \"y\":\n",
    "        print(\"Take English 101\")\n",
    "    if science == \"y\":\n",
    "        print(\"Take Science 101\")\n",
    "    if history == \"y\":\n",
    "        print(\"Take History 101\")\n",
    "elif english == \"y\":\n",
    "    print(\"Take English 101\")\n",
    "    if science == \"y\":\n",
    "        print(\"Take Science 101\")\n",
    "    if history == \"y\":\n",
    "        print(\"Take History 101\")\n",
    "elif science == \"y\":\n",
    "    print(\"Take Science 101\")\n",
    "    if history == \"y\":\n",
    "        print(\"Take History 101\")\n",
    "else:\n",
    "    print(\"Take History 101\")"
   ]
  }
 ],
 "metadata": {
  "kernelspec": {
   "display_name": "Python 3.8.10 64-bit",
   "language": "python",
   "name": "python3"
  },
  "language_info": {
   "codemirror_mode": {
    "name": "ipython",
    "version": 3
   },
   "file_extension": ".py",
   "mimetype": "text/x-python",
   "name": "python",
   "nbconvert_exporter": "python",
   "pygments_lexer": "ipython3",
   "version": "3.8.10"
  },
  "orig_nbformat": 4,
  "vscode": {
   "interpreter": {
    "hash": "916dbcbb3f70747c44a77c7bcd40155683ae19c65e1c03b4aa3499c5328201f1"
   }
  }
 },
 "nbformat": 4,
 "nbformat_minor": 2
}
